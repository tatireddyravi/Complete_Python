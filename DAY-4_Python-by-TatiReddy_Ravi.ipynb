{
 "cells": [
  {
   "cell_type": "markdown",
   "id": "36aa0bf4",
   "metadata": {},
   "source": [
    "## OOPs [Object-Oriented Programming] in Python\n",
    "- Object-Oriented Programming (OOP) is a programming paradigm that organizes code by modeling real-world entities as objects, which have both data (attributes) and behaviors (methods). Python fully supports OOP principles, making it a powerful language for designing and implementing complex systems. "
   ]
  },
  {
   "cell_type": "markdown",
   "id": "07ae8a95",
   "metadata": {},
   "source": [
    "### class\n",
    "- A class is a blueprint or template for creating objects. It defines the structure and behaviour that its objects will have. It is a logical entity that contains some atributes and methods."
   ]
  },
  {
   "cell_type": "code",
   "execution_count": 1,
   "id": "5eddddf3",
   "metadata": {},
   "outputs": [
    {
     "ename": "IndentationError",
     "evalue": "expected an indented block (3875607521.py, line 3)",
     "output_type": "error",
     "traceback": [
      "\u001b[1;36m  Input \u001b[1;32mIn [1]\u001b[1;36m\u001b[0m\n\u001b[1;33m    \u001b[0m\n\u001b[1;37m    ^\u001b[0m\n\u001b[1;31mIndentationError\u001b[0m\u001b[1;31m:\u001b[0m expected an indented block\n"
     ]
    }
   ],
   "source": [
    "# creating class using keyword class\n",
    "class test:\n",
    "    "
   ]
  },
  {
   "cell_type": "code",
   "execution_count": 4,
   "id": "fd67bec0",
   "metadata": {},
   "outputs": [],
   "source": [
    "class Test:\n",
    "    pass\n",
    "# It is good in practice if we use first letter capital of class name"
   ]
  },
  {
   "cell_type": "code",
   "execution_count": 5,
   "id": "68a7be27",
   "metadata": {},
   "outputs": [
    {
     "name": "stdout",
     "output_type": "stream",
     "text": [
      "this is test class\n"
     ]
    }
   ],
   "source": [
    "class Test:\n",
    "    print('this is test class')"
   ]
  },
  {
   "cell_type": "markdown",
   "id": "015ae403",
   "metadata": {},
   "source": [
    "### object\n",
    "- An object is an instance of a class. It is created using the blueprint defined by the class."
   ]
  },
  {
   "cell_type": "code",
   "execution_count": 27,
   "id": "02b38337",
   "metadata": {},
   "outputs": [],
   "source": [
    "class Employee:\n",
    "    company_name='ABC company'\n",
    "    def details(self,name,salary):\n",
    "        self.name=name\n",
    "        self.salary=salary\n",
    "# Here company_name is attribute and details is a method(function)"
   ]
  },
  {
   "cell_type": "code",
   "execution_count": 33,
   "id": "da9ac686",
   "metadata": {},
   "outputs": [],
   "source": [
    "emp1=Employee()\n",
    "emp2=Employee()"
   ]
  },
  {
   "cell_type": "markdown",
   "id": "a76b3a1a",
   "metadata": {},
   "source": [
    "- In the above example **emp1** and is an object of an **Employee** class."
   ]
  },
  {
   "cell_type": "code",
   "execution_count": 29,
   "id": "f259527d",
   "metadata": {},
   "outputs": [
    {
     "ename": "TypeError",
     "evalue": "'str' object is not callable",
     "output_type": "error",
     "traceback": [
      "\u001b[1;31m---------------------------------------------------------------------------\u001b[0m",
      "\u001b[1;31mTypeError\u001b[0m                                 Traceback (most recent call last)",
      "Input \u001b[1;32mIn [29]\u001b[0m, in \u001b[0;36m<cell line: 1>\u001b[1;34m()\u001b[0m\n\u001b[1;32m----> 1\u001b[0m \u001b[43memp1\u001b[49m\u001b[38;5;241;43m.\u001b[39;49m\u001b[43mcompany_name\u001b[49m\u001b[43m(\u001b[49m\u001b[43m)\u001b[49m\n",
      "\u001b[1;31mTypeError\u001b[0m: 'str' object is not callable"
     ]
    }
   ],
   "source": [
    "emp1.company_name()"
   ]
  },
  {
   "cell_type": "code",
   "execution_count": 30,
   "id": "14c7f55e",
   "metadata": {},
   "outputs": [
    {
     "data": {
      "text/plain": [
       "'ABC company'"
      ]
     },
     "execution_count": 30,
     "metadata": {},
     "output_type": "execute_result"
    }
   ],
   "source": [
    "emp1.company_name"
   ]
  },
  {
   "cell_type": "code",
   "execution_count": 31,
   "id": "228e96b0",
   "metadata": {},
   "outputs": [
    {
     "ename": "TypeError",
     "evalue": "details() missing 2 required positional arguments: 'name' and 'salary'",
     "output_type": "error",
     "traceback": [
      "\u001b[1;31m---------------------------------------------------------------------------\u001b[0m",
      "\u001b[1;31mTypeError\u001b[0m                                 Traceback (most recent call last)",
      "Input \u001b[1;32mIn [31]\u001b[0m, in \u001b[0;36m<cell line: 1>\u001b[1;34m()\u001b[0m\n\u001b[1;32m----> 1\u001b[0m \u001b[43memp1\u001b[49m\u001b[38;5;241;43m.\u001b[39;49m\u001b[43mdetails\u001b[49m\u001b[43m(\u001b[49m\u001b[43m)\u001b[49m\n",
      "\u001b[1;31mTypeError\u001b[0m: details() missing 2 required positional arguments: 'name' and 'salary'"
     ]
    }
   ],
   "source": [
    "emp1.details()"
   ]
  },
  {
   "cell_type": "code",
   "execution_count": 32,
   "id": "9d584078",
   "metadata": {},
   "outputs": [],
   "source": [
    "emp1.details('ravi',200e3)"
   ]
  },
  {
   "cell_type": "code",
   "execution_count": 25,
   "id": "3f4cd4d4",
   "metadata": {},
   "outputs": [
    {
     "name": "stdout",
     "output_type": "stream",
     "text": [
      "ravi\n"
     ]
    }
   ],
   "source": [
    "print(emp1.name)"
   ]
  },
  {
   "cell_type": "code",
   "execution_count": 26,
   "id": "d71b8d6e",
   "metadata": {},
   "outputs": [
    {
     "name": "stdout",
     "output_type": "stream",
     "text": [
      "200000.0\n"
     ]
    }
   ],
   "source": [
    "print(emp1.salary)"
   ]
  },
  {
   "cell_type": "code",
   "execution_count": 34,
   "id": "751ac7f8",
   "metadata": {},
   "outputs": [
    {
     "data": {
      "text/plain": [
       "'ABC company'"
      ]
     },
     "execution_count": 34,
     "metadata": {},
     "output_type": "execute_result"
    }
   ],
   "source": [
    "emp2.company_name"
   ]
  },
  {
   "cell_type": "code",
   "execution_count": 35,
   "id": "ba3e8521",
   "metadata": {},
   "outputs": [
    {
     "data": {
      "text/plain": [
       "<bound method Employee.details of <__main__.Employee object at 0x0000026FF4BD54C0>>"
      ]
     },
     "execution_count": 35,
     "metadata": {},
     "output_type": "execute_result"
    }
   ],
   "source": [
    "emp2.details"
   ]
  },
  {
   "cell_type": "code",
   "execution_count": 36,
   "id": "ab4b3ed1",
   "metadata": {},
   "outputs": [
    {
     "ename": "TypeError",
     "evalue": "details() missing 2 required positional arguments: 'name' and 'salary'",
     "output_type": "error",
     "traceback": [
      "\u001b[1;31m---------------------------------------------------------------------------\u001b[0m",
      "\u001b[1;31mTypeError\u001b[0m                                 Traceback (most recent call last)",
      "Input \u001b[1;32mIn [36]\u001b[0m, in \u001b[0;36m<cell line: 1>\u001b[1;34m()\u001b[0m\n\u001b[1;32m----> 1\u001b[0m \u001b[43memp2\u001b[49m\u001b[38;5;241;43m.\u001b[39;49m\u001b[43mdetails\u001b[49m\u001b[43m(\u001b[49m\u001b[43m)\u001b[49m\n",
      "\u001b[1;31mTypeError\u001b[0m: details() missing 2 required positional arguments: 'name' and 'salary'"
     ]
    }
   ],
   "source": [
    "emp2.details()"
   ]
  },
  {
   "cell_type": "code",
   "execution_count": 38,
   "id": "92823c55",
   "metadata": {},
   "outputs": [
    {
     "ename": "TypeError",
     "evalue": "details() missing 1 required positional argument: 'salary'",
     "output_type": "error",
     "traceback": [
      "\u001b[1;31m---------------------------------------------------------------------------\u001b[0m",
      "\u001b[1;31mTypeError\u001b[0m                                 Traceback (most recent call last)",
      "Input \u001b[1;32mIn [38]\u001b[0m, in \u001b[0;36m<cell line: 1>\u001b[1;34m()\u001b[0m\n\u001b[1;32m----> 1\u001b[0m \u001b[43memp2\u001b[49m\u001b[38;5;241;43m.\u001b[39;49m\u001b[43mdetails\u001b[49m\u001b[43m(\u001b[49m\u001b[38;5;124;43m'\u001b[39;49m\u001b[38;5;124;43mMadhu\u001b[39;49m\u001b[38;5;124;43m'\u001b[39;49m\u001b[43m)\u001b[49m\n",
      "\u001b[1;31mTypeError\u001b[0m: details() missing 1 required positional argument: 'salary'"
     ]
    }
   ],
   "source": [
    "emp2.details('Madhu')"
   ]
  },
  {
   "cell_type": "code",
   "execution_count": 39,
   "id": "59ec9b8e",
   "metadata": {},
   "outputs": [
    {
     "ename": "TypeError",
     "evalue": "details() missing 1 required positional argument: 'salary'",
     "output_type": "error",
     "traceback": [
      "\u001b[1;31m---------------------------------------------------------------------------\u001b[0m",
      "\u001b[1;31mTypeError\u001b[0m                                 Traceback (most recent call last)",
      "Input \u001b[1;32mIn [39]\u001b[0m, in \u001b[0;36m<cell line: 1>\u001b[1;34m()\u001b[0m\n\u001b[1;32m----> 1\u001b[0m \u001b[43memp2\u001b[49m\u001b[38;5;241;43m.\u001b[39;49m\u001b[43mdetails\u001b[49m\u001b[43m(\u001b[49m\u001b[38;5;241;43m300e3\u001b[39;49m\u001b[43m)\u001b[49m\n",
      "\u001b[1;31mTypeError\u001b[0m: details() missing 1 required positional argument: 'salary'"
     ]
    }
   ],
   "source": [
    "emp2.details(300e3)"
   ]
  },
  {
   "cell_type": "code",
   "execution_count": 40,
   "id": "1728fa2f",
   "metadata": {},
   "outputs": [
    {
     "ename": "TypeError",
     "evalue": "details() takes 3 positional arguments but 4 were given",
     "output_type": "error",
     "traceback": [
      "\u001b[1;31m---------------------------------------------------------------------------\u001b[0m",
      "\u001b[1;31mTypeError\u001b[0m                                 Traceback (most recent call last)",
      "Input \u001b[1;32mIn [40]\u001b[0m, in \u001b[0;36m<cell line: 1>\u001b[1;34m()\u001b[0m\n\u001b[1;32m----> 1\u001b[0m \u001b[43memp2\u001b[49m\u001b[38;5;241;43m.\u001b[39;49m\u001b[43mdetails\u001b[49m\u001b[43m(\u001b[49m\u001b[38;5;124;43m'\u001b[39;49m\u001b[38;5;124;43mmadhu\u001b[39;49m\u001b[38;5;124;43m'\u001b[39;49m\u001b[43m,\u001b[49m\u001b[38;5;241;43m21451\u001b[39;49m\u001b[43m,\u001b[49m\u001b[38;5;241;43m300e3\u001b[39;49m\u001b[43m)\u001b[49m\n",
      "\u001b[1;31mTypeError\u001b[0m: details() takes 3 positional arguments but 4 were given"
     ]
    }
   ],
   "source": [
    "emp2.details('madhu',21451,300e3)"
   ]
  },
  {
   "cell_type": "code",
   "execution_count": 41,
   "id": "470cefc2",
   "metadata": {},
   "outputs": [],
   "source": [
    "emp2.details('madhu',300e3)"
   ]
  },
  {
   "cell_type": "code",
   "execution_count": 52,
   "id": "d1724211",
   "metadata": {},
   "outputs": [
    {
     "name": "stdout",
     "output_type": "stream",
     "text": [
      "the name of the employee is:  madhu\n",
      "salary is: 300000.0\n"
     ]
    }
   ],
   "source": [
    "print('the name of the employee is: ',emp2.name)\n",
    "print('salary is:',emp2.salary)"
   ]
  },
  {
   "cell_type": "markdown",
   "id": "faf83668",
   "metadata": {},
   "source": [
    "### \\_\\_init\\_\\_ Method:\n",
    "-  \\_\\_init\\_\\_ method is a special method or constructor in python classes that is automatically called when an object of the class is created.\n",
    "- it is used to initialize the attributes of an object.\n",
    "- The first parameter of the **\\_\\_init\\_\\_** method is conventionally named **self**, which refers to the instance of the object being created."
   ]
  },
  {
   "cell_type": "markdown",
   "id": "24ce5137",
   "metadata": {},
   "source": [
    "### self parameter\n",
    "- In python class methods, including \\_\\_init\\_\\_ method the first parameter is always a pointer conventionally denoted By 'self'.\n",
    "- **self** represents the instance of an object itself.It is used to access the attributes and methods of the object within the class.\n",
    "- When you create an object from a class, Python automatically passes the object's instance as the self parameter to methods."
   ]
  },
  {
   "cell_type": "code",
   "execution_count": null,
   "id": "8b8fa508",
   "metadata": {},
   "outputs": [],
   "source": []
  }
 ],
 "metadata": {
  "kernelspec": {
   "display_name": "Python 3 (ipykernel)",
   "language": "python",
   "name": "python3"
  },
  "language_info": {
   "codemirror_mode": {
    "name": "ipython",
    "version": 3
   },
   "file_extension": ".py",
   "mimetype": "text/x-python",
   "name": "python",
   "nbconvert_exporter": "python",
   "pygments_lexer": "ipython3",
   "version": "3.9.12"
  }
 },
 "nbformat": 4,
 "nbformat_minor": 5
}
