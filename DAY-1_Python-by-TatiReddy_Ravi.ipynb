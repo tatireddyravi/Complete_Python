{
 "cells": [
  {
   "cell_type": "markdown",
   "id": "491b7914",
   "metadata": {},
   "source": [
    "# Basic Python"
   ]
  },
  {
   "cell_type": "markdown",
   "id": "b753b2d6",
   "metadata": {},
   "source": [
    "### outline of DAY-1 Python document\n",
    "- what is python and its key features.\n",
    "- comment in python.\n",
    "- output and input function in python.\n",
    "- variable,different ways to assining value to a variable and rules to define variable names.\n",
    "- data types in python.\n",
    "- type casting in python.\n"
   ]
  },
  {
   "cell_type": "markdown",
   "id": "65a65b35",
   "metadata": {},
   "source": [
    "### What is Python?"
   ]
  },
  {
   "cell_type": "markdown",
   "id": "39c30585",
   "metadata": {},
   "source": [
    ". Python is General purpose, High level, Dynamically typed, and Interpreted programming language.It was created by Guido van Rossum and first released in 1991.\n",
    "\n",
    "- **General Purpose Language:** It is not specific to any particular area. It can be used to any type of application.\n",
    "\n",
    "\n",
    "- **High Level Language:** it is a programmer friendly language. Not machine friendly language. All the low-level activities like memory management, security, destroying objects etc., can be taken care by language itself.\n",
    "\n",
    "\n",
    "- **Dynamically Typed Language:** based on the provided value automatically type will be consider. no need to give type of variable \n",
    "explicitly."
   ]
  },
  {
   "cell_type": "markdown",
   "id": "a2773e1d",
   "metadata": {},
   "source": [
    "### Here are some key features of Python:"
   ]
  },
  {
   "cell_type": "markdown",
   "id": "17dbfd0d",
   "metadata": {},
   "source": [
    "\n",
    "\n",
    "- **Simplicity:**Python has a straightforward syntax that is easy to understand, making it an ideal language for beginners and experienced programmers alike.\n",
    "\n",
    "\n",
    "- **Readability:** Python code is designed to be highly readable, with a clear and expressive syntax that closely resembles English. This characteristic allows developers to write code more quickly and maintain it more easily.\n",
    "\n",
    "\n",
    "- **Interpretation:** Python is an interpreted language, which means that it does not require a compilation step. Instead, Python code is executed line by line by an interpreter, which makes development and debugging faster.\n",
    "\n",
    "\n",
    "- **Versatility:** Python is a versatile language used in various domains such as web development, scientific computing, data analysis, artificial intelligence, machine learning, and more. It has a vast standard library and a rich ecosystem of third-party packages that extend its capabilities.\n",
    "\n",
    "\n",
    "- **Cross-platform compatibility:** Python is available on multiple platforms, including Windows, macOS, Linux, and others. This portability allows developers to write code on one platform and run it on another without significant modifications.\n",
    "\n",
    "\n",
    "- **Large Community and Resources:** Python has a vast and active community of developers who contribute to its growth and development. This community provides extensive documentation, tutorials, libraries, and frameworks that make Python even more powerful and accessible.\n",
    "\n",
    "\n",
    "Python supports multiple programming paradigms, including procedural, functional, and object-oriented programming. It offers a wide range of built-in data types and structures, such as lists, dictionaries, tuples, and sets. Additionally, Python has extensive support for handling strings, file I/O, networking, and more.\n",
    "Overall, Python's simplicity, readability, and versatility have contributed to its popularity as a programming language for a wide range of applications and use cases.\n"
   ]
  },
  {
   "cell_type": "markdown",
   "id": "ab2336a5",
   "metadata": {},
   "source": [
    "### What is the Scripting Language?"
   ]
  },
  {
   "cell_type": "markdown",
   "id": "e66026ed",
   "metadata": {},
   "source": [
    "Programming languages employ either of the two specialized programs to translate code:\n",
    "\n",
    "- **Compiler:** A compiler translates the entire code before executing the program. It converts the source code into machine code or an intermediate representation, which can be directly executed by the computer's processor.\n",
    "\n",
    "\n",
    "- **Interpreter:** An interpreter, on the other hand, translates and executes the code line-by-line or instruction-by-instruction. It reads each line of code, interprets it, and executes the corresponding actions in real-time.\n",
    "\n",
    "A scripting language is a type of programming language that utilizes an interpreter to translate its source code. The interpreter processes the code by executing each line sequentially, similar to how a script for a play or an audition is followed step by step. This characteristic is why it is referred to as a \"scripting language.\" Python, for instance, uses an interpreter to translate and run its code, which classifies it as a scripting language."
   ]
  },
  {
   "cell_type": "markdown",
   "id": "480b3a6a",
   "metadata": {},
   "source": [
    "### Comments\n",
    "- Comments can be used to prevent the execution of code, and to explain python code.\n",
    "- HASH(**#**) symbol- is used for single line comment and TRIPLE QUOTES(**''' ''' or \"\"\" \"\"\"**) -is used for multiline comments.\n"
   ]
  },
  {
   "cell_type": "code",
   "execution_count": 1,
   "id": "bb2bf822",
   "metadata": {
    "scrolled": true
   },
   "outputs": [
    {
     "name": "stdout",
     "output_type": "stream",
     "text": [
      "Hello universe\n"
     ]
    }
   ],
   "source": [
    "print('Hello universe') # print function used to display the output in console."
   ]
  },
  {
   "cell_type": "code",
   "execution_count": 2,
   "id": "08e75091",
   "metadata": {
    "scrolled": true
   },
   "outputs": [
    {
     "name": "stdout",
     "output_type": "stream",
     "text": [
      "Hello ravi\n"
     ]
    }
   ],
   "source": [
    "# print('Hello universe')\n",
    "print(\"Hello ravi\")"
   ]
  },
  {
   "cell_type": "code",
   "execution_count": 3,
   "id": "24b873ae",
   "metadata": {
    "scrolled": true
   },
   "outputs": [
    {
     "name": "stdout",
     "output_type": "stream",
     "text": [
      "om namo budhaya\n"
     ]
    }
   ],
   "source": [
    "'''This is a comment \n",
    "writen in more than\n",
    "one line'''\n",
    "print(\"om namo budhaya\")"
   ]
  },
  {
   "cell_type": "markdown",
   "id": "8e53c7a0",
   "metadata": {},
   "source": [
    "### Print() and input() function"
   ]
  },
  {
   "cell_type": "markdown",
   "id": "9935a969",
   "metadata": {},
   "source": [
    "- in python the '**print()**' function can be used to display the output on console or terminal. it takes one or more arguments\n",
    "and print them to the output.\n",
    "\n",
    "- The basic syntax is: **print(value1,value2,.....,sep='',end='\\n')**\n",
    "\n",
    "\n",
    "- '**value1, value2, ...:** The values to be printed. You can pass multiple values separated by commas.\n",
    "\n",
    "\n",
    "- **sep=' ':** The separator between values. By default, it is a space character.\n",
    "\n",
    "\n",
    "- **end='\\n':** The character(s) to be printed at the end. By default, it is a newline character (\\n)."
   ]
  },
  {
   "cell_type": "code",
   "execution_count": 4,
   "id": "5f978cf5",
   "metadata": {
    "scrolled": true
   },
   "outputs": [
    {
     "name": "stdout",
     "output_type": "stream",
     "text": [
      "Hello nature\n"
     ]
    }
   ],
   "source": [
    "print('Hello nature')"
   ]
  },
  {
   "cell_type": "code",
   "execution_count": 5,
   "id": "ee0f389d",
   "metadata": {
    "scrolled": true
   },
   "outputs": [
    {
     "name": "stdout",
     "output_type": "stream",
     "text": [
      "Good day 7\n"
     ]
    }
   ],
   "source": [
    "print(\"Good day\",7)"
   ]
  },
  {
   "cell_type": "code",
   "execution_count": 6,
   "id": "8c12da3d",
   "metadata": {
    "scrolled": true
   },
   "outputs": [
    {
     "name": "stdout",
     "output_type": "stream",
     "text": [
      "1+6\n"
     ]
    }
   ],
   "source": [
    "print(\"1+6\")"
   ]
  },
  {
   "cell_type": "code",
   "execution_count": 7,
   "id": "53f547c5",
   "metadata": {
    "scrolled": true
   },
   "outputs": [
    {
     "name": "stdout",
     "output_type": "stream",
     "text": [
      "Data science\n"
     ]
    }
   ],
   "source": [
    "print(\"Data science\")"
   ]
  },
  {
   "cell_type": "code",
   "execution_count": 8,
   "id": "c61cc800",
   "metadata": {},
   "outputs": [
    {
     "name": "stdout",
     "output_type": "stream",
     "text": [
      "Hello world#I am Ravi\n"
     ]
    }
   ],
   "source": [
    "print(\"Hello world\",'I am Ravi',sep='#')"
   ]
  },
  {
   "cell_type": "code",
   "execution_count": 9,
   "id": "744ac034",
   "metadata": {},
   "outputs": [
    {
     "name": "stdout",
     "output_type": "stream",
     "text": [
      "Hello world'#'I am Ravi\n"
     ]
    }
   ],
   "source": [
    "print(\"Hello world\",'I am Ravi',sep='\\'#\\'')"
   ]
  },
  {
   "cell_type": "code",
   "execution_count": 10,
   "id": "e6ee3d1a",
   "metadata": {},
   "outputs": [
    {
     "name": "stdout",
     "output_type": "stream",
     "text": [
      "Hello world\n",
      "I am Ravi\n",
      "madhu\n"
     ]
    }
   ],
   "source": [
    "print(\"Hello world\",'I am Ravi','madhu',sep='\\n')"
   ]
  },
  {
   "cell_type": "code",
   "execution_count": 11,
   "id": "7940455e",
   "metadata": {},
   "outputs": [
    {
     "ename": "SyntaxError",
     "evalue": "invalid syntax (3121532120.py, line 1)",
     "output_type": "error",
     "traceback": [
      "\u001b[1;36m  Input \u001b[1;32mIn [11]\u001b[1;36m\u001b[0m\n\u001b[1;33m    print(This is my first python program\")\u001b[0m\n\u001b[1;37m                     ^\u001b[0m\n\u001b[1;31mSyntaxError\u001b[0m\u001b[1;31m:\u001b[0m invalid syntax\n"
     ]
    }
   ],
   "source": [
    "print(This is my first python program\")"
   ]
  },
  {
   "cell_type": "code",
   "execution_count": 12,
   "id": "c74013d0",
   "metadata": {},
   "outputs": [
    {
     "ename": "SyntaxError",
     "evalue": "EOL while scanning string literal (1770034500.py, line 1)",
     "output_type": "error",
     "traceback": [
      "\u001b[1;36m  Input \u001b[1;32mIn [12]\u001b[1;36m\u001b[0m\n\u001b[1;33m    print(\"This is my first python program)\u001b[0m\n\u001b[1;37m                                           ^\u001b[0m\n\u001b[1;31mSyntaxError\u001b[0m\u001b[1;31m:\u001b[0m EOL while scanning string literal\n"
     ]
    }
   ],
   "source": [
    "print(\"This is my first python program)"
   ]
  },
  {
   "cell_type": "code",
   "execution_count": 13,
   "id": "9f2e87a6",
   "metadata": {},
   "outputs": [
    {
     "ename": "SyntaxError",
     "evalue": "invalid syntax (2598292411.py, line 1)",
     "output_type": "error",
     "traceback": [
      "\u001b[1;36m  Input \u001b[1;32mIn [13]\u001b[1;36m\u001b[0m\n\u001b[1;33m    print(This is my first python program)\u001b[0m\n\u001b[1;37m                     ^\u001b[0m\n\u001b[1;31mSyntaxError\u001b[0m\u001b[1;31m:\u001b[0m invalid syntax\n"
     ]
    }
   ],
   "source": [
    "print(This is my first python program)"
   ]
  },
  {
   "cell_type": "code",
   "execution_count": 14,
   "id": "b2aa58fa",
   "metadata": {},
   "outputs": [
    {
     "ename": "SyntaxError",
     "evalue": "invalid syntax (262762411.py, line 1)",
     "output_type": "error",
     "traceback": [
      "\u001b[1;36m  Input \u001b[1;32mIn [14]\u001b[1;36m\u001b[0m\n\u001b[1;33m    print(This is my first python program')\u001b[0m\n\u001b[1;37m                     ^\u001b[0m\n\u001b[1;31mSyntaxError\u001b[0m\u001b[1;31m:\u001b[0m invalid syntax\n"
     ]
    }
   ],
   "source": [
    "print(This is my first python program')"
   ]
  },
  {
   "cell_type": "code",
   "execution_count": 15,
   "id": "58811219",
   "metadata": {},
   "outputs": [
    {
     "ename": "SyntaxError",
     "evalue": "unexpected EOF while parsing (2738201397.py, line 1)",
     "output_type": "error",
     "traceback": [
      "\u001b[1;36m  Input \u001b[1;32mIn [15]\u001b[1;36m\u001b[0m\n\u001b[1;33m    print(\"This is my first python program\"\u001b[0m\n\u001b[1;37m                                           ^\u001b[0m\n\u001b[1;31mSyntaxError\u001b[0m\u001b[1;31m:\u001b[0m unexpected EOF while parsing\n"
     ]
    }
   ],
   "source": [
    "print(\"This is my first python program\""
   ]
  },
  {
   "cell_type": "code",
   "execution_count": 16,
   "id": "78359c52",
   "metadata": {},
   "outputs": [
    {
     "ename": "SyntaxError",
     "evalue": "invalid syntax (388533908.py, line 1)",
     "output_type": "error",
     "traceback": [
      "\u001b[1;36m  Input \u001b[1;32mIn [16]\u001b[1;36m\u001b[0m\n\u001b[1;33m    print\"This is my first python program\")\u001b[0m\n\u001b[1;37m         ^\u001b[0m\n\u001b[1;31mSyntaxError\u001b[0m\u001b[1;31m:\u001b[0m invalid syntax\n"
     ]
    }
   ],
   "source": [
    "print\"This is my first python program\")"
   ]
  },
  {
   "cell_type": "code",
   "execution_count": 17,
   "id": "7d78338e",
   "metadata": {},
   "outputs": [
    {
     "ename": "SyntaxError",
     "evalue": "Missing parentheses in call to 'print'. Did you mean print(\"my name is ravi\")? (4032209568.py, line 1)",
     "output_type": "error",
     "traceback": [
      "\u001b[1;36m  Input \u001b[1;32mIn [17]\u001b[1;36m\u001b[0m\n\u001b[1;33m    print \"my name is ravi\"\u001b[0m\n\u001b[1;37m          ^\u001b[0m\n\u001b[1;31mSyntaxError\u001b[0m\u001b[1;31m:\u001b[0m Missing parentheses in call to 'print'. Did you mean print(\"my name is ravi\")?\n"
     ]
    }
   ],
   "source": [
    "print \"my name is ravi\""
   ]
  },
  {
   "cell_type": "code",
   "execution_count": 18,
   "id": "27b4c70d",
   "metadata": {},
   "outputs": [
    {
     "name": "stdout",
     "output_type": "stream",
     "text": [
      " my\t name\n",
      " is ravi\n",
      "\n",
      "-Data scientist\n"
     ]
    }
   ],
   "source": [
    "print(\" my\\t name\\n is ravi\\n\")\n",
    "print(\"-Data scientist\")"
   ]
  },
  {
   "cell_type": "code",
   "execution_count": 19,
   "id": "8b7fea56",
   "metadata": {
    "scrolled": true
   },
   "outputs": [
    {
     "name": "stdout",
     "output_type": "stream",
     "text": [
      "Machine learning Deep learning\n"
     ]
    }
   ],
   "source": [
    "# print multiple values\n",
    "x='Machine learning'\n",
    "y=\"Deep learning\"\n",
    "print(x,y)"
   ]
  },
  {
   "cell_type": "code",
   "execution_count": 20,
   "id": "e8cf463b",
   "metadata": {},
   "outputs": [
    {
     "name": "stdout",
     "output_type": "stream",
     "text": [
      "Machine learning\n",
      " Deep learning\n"
     ]
    }
   ],
   "source": [
    "x='Machine learning\\n'\n",
    "y='Deep learning'\n",
    "print(x,y)"
   ]
  },
  {
   "cell_type": "code",
   "execution_count": 22,
   "id": "fd733569",
   "metadata": {},
   "outputs": [
    {
     "name": "stdout",
     "output_type": "stream",
     "text": [
      "Machine learning\n",
      " Deep learning\n"
     ]
    }
   ],
   "source": [
    "x='Machine learning\\n'\n",
    "y='Deep learning'\n",
    "print(x,y,sep=' ')"
   ]
  },
  {
   "cell_type": "code",
   "execution_count": 23,
   "id": "3ead480e",
   "metadata": {
    "scrolled": true
   },
   "outputs": [
    {
     "name": "stdout",
     "output_type": "stream",
     "text": [
      "numpy pandas matplotlib\n"
     ]
    }
   ],
   "source": [
    "# separation of print values in print function\n",
    "print('numpy','pandas','matplotlib')"
   ]
  },
  {
   "cell_type": "code",
   "execution_count": 24,
   "id": "12eedf5b",
   "metadata": {
    "scrolled": true
   },
   "outputs": [
    {
     "name": "stdout",
     "output_type": "stream",
     "text": [
      "numpy@pandas@matplotlib\n"
     ]
    }
   ],
   "source": [
    "# we are using @ symbol to separate the values\n",
    "print(\"numpy\",\"pandas\",\"matplotlib\",sep='@')"
   ]
  },
  {
   "cell_type": "code",
   "execution_count": 25,
   "id": "629c7ac4",
   "metadata": {
    "scrolled": true
   },
   "outputs": [
    {
     "name": "stdout",
     "output_type": "stream",
     "text": [
      "ML!DL!CV!NLP\n"
     ]
    }
   ],
   "source": [
    "# we are using ! symbol to separate the values\n",
    "print('ML','DL','CV','NLP',sep='!')"
   ]
  },
  {
   "cell_type": "code",
   "execution_count": 26,
   "id": "0ad2ff28",
   "metadata": {
    "scrolled": true
   },
   "outputs": [
    {
     "name": "stdout",
     "output_type": "stream",
     "text": [
      "python 5 True\n"
     ]
    }
   ],
   "source": [
    "print(\"python\",5,True) # print is a flexible function"
   ]
  },
  {
   "cell_type": "code",
   "execution_count": 27,
   "id": "c62b0789",
   "metadata": {
    "scrolled": true
   },
   "outputs": [
    {
     "name": "stdout",
     "output_type": "stream",
     "text": [
      "Become Data science by learning: Python Statistics Machine learning Deep learning\n"
     ]
    }
   ],
   "source": [
    "print(\"Become Data science by learning:\",\"Python\",\"Statistics\",\n",
    "      \"Machine learning\",\"Deep learning\")\n"
   ]
  },
  {
   "cell_type": "code",
   "execution_count": 28,
   "id": "fed14aaa",
   "metadata": {
    "scrolled": true
   },
   "outputs": [
    {
     "name": "stdout",
     "output_type": "stream",
     "text": [
      "Become Data science by learning:\n",
      "Python\n",
      "Statistics\n",
      "Machine learning\n",
      "Deep learning\n"
     ]
    }
   ],
   "source": [
    "print(\"Become Data science by learning:\",\"Python\",\"Statistics\",\n",
    "      \"Machine learning\",\"Deep learning\",sep='\\n')\n"
   ]
  },
  {
   "cell_type": "code",
   "execution_count": 29,
   "id": "53f34a5c",
   "metadata": {},
   "outputs": [
    {
     "name": "stdout",
     "output_type": "stream",
     "text": [
      "Become Data science by learning:\n",
      " Python\n",
      " Statistics\n",
      " Machine learning\n",
      " Deep learning\n"
     ]
    }
   ],
   "source": [
    "# To print the values in new line\n",
    "print(\"Become Data science by learning:\\n\",\"Python\\n\",\"Statistics\\n\",\n",
    "      \"Machine learning\\n\",\"Deep learning\")"
   ]
  },
  {
   "cell_type": "code",
   "execution_count": 30,
   "id": "8081c328",
   "metadata": {
    "scrolled": true
   },
   "outputs": [
    {
     "name": "stdout",
     "output_type": "stream",
     "text": [
      "Become Data science by learning:\n",
      "Python\n",
      "Statistics\n",
      "Machene learning\n",
      "Deep learning\n"
     ]
    }
   ],
   "source": [
    "# To print the values in new line\n",
    "print('Become Data science by learning:','Python','Statistics',\n",
    "      'Machene learning','Deep learning',sep='\\n')"
   ]
  },
  {
   "cell_type": "code",
   "execution_count": 31,
   "id": "683bd5c0",
   "metadata": {
    "scrolled": true
   },
   "outputs": [
    {
     "name": "stdout",
     "output_type": "stream",
     "text": [
      "Machine learning\n",
      "Deep learning\n",
      "Computer vision\n",
      "Natural language processing\n"
     ]
    }
   ],
   "source": [
    "print('Machine learning')\n",
    "print('Deep learning')\n",
    "print('Computer vision')\n",
    "print('Natural language processing') \n",
    "\n",
    "# Here the values are printed in new line every time"
   ]
  },
  {
   "cell_type": "code",
   "execution_count": 32,
   "id": "62662067",
   "metadata": {
    "scrolled": true
   },
   "outputs": [
    {
     "name": "stdout",
     "output_type": "stream",
     "text": [
      "Machene learning Deep learning Computer vision\n"
     ]
    }
   ],
   "source": [
    "print(\"Machene learning\",end=' ')\n",
    "print(\"Deep learning\",end=' ')\n",
    "print(\"Computer vision\") \n",
    "\n",
    "# Here the values are printed in same line"
   ]
  },
  {
   "cell_type": "code",
   "execution_count": 33,
   "id": "b4fcc6cf",
   "metadata": {
    "scrolled": true
   },
   "outputs": [
    {
     "name": "stdout",
     "output_type": "stream",
     "text": [
      "Machene learning 2.Deep learning 3.Computer vision\n"
     ]
    }
   ],
   "source": [
    "print(\"Machene learning\",end=' 2.')\n",
    "print(\"Deep learning\",end=' 3.')\n",
    "print(\"Computer vision\")"
   ]
  },
  {
   "cell_type": "code",
   "execution_count": 34,
   "id": "8f17008a",
   "metadata": {
    "scrolled": true
   },
   "outputs": [
    {
     "name": "stdout",
     "output_type": "stream",
     "text": [
      "Machene learning *Deep learning\n",
      "Computer vision\n"
     ]
    }
   ],
   "source": [
    "print(\"Machene learning\",end=' *')\n",
    "print(\"Deep learning\",end='\\n')\n",
    "print(\"Computer vision\")"
   ]
  },
  {
   "cell_type": "code",
   "execution_count": 35,
   "id": "88ce869e",
   "metadata": {
    "scrolled": true
   },
   "outputs": [
    {
     "name": "stdout",
     "output_type": "stream",
     "text": [
      "Machene learning \n",
      "Deep learning\t Computer vision\n"
     ]
    }
   ],
   "source": [
    "print(\"Machene learning\",end=' \\n')\n",
    "print(\"Deep learning\",end='\\t ')\n",
    "print(\"Computer vision\")"
   ]
  },
  {
   "cell_type": "markdown",
   "id": "3585bffb",
   "metadata": {},
   "source": [
    "### Variables in python\n",
    "- Variable is a container used for storing data values.\n",
    "- '**=**' symbol is used to assigne data value to a variable."
   ]
  },
  {
   "cell_type": "code",
   "execution_count": 36,
   "id": "653c986a",
   "metadata": {
    "scrolled": true
   },
   "outputs": [
    {
     "name": "stdout",
     "output_type": "stream",
     "text": [
      "ravi ravi ravi ravi ravi ravi ravi ravi ravi ravi \n",
      "ravi ravi ravi ravi ravi ravi ravi ravi ravi ravi \n"
     ]
    }
   ],
   "source": [
    "'''Variable is a local istance or global \n",
    "instance where we can store the data value.'''\n",
    "a=10\n",
    "b='ravi '\n",
    "print(a*b)\n",
    "print(a*b,sep='@')"
   ]
  },
  {
   "cell_type": "code",
   "execution_count": 37,
   "id": "732241a1",
   "metadata": {},
   "outputs": [
    {
     "ename": "TypeError",
     "evalue": "unsupported operand type(s) for -: 'str' and 'str'",
     "output_type": "error",
     "traceback": [
      "\u001b[1;31m---------------------------------------------------------------------------\u001b[0m",
      "\u001b[1;31mTypeError\u001b[0m                                 Traceback (most recent call last)",
      "Input \u001b[1;32mIn [37]\u001b[0m, in \u001b[0;36m<cell line: 1>\u001b[1;34m()\u001b[0m\n\u001b[1;32m----> 1\u001b[0m \u001b[38;5;124;43m'\u001b[39;49m\u001b[38;5;124;43mRavi\u001b[39;49m\u001b[38;5;124;43m'\u001b[39;49m\u001b[38;5;241;43m-\u001b[39;49m\u001b[38;5;124;43m'\u001b[39;49m\u001b[38;5;124;43m Tatireddy\u001b[39;49m\u001b[38;5;124;43m'\u001b[39;49m\n",
      "\u001b[1;31mTypeError\u001b[0m: unsupported operand type(s) for -: 'str' and 'str'"
     ]
    }
   ],
   "source": [
    "'Ravi'-' Tatireddy'"
   ]
  },
  {
   "cell_type": "code",
   "execution_count": 38,
   "id": "1c776ab1",
   "metadata": {
    "scrolled": true
   },
   "outputs": [
    {
     "name": "stdout",
     "output_type": "stream",
     "text": [
      "Tatireddy ravi\n",
      "name\n"
     ]
    }
   ],
   "source": [
    "name='Tatireddy ravi'\n",
    "print(name)\n",
    "print('name')"
   ]
  },
  {
   "cell_type": "code",
   "execution_count": 39,
   "id": "0883e3fd",
   "metadata": {
    "scrolled": true
   },
   "outputs": [
    {
     "name": "stdout",
     "output_type": "stream",
     "text": [
      "ravi 12 34.5\n"
     ]
    }
   ],
   "source": [
    "x='ravi'\n",
    "y=12\n",
    "z=34.5\n",
    "print(x,y,z)"
   ]
  },
  {
   "cell_type": "code",
   "execution_count": 40,
   "id": "7b97b544",
   "metadata": {
    "scrolled": true
   },
   "outputs": [
    {
     "name": "stdout",
     "output_type": "stream",
     "text": [
      "ravi\n",
      "12\n",
      "34.5\n"
     ]
    }
   ],
   "source": [
    "print(x,y,z,sep='\\n')"
   ]
  },
  {
   "cell_type": "markdown",
   "id": "06aee5fd",
   "metadata": {},
   "source": [
    "### other ways of assining a value to a variable"
   ]
  },
  {
   "cell_type": "markdown",
   "id": "e355fb25",
   "metadata": {},
   "source": [
    "- List form assining"
   ]
  },
  {
   "cell_type": "code",
   "execution_count": 41,
   "id": "ea99a499",
   "metadata": {
    "scrolled": true
   },
   "outputs": [
    {
     "name": "stdout",
     "output_type": "stream",
     "text": [
      "2\n",
      "3\n"
     ]
    }
   ],
   "source": [
    "x,y=[2,3]\n",
    "print(x)\n",
    "print(y)"
   ]
  },
  {
   "cell_type": "code",
   "execution_count": 42,
   "id": "9a7318e3",
   "metadata": {
    "scrolled": true
   },
   "outputs": [
    {
     "ename": "ValueError",
     "evalue": "too many values to unpack (expected 2)",
     "output_type": "error",
     "traceback": [
      "\u001b[1;31m---------------------------------------------------------------------------\u001b[0m",
      "\u001b[1;31mValueError\u001b[0m                                Traceback (most recent call last)",
      "Input \u001b[1;32mIn [42]\u001b[0m, in \u001b[0;36m<cell line: 1>\u001b[1;34m()\u001b[0m\n\u001b[1;32m----> 1\u001b[0m x,y\u001b[38;5;241m=\u001b[39m[\u001b[38;5;241m2\u001b[39m,\u001b[38;5;241m3\u001b[39m,\u001b[38;5;241m8\u001b[39m]\n\u001b[0;32m      2\u001b[0m \u001b[38;5;28mprint\u001b[39m(x)\n\u001b[0;32m      3\u001b[0m \u001b[38;5;28mprint\u001b[39m(y)\n",
      "\u001b[1;31mValueError\u001b[0m: too many values to unpack (expected 2)"
     ]
    }
   ],
   "source": [
    "x,y=[2,3,8]\n",
    "print(x)\n",
    "print(y)"
   ]
  },
  {
   "cell_type": "code",
   "execution_count": 43,
   "id": "863eb8ee",
   "metadata": {
    "scrolled": true
   },
   "outputs": [
    {
     "ename": "ValueError",
     "evalue": "not enough values to unpack (expected 3, got 2)",
     "output_type": "error",
     "traceback": [
      "\u001b[1;31m---------------------------------------------------------------------------\u001b[0m",
      "\u001b[1;31mValueError\u001b[0m                                Traceback (most recent call last)",
      "Input \u001b[1;32mIn [43]\u001b[0m, in \u001b[0;36m<cell line: 1>\u001b[1;34m()\u001b[0m\n\u001b[1;32m----> 1\u001b[0m x,y,z\u001b[38;5;241m=\u001b[39m[\u001b[38;5;241m2\u001b[39m,\u001b[38;5;241m3\u001b[39m]\n\u001b[0;32m      2\u001b[0m \u001b[38;5;28mprint\u001b[39m(x)\n\u001b[0;32m      3\u001b[0m \u001b[38;5;28mprint\u001b[39m(y)\n",
      "\u001b[1;31mValueError\u001b[0m: not enough values to unpack (expected 3, got 2)"
     ]
    }
   ],
   "source": [
    "x,y,z=[2,3]\n",
    "print(x)\n",
    "print(y)"
   ]
  },
  {
   "cell_type": "markdown",
   "id": "ec37953f",
   "metadata": {},
   "source": [
    "- Tupple form assining"
   ]
  },
  {
   "cell_type": "code",
   "execution_count": 38,
   "id": "66a80f67",
   "metadata": {
    "scrolled": true
   },
   "outputs": [
    {
     "name": "stdout",
     "output_type": "stream",
     "text": [
      "2\n",
      "3\n"
     ]
    }
   ],
   "source": [
    "x,y=(2,3)\n",
    "print(x)\n",
    "print(y)"
   ]
  },
  {
   "cell_type": "code",
   "execution_count": 44,
   "id": "ee3b2a5e",
   "metadata": {
    "scrolled": true
   },
   "outputs": [
    {
     "ename": "ValueError",
     "evalue": "too many values to unpack (expected 2)",
     "output_type": "error",
     "traceback": [
      "\u001b[1;31m---------------------------------------------------------------------------\u001b[0m",
      "\u001b[1;31mValueError\u001b[0m                                Traceback (most recent call last)",
      "Input \u001b[1;32mIn [44]\u001b[0m, in \u001b[0;36m<cell line: 1>\u001b[1;34m()\u001b[0m\n\u001b[1;32m----> 1\u001b[0m x,y\u001b[38;5;241m=\u001b[39m(\u001b[38;5;241m2\u001b[39m,\u001b[38;5;241m3\u001b[39m,\u001b[38;5;241m8\u001b[39m)\n\u001b[0;32m      2\u001b[0m \u001b[38;5;28mprint\u001b[39m(x)\n\u001b[0;32m      3\u001b[0m \u001b[38;5;28mprint\u001b[39m(y)\n",
      "\u001b[1;31mValueError\u001b[0m: too many values to unpack (expected 2)"
     ]
    }
   ],
   "source": [
    "x,y=(2,3,8)\n",
    "print(x)\n",
    "print(y)"
   ]
  },
  {
   "cell_type": "code",
   "execution_count": 45,
   "id": "475b88ea",
   "metadata": {
    "scrolled": true
   },
   "outputs": [
    {
     "ename": "ValueError",
     "evalue": "not enough values to unpack (expected 3, got 2)",
     "output_type": "error",
     "traceback": [
      "\u001b[1;31m---------------------------------------------------------------------------\u001b[0m",
      "\u001b[1;31mValueError\u001b[0m                                Traceback (most recent call last)",
      "Input \u001b[1;32mIn [45]\u001b[0m, in \u001b[0;36m<cell line: 1>\u001b[1;34m()\u001b[0m\n\u001b[1;32m----> 1\u001b[0m x,y,f\u001b[38;5;241m=\u001b[39m(\u001b[38;5;241m2\u001b[39m,\u001b[38;5;241m3\u001b[39m)\n\u001b[0;32m      2\u001b[0m \u001b[38;5;28mprint\u001b[39m(x)\n\u001b[0;32m      3\u001b[0m \u001b[38;5;28mprint\u001b[39m(y)\n",
      "\u001b[1;31mValueError\u001b[0m: not enough values to unpack (expected 3, got 2)"
     ]
    }
   ],
   "source": [
    "x,y,f=(2,3)\n",
    "print(x)\n",
    "print(y)"
   ]
  },
  {
   "cell_type": "code",
   "execution_count": 39,
   "id": "fc28b934",
   "metadata": {
    "scrolled": true
   },
   "outputs": [
    {
     "name": "stdout",
     "output_type": "stream",
     "text": [
      "30\n",
      "my name is\n",
      "ravi\n"
     ]
    }
   ],
   "source": [
    "# creating multiple variables in a single line\n",
    "a,b,c=30,'my name is','ravi'\n",
    "print(a)\n",
    "print(b)\n",
    "print(c)"
   ]
  },
  {
   "cell_type": "code",
   "execution_count": 46,
   "id": "0cdcc15d",
   "metadata": {
    "scrolled": true
   },
   "outputs": [
    {
     "ename": "ValueError",
     "evalue": "not enough values to unpack (expected 3, got 2)",
     "output_type": "error",
     "traceback": [
      "\u001b[1;31m---------------------------------------------------------------------------\u001b[0m",
      "\u001b[1;31mValueError\u001b[0m                                Traceback (most recent call last)",
      "Input \u001b[1;32mIn [46]\u001b[0m, in \u001b[0;36m<cell line: 2>\u001b[1;34m()\u001b[0m\n\u001b[0;32m      1\u001b[0m \u001b[38;5;66;03m# creating multiple variables in a single line\u001b[39;00m\n\u001b[1;32m----> 2\u001b[0m a,b,c\u001b[38;5;241m=\u001b[39m\u001b[38;5;241m30\u001b[39m,\u001b[38;5;124m'\u001b[39m\u001b[38;5;124mmy name is\u001b[39m\u001b[38;5;124m'\u001b[39m\n\u001b[0;32m      3\u001b[0m \u001b[38;5;28mprint\u001b[39m(a)\n\u001b[0;32m      4\u001b[0m \u001b[38;5;28mprint\u001b[39m(b)\n",
      "\u001b[1;31mValueError\u001b[0m: not enough values to unpack (expected 3, got 2)"
     ]
    }
   ],
   "source": [
    "# creating multiple variables in a single line\n",
    "a,b,c=30,'my name is'\n",
    "print(a)\n",
    "print(b)\n",
    "print(c)"
   ]
  },
  {
   "cell_type": "code",
   "execution_count": 47,
   "id": "503a19a6",
   "metadata": {
    "scrolled": true
   },
   "outputs": [
    {
     "ename": "ValueError",
     "evalue": "too many values to unpack (expected 2)",
     "output_type": "error",
     "traceback": [
      "\u001b[1;31m---------------------------------------------------------------------------\u001b[0m",
      "\u001b[1;31mValueError\u001b[0m                                Traceback (most recent call last)",
      "Input \u001b[1;32mIn [47]\u001b[0m, in \u001b[0;36m<cell line: 2>\u001b[1;34m()\u001b[0m\n\u001b[0;32m      1\u001b[0m \u001b[38;5;66;03m# creating multiple variables in a single line\u001b[39;00m\n\u001b[1;32m----> 2\u001b[0m a,b\u001b[38;5;241m=\u001b[39m\u001b[38;5;241m30\u001b[39m,\u001b[38;5;124m'\u001b[39m\u001b[38;5;124mmy name is\u001b[39m\u001b[38;5;124m'\u001b[39m,\u001b[38;5;124m'\u001b[39m\u001b[38;5;124mravi\u001b[39m\u001b[38;5;124m'\u001b[39m\n\u001b[0;32m      3\u001b[0m \u001b[38;5;28mprint\u001b[39m(a)\n\u001b[0;32m      4\u001b[0m \u001b[38;5;28mprint\u001b[39m(b)\n",
      "\u001b[1;31mValueError\u001b[0m: too many values to unpack (expected 2)"
     ]
    }
   ],
   "source": [
    "# creating multiple variables in a single line\n",
    "a,b=30,'my name is','ravi'\n",
    "print(a)\n",
    "print(b)\n",
    "print(c)"
   ]
  },
  {
   "cell_type": "code",
   "execution_count": 49,
   "id": "0008b48f",
   "metadata": {},
   "outputs": [
    {
     "name": "stdout",
     "output_type": "stream",
     "text": [
      "30 my name is ravi\n"
     ]
    }
   ],
   "source": [
    "a,b,c=30,'my name is','ravi'\n",
    "print(a,b,c)"
   ]
  },
  {
   "cell_type": "code",
   "execution_count": 50,
   "id": "3b3246bf",
   "metadata": {
    "scrolled": true
   },
   "outputs": [
    {
     "data": {
      "text/plain": [
       "(30, 'my name is', 'ravi')"
      ]
     },
     "execution_count": 50,
     "metadata": {},
     "output_type": "execute_result"
    }
   ],
   "source": [
    "# values of more than one variable gives in the form of tupple.\n",
    "a,b,c"
   ]
  },
  {
   "cell_type": "markdown",
   "id": "b4ec4686",
   "metadata": {},
   "source": [
    "# Variable names\n",
    "- A variable can have a short name (like x and y) or a more descriptive name (age, carname, total_volume).\n",
    "\n",
    "**Rules for Python variables:**\n",
    "- A variable name must start with a letter or the underscore(_) character.\n",
    "- A variable name cannot start with a number.\n",
    "- A variable name cannot be a keyword or reserved word.\n",
    "- A variable name can only contain alpha-numeric characters and underscores (A-z, 0-9, and _ ).\n",
    "- Variable names are case-sensitive (age, Age and AGE are three different variables).\n",
    "- space is not allowed in the variable names."
   ]
  },
  {
   "cell_type": "code",
   "execution_count": 58,
   "id": "dcb527b9",
   "metadata": {},
   "outputs": [
    {
     "ename": "SyntaxError",
     "evalue": "invalid syntax (3799489249.py, line 1)",
     "output_type": "error",
     "traceback": [
      "\u001b[1;36m  Input \u001b[1;32mIn [58]\u001b[1;36m\u001b[0m\n\u001b[1;33m    1b='ravi'\u001b[0m\n\u001b[1;37m     ^\u001b[0m\n\u001b[1;31mSyntaxError\u001b[0m\u001b[1;31m:\u001b[0m invalid syntax\n"
     ]
    }
   ],
   "source": [
    "1b='ravi'"
   ]
  },
  {
   "cell_type": "code",
   "execution_count": 59,
   "id": "7347e7a8",
   "metadata": {},
   "outputs": [],
   "source": [
    "b='tatireddy ravi'"
   ]
  },
  {
   "cell_type": "code",
   "execution_count": 60,
   "id": "19094480",
   "metadata": {},
   "outputs": [
    {
     "ename": "SyntaxError",
     "evalue": "invalid syntax (1379519580.py, line 1)",
     "output_type": "error",
     "traceback": [
      "\u001b[1;36m  Input \u001b[1;32mIn [60]\u001b[1;36m\u001b[0m\n\u001b[1;33m    @=12\u001b[0m\n\u001b[1;37m    ^\u001b[0m\n\u001b[1;31mSyntaxError\u001b[0m\u001b[1;31m:\u001b[0m invalid syntax\n"
     ]
    }
   ],
   "source": [
    "@=12"
   ]
  },
  {
   "cell_type": "code",
   "execution_count": 61,
   "id": "0857f0cf",
   "metadata": {},
   "outputs": [],
   "source": [
    "_=12"
   ]
  },
  {
   "cell_type": "code",
   "execution_count": 62,
   "id": "5c5a9411",
   "metadata": {},
   "outputs": [],
   "source": [
    "__=12"
   ]
  },
  {
   "cell_type": "code",
   "execution_count": 63,
   "id": "632abe34",
   "metadata": {},
   "outputs": [
    {
     "ename": "SyntaxError",
     "evalue": "invalid syntax (562385664.py, line 1)",
     "output_type": "error",
     "traceback": [
      "\u001b[1;36m  Input \u001b[1;32mIn [63]\u001b[1;36m\u001b[0m\n\u001b[1;33m    email id=16295     # space is not allowe in variable names\u001b[0m\n\u001b[1;37m          ^\u001b[0m\n\u001b[1;31mSyntaxError\u001b[0m\u001b[1;31m:\u001b[0m invalid syntax\n"
     ]
    }
   ],
   "source": [
    "email id=16295     # space is not allowe in variable names"
   ]
  },
  {
   "cell_type": "code",
   "execution_count": 69,
   "id": "dc1e6916",
   "metadata": {},
   "outputs": [
    {
     "name": "stdout",
     "output_type": "stream",
     "text": [
      "['False', 'None', 'True', '__peg_parser__', 'and', 'as', 'assert', 'async', 'await', 'break', 'class', 'continue', 'def', 'del', 'elif', 'else', 'except', 'finally', 'for', 'from', 'global', 'if', 'import', 'in', 'is', 'lambda', 'nonlocal', 'not', 'or', 'pass', 'raise', 'return', 'try', 'while', 'with', 'yield']\n"
     ]
    }
   ],
   "source": [
    "import keyword\n",
    "keyword_list=keyword.kwlist\n",
    "print(keyword_list)"
   ]
  },
  {
   "cell_type": "code",
   "execution_count": 70,
   "id": "5d82fc99",
   "metadata": {},
   "outputs": [],
   "source": [
    "name=\"ravi\"\n",
    "email_id=\"newage.ravi@gmail.com\"\n",
    "emp_id=16295\n",
    "password='password'"
   ]
  },
  {
   "cell_type": "code",
   "execution_count": 71,
   "id": "9f4e9403",
   "metadata": {},
   "outputs": [
    {
     "name": "stdout",
     "output_type": "stream",
     "text": [
      "Ravi is string value\n",
      "2 is integer number\n",
      "3.0 is floating point number\n"
     ]
    }
   ],
   "source": [
    "x=str('Ravi') # x is 'Ravi'\n",
    "y=int(2) # y is 2\n",
    "z=float(3) # z is 3.0\n",
    "print(x,\"is string value\")\n",
    "print(y,\"is integer number\")\n",
    "print(z,'is floating point number')"
   ]
  },
  {
   "cell_type": "code",
   "execution_count": 73,
   "id": "fcaf8928",
   "metadata": {},
   "outputs": [
    {
     "name": "stdout",
     "output_type": "stream",
     "text": [
      "Ravi is string value\n",
      "2 is integer value\n",
      "3.0 is floating point number\n"
     ]
    }
   ],
   "source": [
    "print(f\"{x} is string value\")\n",
    "print(f\"{y} is integer value\")\n",
    "print(f\"{z} is floating point number\")"
   ]
  },
  {
   "cell_type": "code",
   "execution_count": 74,
   "id": "24d2ed38",
   "metadata": {},
   "outputs": [
    {
     "name": "stdout",
     "output_type": "stream",
     "text": [
      "3.0 is floating point number,2 is integer number,and Ravi is string value\n"
     ]
    }
   ],
   "source": [
    "print(f'{z} is floating point number,{y} is integer number,and {x} is string value')"
   ]
  },
  {
   "cell_type": "code",
   "execution_count": 75,
   "id": "716af942",
   "metadata": {},
   "outputs": [
    {
     "name": "stdout",
     "output_type": "stream",
     "text": [
      "The string value is:Ravi\n"
     ]
    }
   ],
   "source": [
    "print(\"The string value is:{}\".format(x))"
   ]
  },
  {
   "cell_type": "code",
   "execution_count": 53,
   "id": "1141439b",
   "metadata": {},
   "outputs": [
    {
     "name": "stdout",
     "output_type": "stream",
     "text": [
      "The string value is:Ravi\n"
     ]
    }
   ],
   "source": [
    "print(\"The string value is:{}\".format(x,y,z)) \n",
    "\n",
    "# if index value is not specified then it will take automatically from 0 index"
   ]
  },
  {
   "cell_type": "code",
   "execution_count": 76,
   "id": "c1854540",
   "metadata": {},
   "outputs": [
    {
     "name": "stdout",
     "output_type": "stream",
     "text": [
      "The string value is:2\n"
     ]
    }
   ],
   "source": [
    "print(\"The string value is:{1}\".format(x,y,z)) \n",
    "\n",
    "# prints based on index value"
   ]
  },
  {
   "cell_type": "code",
   "execution_count": 77,
   "id": "a143d9e1",
   "metadata": {},
   "outputs": [
    {
     "ename": "IndexError",
     "evalue": "Replacement index 0 out of range for positional args tuple",
     "output_type": "error",
     "traceback": [
      "\u001b[1;31m---------------------------------------------------------------------------\u001b[0m",
      "\u001b[1;31mIndexError\u001b[0m                                Traceback (most recent call last)",
      "Input \u001b[1;32mIn [77]\u001b[0m, in \u001b[0;36m<cell line: 1>\u001b[1;34m()\u001b[0m\n\u001b[1;32m----> 1\u001b[0m \u001b[38;5;28mprint\u001b[39m(\u001b[38;5;124;43m\"\u001b[39;49m\u001b[38;5;124;43mThe string value is:\u001b[39;49m\u001b[38;5;132;43;01m{}\u001b[39;49;00m\u001b[38;5;124;43m\"\u001b[39;49m\u001b[38;5;241;43m.\u001b[39;49m\u001b[43mformat\u001b[49m\u001b[43m(\u001b[49m\u001b[43m)\u001b[49m)\n",
      "\u001b[1;31mIndexError\u001b[0m: Replacement index 0 out of range for positional args tuple"
     ]
    }
   ],
   "source": [
    "print(\"The string value is:{}\".format())"
   ]
  },
  {
   "cell_type": "code",
   "execution_count": 78,
   "id": "2118e938",
   "metadata": {},
   "outputs": [
    {
     "name": "stdout",
     "output_type": "stream",
     "text": [
      "Ravi is string,2 is integer value,and 3.0 is floating point number\n"
     ]
    }
   ],
   "source": [
    "print('{} is string,{} is integer value,and {} is floating point number'.format(x,y,z))"
   ]
  },
  {
   "cell_type": "code",
   "execution_count": 79,
   "id": "8c87872c",
   "metadata": {},
   "outputs": [
    {
     "name": "stdout",
     "output_type": "stream",
     "text": [
      "3.0 is string,2 is integer value,and 3.0 is floating point number\n"
     ]
    }
   ],
   "source": [
    "print('{} is string,{} is integer value,and {} is floating point number'.format(z,y,z))"
   ]
  },
  {
   "cell_type": "code",
   "execution_count": 80,
   "id": "e5880115",
   "metadata": {},
   "outputs": [
    {
     "ename": "IndexError",
     "evalue": "Replacement index 2 out of range for positional args tuple",
     "output_type": "error",
     "traceback": [
      "\u001b[1;31m---------------------------------------------------------------------------\u001b[0m",
      "\u001b[1;31mIndexError\u001b[0m                                Traceback (most recent call last)",
      "Input \u001b[1;32mIn [80]\u001b[0m, in \u001b[0;36m<cell line: 1>\u001b[1;34m()\u001b[0m\n\u001b[1;32m----> 1\u001b[0m \u001b[38;5;28mprint\u001b[39m(\u001b[38;5;124;43m'\u001b[39;49m\u001b[38;5;132;43;01m{}\u001b[39;49;00m\u001b[38;5;124;43m is string,\u001b[39;49m\u001b[38;5;132;43;01m{}\u001b[39;49;00m\u001b[38;5;124;43m is integer value,and \u001b[39;49m\u001b[38;5;132;43;01m{}\u001b[39;49;00m\u001b[38;5;124;43m is floating point number\u001b[39;49m\u001b[38;5;124;43m'\u001b[39;49m\u001b[38;5;241;43m.\u001b[39;49m\u001b[43mformat\u001b[49m\u001b[43m(\u001b[49m\u001b[43my\u001b[49m\u001b[43m,\u001b[49m\u001b[43mz\u001b[49m\u001b[43m)\u001b[49m)\n",
      "\u001b[1;31mIndexError\u001b[0m: Replacement index 2 out of range for positional args tuple"
     ]
    }
   ],
   "source": [
    "print('{} is string,{} is integer value,and {} is floating point number'.format(y,z))"
   ]
  },
  {
   "cell_type": "code",
   "execution_count": 81,
   "id": "43d3e2ab",
   "metadata": {},
   "outputs": [
    {
     "name": "stdout",
     "output_type": "stream",
     "text": [
      "3.0 is string,2 is integer value,and Ravi is floating point number\n"
     ]
    }
   ],
   "source": [
    "print('{} is string,{} is integer value,and {} is floating point number'.format(z,y,x))"
   ]
  },
  {
   "cell_type": "markdown",
   "id": "57c5a80f",
   "metadata": {},
   "source": [
    "### input Function\n",
    "- The **input()** is used to take user input from console or command prompt. The input function reads line of text from console and \n",
    "  returns it as a string.\n",
    "- The syntax of input function is as fallows:\n",
    "\n",
    " **variable_name=input(prompt)**\n",
    "\n",
    "Here the **variable_name** is name of the variable that can store the user-input, prompt is an optional string that will be displayed to the user to prompt them for input."
   ]
  },
  {
   "cell_type": "code",
   "execution_count": 60,
   "id": "50a1af58",
   "metadata": {},
   "outputs": [
    {
     "name": "stdout",
     "output_type": "stream",
     "text": [
      "\n"
     ]
    }
   ],
   "source": [
    "a=input()"
   ]
  },
  {
   "cell_type": "code",
   "execution_count": 82,
   "id": "9a7e1c49",
   "metadata": {},
   "outputs": [
    {
     "name": "stdout",
     "output_type": "stream",
     "text": [
      "Enter your name:Trepy\n",
      "Enter your age:2\n",
      "Enter your home town:Santhabayali\n",
      "So Trepy 2 from Santhabayali\n"
     ]
    }
   ],
   "source": [
    "x=input('Enter your name:')\n",
    "y=input(\"Enter your age:\")\n",
    "z=input('Enter your home town:')\n",
    "print('So',x,y,'from',z)"
   ]
  },
  {
   "cell_type": "code",
   "execution_count": 83,
   "id": "29b769de",
   "metadata": {},
   "outputs": [
    {
     "data": {
      "text/plain": [
       "str"
      ]
     },
     "execution_count": 83,
     "metadata": {},
     "output_type": "execute_result"
    }
   ],
   "source": [
    "type(y) # Here the integer number also read as string "
   ]
  },
  {
   "cell_type": "markdown",
   "id": "06440305",
   "metadata": {},
   "source": [
    "### Type function"
   ]
  },
  {
   "cell_type": "markdown",
   "id": "85e67715",
   "metadata": {},
   "source": [
    "- **type()** function is used to get the type of the variable."
   ]
  },
  {
   "cell_type": "code",
   "execution_count": 84,
   "id": "d0036533",
   "metadata": {
    "scrolled": true
   },
   "outputs": [
    {
     "data": {
      "text/plain": [
       "int"
      ]
     },
     "execution_count": 84,
     "metadata": {},
     "output_type": "execute_result"
    }
   ],
   "source": [
    "type(242)"
   ]
  },
  {
   "cell_type": "code",
   "execution_count": 85,
   "id": "033ea006",
   "metadata": {
    "scrolled": true
   },
   "outputs": [
    {
     "data": {
      "text/plain": [
       "float"
      ]
     },
     "execution_count": 85,
     "metadata": {},
     "output_type": "execute_result"
    }
   ],
   "source": [
    "type(242.264)"
   ]
  },
  {
   "cell_type": "code",
   "execution_count": 86,
   "id": "136bcb3c",
   "metadata": {
    "scrolled": true
   },
   "outputs": [
    {
     "data": {
      "text/plain": [
       "str"
      ]
     },
     "execution_count": 86,
     "metadata": {},
     "output_type": "execute_result"
    }
   ],
   "source": [
    "type('ravi')"
   ]
  },
  {
   "cell_type": "code",
   "execution_count": 87,
   "id": "d534c443",
   "metadata": {
    "scrolled": true
   },
   "outputs": [
    {
     "data": {
      "text/plain": [
       "complex"
      ]
     },
     "execution_count": 87,
     "metadata": {},
     "output_type": "execute_result"
    }
   ],
   "source": [
    "type(3+5j)"
   ]
  },
  {
   "cell_type": "code",
   "execution_count": 88,
   "id": "2a4af4a6",
   "metadata": {
    "scrolled": true
   },
   "outputs": [
    {
     "data": {
      "text/plain": [
       "bool"
      ]
     },
     "execution_count": 88,
     "metadata": {},
     "output_type": "execute_result"
    }
   ],
   "source": [
    "type(True)"
   ]
  },
  {
   "cell_type": "code",
   "execution_count": 89,
   "id": "a242fda5",
   "metadata": {
    "scrolled": true
   },
   "outputs": [
    {
     "data": {
      "text/plain": [
       "list"
      ]
     },
     "execution_count": 89,
     "metadata": {},
     "output_type": "execute_result"
    }
   ],
   "source": [
    "type([1,2,3,4,5,6])"
   ]
  },
  {
   "cell_type": "code",
   "execution_count": 90,
   "id": "a4969479",
   "metadata": {
    "scrolled": true
   },
   "outputs": [
    {
     "data": {
      "text/plain": [
       "tuple"
      ]
     },
     "execution_count": 90,
     "metadata": {},
     "output_type": "execute_result"
    }
   ],
   "source": [
    "type((7,8,9,10))"
   ]
  },
  {
   "cell_type": "code",
   "execution_count": 91,
   "id": "2ceca2d9",
   "metadata": {},
   "outputs": [
    {
     "data": {
      "text/plain": [
       "dict"
      ]
     },
     "execution_count": 91,
     "metadata": {},
     "output_type": "execute_result"
    }
   ],
   "source": [
    "type({'name':'Ravi','Roll_no':'18PHD0264'})"
   ]
  },
  {
   "cell_type": "code",
   "execution_count": 92,
   "id": "9dd01331",
   "metadata": {
    "scrolled": true
   },
   "outputs": [
    {
     "data": {
      "text/plain": [
       "set"
      ]
     },
     "execution_count": 92,
     "metadata": {},
     "output_type": "execute_result"
    }
   ],
   "source": [
    "type({1,1,2,3,4,5,6})"
   ]
  },
  {
   "cell_type": "markdown",
   "id": "1a68c93c",
   "metadata": {},
   "source": [
    "### Python Data Structures or Data types\n",
    "\n",
    "- Python has the following data types built-in by default,\n",
    "\n",
    "    - Text Type:\tstr\n",
    "    - Numeric Types:\tint, float, complex\n",
    "    - Sequence Types:\tlist, tuple, range\n",
    "    - Mapping Type:\tdict\n",
    "    - Set Types:\tset, frozenset\n",
    "    - Boolean Type:\tbool\n",
    "    - Binary Types:\tbytes, bytearray, memoryview\n",
    "    - None Type:\tNoneType"
   ]
  },
  {
   "cell_type": "code",
   "execution_count": 93,
   "id": "0725f404",
   "metadata": {},
   "outputs": [
    {
     "data": {
      "text/plain": [
       "'Hello universe'"
      ]
     },
     "execution_count": 93,
     "metadata": {},
     "output_type": "execute_result"
    }
   ],
   "source": [
    "str('Hello universe')"
   ]
  },
  {
   "cell_type": "code",
   "execution_count": 94,
   "id": "a63c8b21",
   "metadata": {},
   "outputs": [
    {
     "data": {
      "text/plain": [
       "1234567890"
      ]
     },
     "execution_count": 94,
     "metadata": {},
     "output_type": "execute_result"
    }
   ],
   "source": [
    "int(1234567890)"
   ]
  },
  {
   "cell_type": "code",
   "execution_count": 95,
   "id": "77c55f0a",
   "metadata": {},
   "outputs": [
    {
     "ename": "ValueError",
     "evalue": "int() base must be >= 2 and <= 36, or 0",
     "output_type": "error",
     "traceback": [
      "\u001b[1;31m---------------------------------------------------------------------------\u001b[0m",
      "\u001b[1;31mValueError\u001b[0m                                Traceback (most recent call last)",
      "Input \u001b[1;32mIn [95]\u001b[0m, in \u001b[0;36m<cell line: 1>\u001b[1;34m()\u001b[0m\n\u001b[1;32m----> 1\u001b[0m \u001b[38;5;28;43mint\u001b[39;49m\u001b[43m(\u001b[49m\u001b[38;5;241;43m16295\u001b[39;49m\u001b[43m,\u001b[49m\u001b[38;5;241;43m2145\u001b[39;49m\u001b[43m)\u001b[49m\n",
      "\u001b[1;31mValueError\u001b[0m: int() base must be >= 2 and <= 36, or 0"
     ]
    }
   ],
   "source": [
    "int(16295,2145) # Give single value only otherwise it give an error"
   ]
  },
  {
   "cell_type": "code",
   "execution_count": 96,
   "id": "bd123ffa",
   "metadata": {},
   "outputs": [
    {
     "data": {
      "text/plain": [
       "1234.0"
      ]
     },
     "execution_count": 96,
     "metadata": {},
     "output_type": "execute_result"
    }
   ],
   "source": [
    "float(1234)"
   ]
  },
  {
   "cell_type": "code",
   "execution_count": 101,
   "id": "9075e420",
   "metadata": {},
   "outputs": [
    {
     "ename": "TypeError",
     "evalue": "float expected at most 1 argument, got 2",
     "output_type": "error",
     "traceback": [
      "\u001b[1;31m---------------------------------------------------------------------------\u001b[0m",
      "\u001b[1;31mTypeError\u001b[0m                                 Traceback (most recent call last)",
      "Input \u001b[1;32mIn [101]\u001b[0m, in \u001b[0;36m<cell line: 1>\u001b[1;34m()\u001b[0m\n\u001b[1;32m----> 1\u001b[0m \u001b[38;5;28;43mfloat\u001b[39;49m\u001b[43m(\u001b[49m\u001b[38;5;241;43m1234\u001b[39;49m\u001b[43m,\u001b[49m\u001b[38;5;241;43m895\u001b[39;49m\u001b[43m)\u001b[49m\n",
      "\u001b[1;31mTypeError\u001b[0m: float expected at most 1 argument, got 2"
     ]
    }
   ],
   "source": [
    "float(1234,895)"
   ]
  },
  {
   "cell_type": "code",
   "execution_count": 97,
   "id": "5ec04639",
   "metadata": {},
   "outputs": [
    {
     "data": {
      "text/plain": [
       "23"
      ]
     },
     "execution_count": 97,
     "metadata": {},
     "output_type": "execute_result"
    }
   ],
   "source": [
    "int(23.5)"
   ]
  },
  {
   "cell_type": "code",
   "execution_count": 98,
   "id": "44500226",
   "metadata": {},
   "outputs": [
    {
     "data": {
      "text/plain": [
       "(4+8j)"
      ]
     },
     "execution_count": 98,
     "metadata": {},
     "output_type": "execute_result"
    }
   ],
   "source": [
    "complex(4,8)"
   ]
  },
  {
   "cell_type": "code",
   "execution_count": 99,
   "id": "d56d50ce",
   "metadata": {},
   "outputs": [
    {
     "ename": "TypeError",
     "evalue": "complex() takes at most 2 arguments (3 given)",
     "output_type": "error",
     "traceback": [
      "\u001b[1;31m---------------------------------------------------------------------------\u001b[0m",
      "\u001b[1;31mTypeError\u001b[0m                                 Traceback (most recent call last)",
      "Input \u001b[1;32mIn [99]\u001b[0m, in \u001b[0;36m<cell line: 1>\u001b[1;34m()\u001b[0m\n\u001b[1;32m----> 1\u001b[0m \u001b[38;5;28;43mcomplex\u001b[39;49m\u001b[43m(\u001b[49m\u001b[38;5;241;43m1\u001b[39;49m\u001b[43m,\u001b[49m\u001b[38;5;241;43m2\u001b[39;49m\u001b[43m,\u001b[49m\u001b[38;5;241;43m8\u001b[39;49m\u001b[43m)\u001b[49m\n",
      "\u001b[1;31mTypeError\u001b[0m: complex() takes at most 2 arguments (3 given)"
     ]
    }
   ],
   "source": [
    "complex(1,2,8) # observe the error"
   ]
  },
  {
   "cell_type": "code",
   "execution_count": 100,
   "id": "b1e253ba",
   "metadata": {},
   "outputs": [
    {
     "ename": "TypeError",
     "evalue": "list expected at most 1 argument, got 4",
     "output_type": "error",
     "traceback": [
      "\u001b[1;31m---------------------------------------------------------------------------\u001b[0m",
      "\u001b[1;31mTypeError\u001b[0m                                 Traceback (most recent call last)",
      "Input \u001b[1;32mIn [100]\u001b[0m, in \u001b[0;36m<cell line: 1>\u001b[1;34m()\u001b[0m\n\u001b[1;32m----> 1\u001b[0m \u001b[38;5;28;43mlist\u001b[39;49m\u001b[43m(\u001b[49m\u001b[38;5;124;43m\"\u001b[39;49m\u001b[38;5;124;43mravi\u001b[39;49m\u001b[38;5;124;43m\"\u001b[39;49m\u001b[43m,\u001b[49m\u001b[38;5;241;43m24\u001b[39;49m\u001b[43m,\u001b[49m\u001b[38;5;241;43m56.8\u001b[39;49m\u001b[43m,\u001b[49m\u001b[38;5;28;43;01mTrue\u001b[39;49;00m\u001b[43m)\u001b[49m\n",
      "\u001b[1;31mTypeError\u001b[0m: list expected at most 1 argument, got 4"
     ]
    }
   ],
   "source": [
    "list(\"ravi\",24,56.8,True)"
   ]
  },
  {
   "cell_type": "code",
   "execution_count": 102,
   "id": "3256c045",
   "metadata": {},
   "outputs": [
    {
     "data": {
      "text/plain": [
       "['ravi', 30, 40.3, True]"
      ]
     },
     "execution_count": 102,
     "metadata": {},
     "output_type": "execute_result"
    }
   ],
   "source": [
    "list(('ravi',30,40.3,True))"
   ]
  },
  {
   "cell_type": "code",
   "execution_count": 103,
   "id": "760385f0",
   "metadata": {},
   "outputs": [
    {
     "ename": "TypeError",
     "evalue": "tuple expected at most 1 argument, got 4",
     "output_type": "error",
     "traceback": [
      "\u001b[1;31m---------------------------------------------------------------------------\u001b[0m",
      "\u001b[1;31mTypeError\u001b[0m                                 Traceback (most recent call last)",
      "Input \u001b[1;32mIn [103]\u001b[0m, in \u001b[0;36m<cell line: 1>\u001b[1;34m()\u001b[0m\n\u001b[1;32m----> 1\u001b[0m \u001b[38;5;28;43mtuple\u001b[39;49m\u001b[43m(\u001b[49m\u001b[38;5;124;43m'\u001b[39;49m\u001b[38;5;124;43mMadhu\u001b[39;49m\u001b[38;5;124;43m'\u001b[39;49m\u001b[43m,\u001b[49m\u001b[38;5;241;43m30\u001b[39;49m\u001b[43m,\u001b[49m\u001b[38;5;241;43m50.6\u001b[39;49m\u001b[43m,\u001b[49m\u001b[38;5;28;43;01mFalse\u001b[39;49;00m\u001b[43m)\u001b[49m\n",
      "\u001b[1;31mTypeError\u001b[0m: tuple expected at most 1 argument, got 4"
     ]
    }
   ],
   "source": [
    "tuple('Madhu',30,50.6,False)"
   ]
  },
  {
   "cell_type": "code",
   "execution_count": 104,
   "id": "079785d6",
   "metadata": {},
   "outputs": [
    {
     "data": {
      "text/plain": [
       "('Madhu', 30, 50.7, False)"
      ]
     },
     "execution_count": 104,
     "metadata": {},
     "output_type": "execute_result"
    }
   ],
   "source": [
    "tuple(('Madhu',30,50.7,False))"
   ]
  },
  {
   "cell_type": "code",
   "execution_count": 105,
   "id": "d70d1565",
   "metadata": {},
   "outputs": [
    {
     "data": {
      "text/plain": [
       "range(0, 9)"
      ]
     },
     "execution_count": 105,
     "metadata": {},
     "output_type": "execute_result"
    }
   ],
   "source": [
    "range(9)"
   ]
  },
  {
   "cell_type": "code",
   "execution_count": 106,
   "id": "5ba67ee0",
   "metadata": {},
   "outputs": [
    {
     "name": "stdout",
     "output_type": "stream",
     "text": [
      "range(0, 9)\n"
     ]
    }
   ],
   "source": [
    "print(range(9))"
   ]
  },
  {
   "cell_type": "code",
   "execution_count": 107,
   "id": "e54c8a12",
   "metadata": {},
   "outputs": [
    {
     "name": "stdout",
     "output_type": "stream",
     "text": [
      "[0, 1, 2, 3, 4, 5]\n"
     ]
    }
   ],
   "source": [
    "x=range(6)\n",
    "print(list(x))"
   ]
  },
  {
   "cell_type": "code",
   "execution_count": 108,
   "id": "63a74e4d",
   "metadata": {},
   "outputs": [
    {
     "name": "stdout",
     "output_type": "stream",
     "text": [
      "(0, 1, 2, 3, 4, 5)\n"
     ]
    }
   ],
   "source": [
    "print(tuple(x))"
   ]
  },
  {
   "cell_type": "code",
   "execution_count": 110,
   "id": "52530363",
   "metadata": {},
   "outputs": [
    {
     "ename": "SyntaxError",
     "evalue": "invalid syntax (4132503453.py, line 1)",
     "output_type": "error",
     "traceback": [
      "\u001b[1;36m  Input \u001b[1;32mIn [110]\u001b[1;36m\u001b[0m\n\u001b[1;33m    dict((name='Trepy',age=2,DOB=2023))\u001b[0m\n\u001b[1;37m              ^\u001b[0m\n\u001b[1;31mSyntaxError\u001b[0m\u001b[1;31m:\u001b[0m invalid syntax\n"
     ]
    }
   ],
   "source": [
    "dict((name='Trepy',age=2,DOB=2023))"
   ]
  },
  {
   "cell_type": "code",
   "execution_count": 111,
   "id": "5883584c",
   "metadata": {},
   "outputs": [
    {
     "data": {
      "text/plain": [
       "{'name': 'Trepy', 'age': 2, 'DOB': 2023}"
      ]
     },
     "execution_count": 111,
     "metadata": {},
     "output_type": "execute_result"
    }
   ],
   "source": [
    "dict(name='Trepy',age=2,DOB=2023)"
   ]
  },
  {
   "cell_type": "code",
   "execution_count": 112,
   "id": "9062754c",
   "metadata": {},
   "outputs": [
    {
     "data": {
      "text/plain": [
       "{2, 4, 5, 8, 'a'}"
      ]
     },
     "execution_count": 112,
     "metadata": {},
     "output_type": "execute_result"
    }
   ],
   "source": [
    "set(('a',2,2,4,8,5,4))"
   ]
  },
  {
   "cell_type": "code",
   "execution_count": 113,
   "id": "8083f982",
   "metadata": {},
   "outputs": [
    {
     "data": {
      "text/plain": [
       "frozenset({2, 4, 5, 7, 8, 'a'})"
      ]
     },
     "execution_count": 113,
     "metadata": {},
     "output_type": "execute_result"
    }
   ],
   "source": [
    "frozenset(('a',5,5,4,2,2,8,7))"
   ]
  },
  {
   "cell_type": "code",
   "execution_count": 114,
   "id": "7e89be87",
   "metadata": {},
   "outputs": [
    {
     "data": {
      "text/plain": [
       "False"
      ]
     },
     "execution_count": 114,
     "metadata": {},
     "output_type": "execute_result"
    }
   ],
   "source": [
    "bool(0)"
   ]
  },
  {
   "cell_type": "code",
   "execution_count": 115,
   "id": "ed98dd4f",
   "metadata": {},
   "outputs": [
    {
     "data": {
      "text/plain": [
       "True"
      ]
     },
     "execution_count": 115,
     "metadata": {},
     "output_type": "execute_result"
    }
   ],
   "source": [
    "bool(3)"
   ]
  },
  {
   "cell_type": "code",
   "execution_count": 116,
   "id": "bea8ed83",
   "metadata": {},
   "outputs": [
    {
     "data": {
      "text/plain": [
       "True"
      ]
     },
     "execution_count": 116,
     "metadata": {},
     "output_type": "execute_result"
    }
   ],
   "source": [
    "bool(4)"
   ]
  },
  {
   "cell_type": "code",
   "execution_count": 117,
   "id": "bcef4034",
   "metadata": {},
   "outputs": [
    {
     "data": {
      "text/plain": [
       "4"
      ]
     },
     "execution_count": 117,
     "metadata": {},
     "output_type": "execute_result"
    }
   ],
   "source": [
    "True+True+True+False+True"
   ]
  },
  {
   "cell_type": "code",
   "execution_count": 118,
   "id": "bf782053",
   "metadata": {},
   "outputs": [
    {
     "data": {
      "text/plain": [
       "0"
      ]
     },
     "execution_count": 118,
     "metadata": {},
     "output_type": "execute_result"
    }
   ],
   "source": [
    "int(False)"
   ]
  },
  {
   "cell_type": "code",
   "execution_count": 119,
   "id": "d983a9a6",
   "metadata": {},
   "outputs": [
    {
     "data": {
      "text/plain": [
       "1"
      ]
     },
     "execution_count": 119,
     "metadata": {},
     "output_type": "execute_result"
    }
   ],
   "source": [
    "int(True)"
   ]
  },
  {
   "cell_type": "code",
   "execution_count": 120,
   "id": "3ef71c92",
   "metadata": {},
   "outputs": [
    {
     "data": {
      "text/plain": [
       "1"
      ]
     },
     "execution_count": 120,
     "metadata": {},
     "output_type": "execute_result"
    }
   ],
   "source": [
    "False+False\n",
    "False+True"
   ]
  },
  {
   "cell_type": "code",
   "execution_count": 121,
   "id": "1383154c",
   "metadata": {},
   "outputs": [
    {
     "data": {
      "text/plain": [
       "2"
      ]
     },
     "execution_count": 121,
     "metadata": {},
     "output_type": "execute_result"
    }
   ],
   "source": [
    "False+False\n",
    "False+True\n",
    "True+True"
   ]
  },
  {
   "cell_type": "code",
   "execution_count": 122,
   "id": "d56e6395",
   "metadata": {},
   "outputs": [
    {
     "data": {
      "text/plain": [
       "1"
      ]
     },
     "execution_count": 122,
     "metadata": {},
     "output_type": "execute_result"
    }
   ],
   "source": [
    "True*True"
   ]
  },
  {
   "cell_type": "code",
   "execution_count": 123,
   "id": "1cee8bd1",
   "metadata": {},
   "outputs": [
    {
     "ename": "ZeroDivisionError",
     "evalue": "division by zero",
     "output_type": "error",
     "traceback": [
      "\u001b[1;31m---------------------------------------------------------------------------\u001b[0m",
      "\u001b[1;31mZeroDivisionError\u001b[0m                         Traceback (most recent call last)",
      "Input \u001b[1;32mIn [123]\u001b[0m, in \u001b[0;36m<cell line: 1>\u001b[1;34m()\u001b[0m\n\u001b[1;32m----> 1\u001b[0m \u001b[38;5;28;43;01mTrue\u001b[39;49;00m\u001b[38;5;241;43m/\u001b[39;49m\u001b[38;5;28;43;01mFalse\u001b[39;49;00m\n",
      "\u001b[1;31mZeroDivisionError\u001b[0m: division by zero"
     ]
    }
   ],
   "source": [
    "True/False"
   ]
  },
  {
   "cell_type": "code",
   "execution_count": 124,
   "id": "62d68f42",
   "metadata": {},
   "outputs": [],
   "source": [
    "n=45+6j   # complex= real+imag---> 'j' is  only notation to represent a complex number"
   ]
  },
  {
   "cell_type": "code",
   "execution_count": 125,
   "id": "87c73366",
   "metadata": {},
   "outputs": [
    {
     "data": {
      "text/plain": [
       "complex"
      ]
     },
     "execution_count": 125,
     "metadata": {},
     "output_type": "execute_result"
    }
   ],
   "source": [
    "type(n)"
   ]
  },
  {
   "cell_type": "code",
   "execution_count": 126,
   "id": "5aabdd16",
   "metadata": {},
   "outputs": [
    {
     "data": {
      "text/plain": [
       "6.0"
      ]
     },
     "execution_count": 126,
     "metadata": {},
     "output_type": "execute_result"
    }
   ],
   "source": [
    "n.imag"
   ]
  },
  {
   "cell_type": "code",
   "execution_count": 127,
   "id": "6ad5e606",
   "metadata": {},
   "outputs": [
    {
     "data": {
      "text/plain": [
       "45.0"
      ]
     },
     "execution_count": 127,
     "metadata": {},
     "output_type": "execute_result"
    }
   ],
   "source": [
    "n.real"
   ]
  },
  {
   "cell_type": "code",
   "execution_count": 128,
   "id": "59f46134",
   "metadata": {},
   "outputs": [
    {
     "data": {
      "text/plain": [
       "<function complex.conjugate>"
      ]
     },
     "execution_count": 128,
     "metadata": {},
     "output_type": "execute_result"
    }
   ],
   "source": [
    "n.conjugate"
   ]
  },
  {
   "cell_type": "code",
   "execution_count": 129,
   "id": "53a8bb73",
   "metadata": {},
   "outputs": [],
   "source": [
    "m=2+3j"
   ]
  },
  {
   "cell_type": "code",
   "execution_count": 130,
   "id": "b0b617b0",
   "metadata": {},
   "outputs": [
    {
     "data": {
      "text/plain": [
       "(72+147j)"
      ]
     },
     "execution_count": 130,
     "metadata": {},
     "output_type": "execute_result"
    }
   ],
   "source": [
    "n*m"
   ]
  },
  {
   "cell_type": "code",
   "execution_count": 131,
   "id": "662e6508",
   "metadata": {},
   "outputs": [
    {
     "data": {
      "text/plain": [
       "(47+9j)"
      ]
     },
     "execution_count": 131,
     "metadata": {},
     "output_type": "execute_result"
    }
   ],
   "source": [
    "n+m"
   ]
  },
  {
   "cell_type": "code",
   "execution_count": 132,
   "id": "f71f3baf",
   "metadata": {},
   "outputs": [
    {
     "data": {
      "text/plain": [
       "(-43-3j)"
      ]
     },
     "execution_count": 132,
     "metadata": {},
     "output_type": "execute_result"
    }
   ],
   "source": [
    "m-n"
   ]
  },
  {
   "cell_type": "code",
   "execution_count": 133,
   "id": "0e58f124",
   "metadata": {},
   "outputs": [
    {
     "ename": "TypeError",
     "evalue": "unsupported operand type(s) for +: 'int' and 'str'",
     "output_type": "error",
     "traceback": [
      "\u001b[1;31m---------------------------------------------------------------------------\u001b[0m",
      "\u001b[1;31mTypeError\u001b[0m                                 Traceback (most recent call last)",
      "Input \u001b[1;32mIn [133]\u001b[0m, in \u001b[0;36m<cell line: 1>\u001b[1;34m()\u001b[0m\n\u001b[1;32m----> 1\u001b[0m \u001b[38;5;241;43m1\u001b[39;49m\u001b[38;5;241;43m+\u001b[39;49m\u001b[38;5;124;43m'\u001b[39;49m\u001b[38;5;124;43mravi\u001b[39;49m\u001b[38;5;124;43m'\u001b[39;49m\n",
      "\u001b[1;31mTypeError\u001b[0m: unsupported operand type(s) for +: 'int' and 'str'"
     ]
    }
   ],
   "source": [
    "1+'ravi'"
   ]
  },
  {
   "cell_type": "code",
   "execution_count": 134,
   "id": "1097ad4c",
   "metadata": {},
   "outputs": [
    {
     "data": {
      "text/plain": [
       "'2RAVI'"
      ]
     },
     "execution_count": 134,
     "metadata": {},
     "output_type": "execute_result"
    }
   ],
   "source": [
    "'2'+'RAVI'"
   ]
  },
  {
   "cell_type": "code",
   "execution_count": 135,
   "id": "ac710ef1",
   "metadata": {},
   "outputs": [
    {
     "data": {
      "text/plain": [
       "'264Ravi'"
      ]
     },
     "execution_count": 135,
     "metadata": {},
     "output_type": "execute_result"
    }
   ],
   "source": [
    "str(264)+'Ravi'"
   ]
  },
  {
   "cell_type": "code",
   "execution_count": 136,
   "id": "424d5c7a",
   "metadata": {},
   "outputs": [
    {
     "data": {
      "text/plain": [
       "2.0"
      ]
     },
     "execution_count": 136,
     "metadata": {},
     "output_type": "execute_result"
    }
   ],
   "source": [
    "1+1.0"
   ]
  },
  {
   "cell_type": "code",
   "execution_count": 137,
   "id": "738dadb2",
   "metadata": {},
   "outputs": [
    {
     "data": {
      "text/plain": [
       "'TatireddyRavi'"
      ]
     },
     "execution_count": 137,
     "metadata": {},
     "output_type": "execute_result"
    }
   ],
   "source": [
    "'Tatireddy'+'Ravi'"
   ]
  },
  {
   "cell_type": "code",
   "execution_count": 138,
   "id": "ddc3c905",
   "metadata": {},
   "outputs": [
    {
     "data": {
      "text/plain": [
       "'Madhu   Madhu   Madhu   '"
      ]
     },
     "execution_count": 138,
     "metadata": {},
     "output_type": "execute_result"
    }
   ],
   "source": [
    "'Madhu   '*3"
   ]
  },
  {
   "cell_type": "code",
   "execution_count": 139,
   "id": "1f7fc8a3",
   "metadata": {},
   "outputs": [
    {
     "ename": "TypeError",
     "evalue": "unsupported operand type(s) for -: 'str' and 'str'",
     "output_type": "error",
     "traceback": [
      "\u001b[1;31m---------------------------------------------------------------------------\u001b[0m",
      "\u001b[1;31mTypeError\u001b[0m                                 Traceback (most recent call last)",
      "Input \u001b[1;32mIn [139]\u001b[0m, in \u001b[0;36m<cell line: 1>\u001b[1;34m()\u001b[0m\n\u001b[1;32m----> 1\u001b[0m \u001b[38;5;124;43m'\u001b[39;49m\u001b[38;5;124;43mravi\u001b[39;49m\u001b[38;5;124;43m'\u001b[39;49m\u001b[38;5;241;43m-\u001b[39;49m\u001b[38;5;124;43m'\u001b[39;49m\u001b[38;5;124;43mMadhu\u001b[39;49m\u001b[38;5;124;43m'\u001b[39;49m\n",
      "\u001b[1;31mTypeError\u001b[0m: unsupported operand type(s) for -: 'str' and 'str'"
     ]
    }
   ],
   "source": [
    "'ravi'-'Madhu'"
   ]
  },
  {
   "cell_type": "markdown",
   "id": "5cbc0078",
   "metadata": {},
   "source": [
    "### Python type casting\n",
    "- In Python, type casting (also known as type conversion) is the process of changing the data type of a variable from one type to another. Python provides built-in functions for performing type casting to facilitate seamless operations between different data types. Here are some common type casting functions in Python:\n",
    "\n",
    "    - **int():** Converts a value to an integer data type.\n",
    "    - **float():** Converts a value to a floating-point data type.\n",
    "    - **str():** Converts a value to a string data type.\n",
    "    - **list():** Converts a value to a list data type.\n",
    "    - **tuple():** Converts a value to a tuple data type.\n",
    "    - **bool():** Converts a value to a boolean data type.\n",
    "    - **dict():** Converts a value to a dictionary data type.\n",
    "    - **set():** Converts a value to a set data type.\n",
    "    \n",
    "- Let's go through some examples to illustrate type casting in Python:"
   ]
  },
  {
   "cell_type": "code",
   "execution_count": 140,
   "id": "b2bea16d",
   "metadata": {},
   "outputs": [
    {
     "name": "stdout",
     "output_type": "stream",
     "text": [
      "10.0\n"
     ]
    }
   ],
   "source": [
    "# integer to float\n",
    "integer_num = 10\n",
    "float_num = float(integer_num)\n",
    "print(float_num)  # Output: 10.0"
   ]
  },
  {
   "cell_type": "code",
   "execution_count": 141,
   "id": "b57e8591",
   "metadata": {},
   "outputs": [
    {
     "name": "stdout",
     "output_type": "stream",
     "text": [
      "3\n"
     ]
    }
   ],
   "source": [
    "# Float to integer\n",
    "float_num = 3.14\n",
    "integer_num = int(float_num)\n",
    "print(integer_num)  # Output: 3"
   ]
  },
  {
   "cell_type": "code",
   "execution_count": 142,
   "id": "580f9b9b",
   "metadata": {},
   "outputs": [
    {
     "name": "stdout",
     "output_type": "stream",
     "text": [
      "42\n"
     ]
    }
   ],
   "source": [
    "# integer to string\n",
    "integer_num = 42\n",
    "str_num = str(integer_num)\n",
    "print(str_num)  # Output: \"42\"\n"
   ]
  },
  {
   "cell_type": "code",
   "execution_count": 143,
   "id": "0f6b50da",
   "metadata": {},
   "outputs": [
    {
     "name": "stdout",
     "output_type": "stream",
     "text": [
      "25\n"
     ]
    }
   ],
   "source": [
    "# string to integer\n",
    "str_num = \"25\"\n",
    "integer_num = int(str_num)\n",
    "print(integer_num)  # Output: 25\n",
    " \n",
    "# string to integer(float) is possible only when string is having numerics instead of alphabates"
   ]
  },
  {
   "cell_type": "code",
   "execution_count": 144,
   "id": "b0011012",
   "metadata": {},
   "outputs": [
    {
     "ename": "ValueError",
     "evalue": "invalid literal for int() with base 10: 'ravi'",
     "output_type": "error",
     "traceback": [
      "\u001b[1;31m---------------------------------------------------------------------------\u001b[0m",
      "\u001b[1;31mValueError\u001b[0m                                Traceback (most recent call last)",
      "Input \u001b[1;32mIn [144]\u001b[0m, in \u001b[0;36m<cell line: 2>\u001b[1;34m()\u001b[0m\n\u001b[0;32m      1\u001b[0m str_num\u001b[38;5;241m=\u001b[39m\u001b[38;5;124m'\u001b[39m\u001b[38;5;124mravi\u001b[39m\u001b[38;5;124m'\u001b[39m\n\u001b[1;32m----> 2\u001b[0m int_num\u001b[38;5;241m=\u001b[39m\u001b[38;5;28;43mint\u001b[39;49m\u001b[43m(\u001b[49m\u001b[43mstr_num\u001b[49m\u001b[43m)\u001b[49m\n\u001b[0;32m      3\u001b[0m \u001b[38;5;28mprint\u001b[39m(int_num)\n",
      "\u001b[1;31mValueError\u001b[0m: invalid literal for int() with base 10: 'ravi'"
     ]
    }
   ],
   "source": [
    "str_num='ravi'\n",
    "int_num=int(str_num)\n",
    "print(int_num)\n"
   ]
  },
  {
   "cell_type": "code",
   "execution_count": 145,
   "id": "c9118c91",
   "metadata": {},
   "outputs": [
    {
     "name": "stdout",
     "output_type": "stream",
     "text": [
      "3.14\n"
     ]
    }
   ],
   "source": [
    "# string to float\n",
    "str_float = \"3.14\"\n",
    "float_num = float(str_float)\n",
    "print(float_num)  # Output: 3.14\n"
   ]
  },
  {
   "cell_type": "code",
   "execution_count": 146,
   "id": "cdec549e",
   "metadata": {},
   "outputs": [
    {
     "ename": "ValueError",
     "evalue": "could not convert string to float: 'madhu'",
     "output_type": "error",
     "traceback": [
      "\u001b[1;31m---------------------------------------------------------------------------\u001b[0m",
      "\u001b[1;31mValueError\u001b[0m                                Traceback (most recent call last)",
      "Input \u001b[1;32mIn [146]\u001b[0m, in \u001b[0;36m<cell line: 2>\u001b[1;34m()\u001b[0m\n\u001b[0;32m      1\u001b[0m str_float \u001b[38;5;241m=\u001b[39m \u001b[38;5;124m\"\u001b[39m\u001b[38;5;124mmadhu\u001b[39m\u001b[38;5;124m\"\u001b[39m\n\u001b[1;32m----> 2\u001b[0m float_num \u001b[38;5;241m=\u001b[39m \u001b[38;5;28;43mfloat\u001b[39;49m\u001b[43m(\u001b[49m\u001b[43mstr_float\u001b[49m\u001b[43m)\u001b[49m\n\u001b[0;32m      3\u001b[0m \u001b[38;5;28mprint\u001b[39m(float_num)\n",
      "\u001b[1;31mValueError\u001b[0m: could not convert string to float: 'madhu'"
     ]
    }
   ],
   "source": [
    "str_float = \"madhu\"\n",
    "float_num = float(str_float)\n",
    "print(float_num)  \n"
   ]
  },
  {
   "cell_type": "code",
   "execution_count": 147,
   "id": "cc395f4d",
   "metadata": {},
   "outputs": [
    {
     "name": "stdout",
     "output_type": "stream",
     "text": [
      "(1, 2, 3, 4)\n"
     ]
    }
   ],
   "source": [
    "# list to tuple\n",
    "list_data = [1, 2, 3, 4]\n",
    "tuple_data = tuple(list_data)\n",
    "print(tuple_data)  # Output: (1, 2, 3, 4)\n"
   ]
  },
  {
   "cell_type": "code",
   "execution_count": 148,
   "id": "845662cb",
   "metadata": {},
   "outputs": [
    {
     "name": "stdout",
     "output_type": "stream",
     "text": [
      "True\n",
      "True\n"
     ]
    }
   ],
   "source": [
    "# string to bool\n",
    "true_str = \"True\"\n",
    "false_str = \"False\"\n",
    "\n",
    "bool_true = bool(true_str)\n",
    "bool_false = bool(false_str)\n",
    "\n",
    "print(bool_true)  # Output: True\n",
    "print(bool_false) # Output: True (Any non-empty string evaluates to True)\n"
   ]
  },
  {
   "cell_type": "markdown",
   "id": "c484268b",
   "metadata": {},
   "source": [
    "- Please note that type casting may lead to potential data loss or unexpected behavior if the conversion is not compatible with the data. So, it's essential to use type casting carefully and ensure that the conversion makes sense in the context of your program."
   ]
  },
  {
   "cell_type": "markdown",
   "id": "c676b860",
   "metadata": {},
   "source": [
    "# operators in python\n",
    "- In Python, operators are special symbols or key used to perform operations on variables, values, or expressions. They enable you to perform arithmetic, logical, and other types of operations. Python supports various types of operators, including:\n",
    "\n",
    "    **1. Arithmetic Operators:**\n",
    "\n",
    "     - '**+**' Addition: Adds two operands.\n",
    "     - '**-**' Subtraction: Subtracts the right operand from the left operand.\n",
    "     - '**\\***' Multiplication: Multiplies two operands.\n",
    "     - '**/**' Division: Divides the left operand by the right operand (always returns a float).\n",
    "     - '**//**' Floor Division: Divides the left operand by the right operand, discarding the fractional part (returns integer).\n",
    "     - '**%**' Modulo: Returns the remainder of the division of the left operand by the right operand.\n",
    "     - '**\\*\\***' Exponentiation: Raises the left operand to the power of the right operand.\n",
    "        \n",
    "   "
   ]
  },
  {
   "cell_type": "code",
   "execution_count": 124,
   "id": "4f5428a8",
   "metadata": {},
   "outputs": [
    {
     "name": "stdout",
     "output_type": "stream",
     "text": [
      "enter the first value:9\n",
      "enter the second value:2\n",
      "11\n"
     ]
    }
   ],
   "source": [
    "a=int(input('enter the first value:'))\n",
    "b=int(input('enter the second value:'))\n",
    "\n",
    "# adding two numbers\n",
    "\n",
    "print(a+b) "
   ]
  },
  {
   "cell_type": "code",
   "execution_count": 125,
   "id": "4aa15640",
   "metadata": {},
   "outputs": [
    {
     "name": "stdout",
     "output_type": "stream",
     "text": [
      "7\n"
     ]
    }
   ],
   "source": [
    "# subtraction:subtract the right operand from left operand.\n",
    "print(a-b)"
   ]
  },
  {
   "cell_type": "code",
   "execution_count": 126,
   "id": "64194037",
   "metadata": {},
   "outputs": [
    {
     "name": "stdout",
     "output_type": "stream",
     "text": [
      "18\n"
     ]
    }
   ],
   "source": [
    "# multiplication: multiply two operands.\n",
    "print(a*b)"
   ]
  },
  {
   "cell_type": "code",
   "execution_count": 127,
   "id": "dbb68c3d",
   "metadata": {},
   "outputs": [
    {
     "name": "stdout",
     "output_type": "stream",
     "text": [
      "4.5\n"
     ]
    }
   ],
   "source": [
    "# division:divides the left operand by right operand(always returns a float)\n",
    "print(a/b)"
   ]
  },
  {
   "cell_type": "code",
   "execution_count": 128,
   "id": "902bee72",
   "metadata": {},
   "outputs": [
    {
     "name": "stdout",
     "output_type": "stream",
     "text": [
      "4\n"
     ]
    }
   ],
   "source": [
    "# floor division or integer division: divides the left operand by right operand,discarding the fractional part and \n",
    "# returns integer.\n",
    "print(a//b)"
   ]
  },
  {
   "cell_type": "code",
   "execution_count": 129,
   "id": "821557fb",
   "metadata": {},
   "outputs": [
    {
     "name": "stdout",
     "output_type": "stream",
     "text": [
      "1\n"
     ]
    }
   ],
   "source": [
    "# Modulo:returns the remainder of the division of left operand by the right operand.\n",
    "print(a%b)"
   ]
  },
  {
   "cell_type": "code",
   "execution_count": 130,
   "id": "3ffb3b54",
   "metadata": {},
   "outputs": [
    {
     "name": "stdout",
     "output_type": "stream",
     "text": [
      "81\n"
     ]
    }
   ],
   "source": [
    "# Exponentiation:Raises the left operand to the power of the right operand.\n",
    "print(a**b)"
   ]
  },
  {
   "cell_type": "markdown",
   "id": "c179f872",
   "metadata": {},
   "source": [
    "**2. Assignment Operators:**\n",
    "   - '**=**' Assignment: Assigns the value on the right to the variable on the left.\n",
    "   - '**+=**' Add and Assign: Adds the right operand to the left operand and assigns the result to the left operand.\n",
    "   - '**-=**' Subtract and Assign: Subtracts the right operand from the left operand and assigns the result to the left operand.\n",
    "   - '***=**' Multiply and Assign: Multiplies the left operand with the right operand and assigns the result to the left operand.\n",
    "   - '**/=**' Divide and Assign: Divides the left operand by the right operand and assigns the result to the left operand.\n",
    "   - '**//=**' Floor Divide and Assign: Performs floor division on the left operand by the right operand and assigns the result to the left operand.\n",
    "   - '**%=**' Modulo and Assign: Calculates the modulo of the left operand by the right operand and assigns the result to the left operand.\n",
    "   - '****=**' Exponentiation and Assign: Raises the left operand to the power of the right operand and assigns the result to the left operand.\n",
    "              "
   ]
  },
  {
   "cell_type": "code",
   "execution_count": 131,
   "id": "95c60a40",
   "metadata": {},
   "outputs": [
    {
     "name": "stdout",
     "output_type": "stream",
     "text": [
      "9\n"
     ]
    }
   ],
   "source": [
    "# Assignment:Assigns the value on the right to the variable on the left.\n",
    "a=9\n",
    "print(a)"
   ]
  },
  {
   "cell_type": "code",
   "execution_count": 132,
   "id": "668c775e",
   "metadata": {},
   "outputs": [
    {
     "name": "stdout",
     "output_type": "stream",
     "text": [
      "12\n"
     ]
    }
   ],
   "source": [
    "# add and assign:ads the right operand to the left operand and assigns the results to the left operand.\n",
    "a=9\n",
    "a+=3\n",
    "print(a)"
   ]
  },
  {
   "cell_type": "code",
   "execution_count": 133,
   "id": "e147d891",
   "metadata": {},
   "outputs": [
    {
     "name": "stdout",
     "output_type": "stream",
     "text": [
      "7\n"
     ]
    }
   ],
   "source": [
    "# subtract and assign:subtract the right operand from left operand and assign the results to the left operand.\n",
    "a=9\n",
    "b=2\n",
    "a-=b\n",
    "print(a)"
   ]
  },
  {
   "cell_type": "code",
   "execution_count": 134,
   "id": "bb8f2b6b",
   "metadata": {},
   "outputs": [
    {
     "name": "stdout",
     "output_type": "stream",
     "text": [
      "18\n"
     ]
    }
   ],
   "source": [
    "# Multiply and assign:multiplies the left operand with right operand and assign the results to the right operand.\n",
    "a=9\n",
    "b=2\n",
    "a*=b\n",
    "print(a)"
   ]
  },
  {
   "cell_type": "code",
   "execution_count": 135,
   "id": "06a79524",
   "metadata": {},
   "outputs": [
    {
     "name": "stdout",
     "output_type": "stream",
     "text": [
      "4.5\n"
     ]
    }
   ],
   "source": [
    "# divide and assign:divides the left operand by the right operand and assign the results to the right ooperand.\n",
    "a=9\n",
    "b=2\n",
    "a/=b\n",
    "print(a)"
   ]
  },
  {
   "cell_type": "code",
   "execution_count": 136,
   "id": "c0b7cb6d",
   "metadata": {},
   "outputs": [
    {
     "name": "stdout",
     "output_type": "stream",
     "text": [
      "4\n"
     ]
    }
   ],
   "source": [
    "# Floor division:perform floor division on the left operand by the right operand and assign the results to the right operand.\n",
    "a=9\n",
    "b=2\n",
    "a//=b\n",
    "print(a)  #divides the left operand by right operand,discarding the fractional part and \n",
    "# returns integer."
   ]
  },
  {
   "cell_type": "code",
   "execution_count": 137,
   "id": "f672531a",
   "metadata": {},
   "outputs": [
    {
     "name": "stdout",
     "output_type": "stream",
     "text": [
      "1\n"
     ]
    }
   ],
   "source": [
    "# Madulo and assign:calculates madulo of the left operand by the right operand and assign the results to the left operand.\n",
    "a=9\n",
    "b=2\n",
    "a%=b\n",
    "print(a)"
   ]
  },
  {
   "cell_type": "code",
   "execution_count": 138,
   "id": "4104ee41",
   "metadata": {},
   "outputs": [
    {
     "name": "stdout",
     "output_type": "stream",
     "text": [
      "81\n"
     ]
    }
   ],
   "source": [
    "# Exponentiation and assign:Raises the left operand to the power of right operand and assign the results to the left operand.\n",
    "a=9\n",
    "b=2\n",
    "a**=b\n",
    "print(a)"
   ]
  },
  {
   "cell_type": "markdown",
   "id": "251f3eca",
   "metadata": {},
   "source": [
    "**3. Comparison Operators:**\n",
    " - The output of comparision operators is always **True** or **False**.\n",
    " \n",
    "      - '**==**' Equal to: Returns True if both operands are equal.\n",
    "      - '**!=**' Not Equal to: Returns True if the operands are not equal.\n",
    "      - '**>**' Greater than: Returns True if the left operand is greater than the right operand.\n",
    "      - '**<**' Less than: Returns True if the left operand is less than the right operand.\n",
    "      - '**>=**' Greater than or Equal to: Returns True if the left operand is greater than or equal to the right operand.\n",
    "      - '**<=**' Less than or Equal to: Returns True if the left operand is less than or equal to the right operand."
   ]
  },
  {
   "cell_type": "code",
   "execution_count": 139,
   "id": "acdc7ec2",
   "metadata": {},
   "outputs": [
    {
     "name": "stdout",
     "output_type": "stream",
     "text": [
      "enter the first number:9\n",
      "enter the second number:5\n",
      "False\n"
     ]
    }
   ],
   "source": [
    "x=int(input('enter the first number:'))\n",
    "y=int(input('enter the second number:'))\n",
    "\n",
    "# Equal to: Returns True if both operands are equal.\n",
    "print(x==y)"
   ]
  },
  {
   "cell_type": "code",
   "execution_count": 140,
   "id": "68f9e250",
   "metadata": {},
   "outputs": [
    {
     "name": "stdout",
     "output_type": "stream",
     "text": [
      "True\n"
     ]
    }
   ],
   "source": [
    "# Not Equal to: Returns True if the operands are not equal.\n",
    "print(x!=y)"
   ]
  },
  {
   "cell_type": "code",
   "execution_count": 141,
   "id": "b60e0b1d",
   "metadata": {},
   "outputs": [
    {
     "name": "stdout",
     "output_type": "stream",
     "text": [
      "True\n"
     ]
    }
   ],
   "source": [
    "# Greater than: Returns True if the left operand is greater than the right operand.\n",
    "print(x>y)"
   ]
  },
  {
   "cell_type": "code",
   "execution_count": 142,
   "id": "7d74f08e",
   "metadata": {},
   "outputs": [
    {
     "name": "stdout",
     "output_type": "stream",
     "text": [
      "False\n"
     ]
    }
   ],
   "source": [
    "# Less than: Returns True if the left operand is less than the right operand.\n",
    "print(x<y)"
   ]
  },
  {
   "cell_type": "code",
   "execution_count": 143,
   "id": "e528ad16",
   "metadata": {},
   "outputs": [
    {
     "name": "stdout",
     "output_type": "stream",
     "text": [
      "True\n"
     ]
    }
   ],
   "source": [
    "# Greater than or Equal to: Returns True if the left operand is greater than or equal to the right operand.\n",
    "print(x>=y)"
   ]
  },
  {
   "cell_type": "code",
   "execution_count": 144,
   "id": "86c4e511",
   "metadata": {},
   "outputs": [
    {
     "name": "stdout",
     "output_type": "stream",
     "text": [
      "False\n"
     ]
    }
   ],
   "source": [
    "# Less than or Equal to: Returns True if the left operand is less than or equal to the right operand.\n",
    "print(x<=y)"
   ]
  },
  {
   "cell_type": "markdown",
   "id": "85eedd48",
   "metadata": {},
   "source": [
    "**4. Logical Operators**: \n",
    "- logical operators are used to perform logical operations on boolean values (**True** and **False**). They allow you to combine multiple conditions and evaluate the result based on the truth values of the operands. Python supports three logical operators:\n",
    "\n",
    "   - '**and**' Logical AND: Returns True if both operands are True.\n",
    "   - '**or**' Logical OR: Returns True if at least one of the operands is True.\n",
    "   - '**not**' Logical NOT: Returns True if the operand is False and False if the operand is True.\n",
    "        "
   ]
  },
  {
   "cell_type": "code",
   "execution_count": 145,
   "id": "1f1775cc",
   "metadata": {},
   "outputs": [
    {
     "name": "stdout",
     "output_type": "stream",
     "text": [
      "False\n"
     ]
    }
   ],
   "source": [
    "x=True\n",
    "y=False\n",
    "\n",
    "print(x and y)"
   ]
  },
  {
   "cell_type": "code",
   "execution_count": 146,
   "id": "17fcf534",
   "metadata": {},
   "outputs": [
    {
     "name": "stdout",
     "output_type": "stream",
     "text": [
      "True\n"
     ]
    }
   ],
   "source": [
    "print(x or y)"
   ]
  },
  {
   "cell_type": "code",
   "execution_count": 147,
   "id": "60f56803",
   "metadata": {},
   "outputs": [
    {
     "name": "stdout",
     "output_type": "stream",
     "text": [
      "False\n"
     ]
    }
   ],
   "source": [
    "print(not x)"
   ]
  },
  {
   "cell_type": "code",
   "execution_count": 148,
   "id": "760ec197",
   "metadata": {},
   "outputs": [
    {
     "name": "stdout",
     "output_type": "stream",
     "text": [
      "True\n"
     ]
    }
   ],
   "source": [
    "print(not y)"
   ]
  },
  {
   "cell_type": "markdown",
   "id": "82d45035",
   "metadata": {},
   "source": [
    "**5. Membership Operators:**\n",
    "- membership operators are used to test whether a value belongs to a sequence or collection. They are often used with data types like lists, tuples, sets, and strings to check for the presence of a particular element in the container. Python supports two membership operators:\n",
    "\n",
    "   - '**in**' Membership: Returns True if a value is found in a sequence (e.g., list, tuple, string).\n",
    "   - '**not in**' Not in Membership: Returns True if a value is not found in a sequence."
   ]
  },
  {
   "cell_type": "code",
   "execution_count": 149,
   "id": "df28ad48",
   "metadata": {},
   "outputs": [
    {
     "name": "stdout",
     "output_type": "stream",
     "text": [
      "True\n",
      "True\n"
     ]
    }
   ],
   "source": [
    "# Membership operators with lists\n",
    "fruits = ['apple', 'banana', 'orange', 'grape']\n",
    "print('banana' in fruits)      # Output: True\n",
    "print('watermelon' not in fruits)  # Output: True"
   ]
  },
  {
   "cell_type": "code",
   "execution_count": 150,
   "id": "779d5db2",
   "metadata": {},
   "outputs": [
    {
     "name": "stdout",
     "output_type": "stream",
     "text": [
      "True\n",
      "True\n"
     ]
    }
   ],
   "source": [
    "# Membership operators with strings\n",
    "message = \"Hello, world!\"\n",
    "print('o' in message)        # Output: True\n",
    "print('z' not in message)    # Output: True"
   ]
  },
  {
   "cell_type": "code",
   "execution_count": 151,
   "id": "8490dc85",
   "metadata": {},
   "outputs": [
    {
     "name": "stdout",
     "output_type": "stream",
     "text": [
      "True\n",
      "True\n"
     ]
    }
   ],
   "source": [
    "# Membership operators with tuples\n",
    "numbers = (1, 2, 3, 4, 5)\n",
    "print(3 in numbers)          # Output: True\n",
    "print(6 not in numbers)      # Output: True"
   ]
  },
  {
   "cell_type": "code",
   "execution_count": 152,
   "id": "f44c97f0",
   "metadata": {},
   "outputs": [
    {
     "name": "stdout",
     "output_type": "stream",
     "text": [
      "True\n",
      "True\n"
     ]
    }
   ],
   "source": [
    "# Membership operators with sets\n",
    "letters = {'a', 'b', 'c'}\n",
    "print('b' in letters)        # Output: True\n",
    "print('d' not in letters)    # Output: True"
   ]
  },
  {
   "cell_type": "markdown",
   "id": "a5cf7679",
   "metadata": {},
   "source": [
    "**6. Identity Operators:**\n",
    "- identity operators are used to determine whether two variables or values refer to the same object in memory. They do not compare the values of the variables; instead, they check if the variables point to the same memory location. Python provides two identity operators:\n",
    "\n",
    "     - '**is**' Identity: Returns True if both operands refer to the same object.\n",
    "     - '**is not**' Not Identity: Returns True if both operands do not refer to the same object.\n",
    "        "
   ]
  },
  {
   "cell_type": "code",
   "execution_count": 149,
   "id": "a05b0d16",
   "metadata": {},
   "outputs": [
    {
     "name": "stdout",
     "output_type": "stream",
     "text": [
      "True\n",
      "False\n"
     ]
    }
   ],
   "source": [
    "# Example 1\n",
    "x = [1, 2, 3]\n",
    "y = x  # y now references the same object as x\n",
    "\n",
    "print(x is y)        # Output: True (x and y refer to the same object)\n",
    "print(x is not y)    # Output: False (x and y refer to the same object)\n"
   ]
  },
  {
   "cell_type": "code",
   "execution_count": 150,
   "id": "493c8f66",
   "metadata": {},
   "outputs": [
    {
     "data": {
      "text/plain": [
       "2238510838976"
      ]
     },
     "execution_count": 150,
     "metadata": {},
     "output_type": "execute_result"
    }
   ],
   "source": [
    "id(x)"
   ]
  },
  {
   "cell_type": "code",
   "execution_count": 151,
   "id": "ec507ad6",
   "metadata": {},
   "outputs": [
    {
     "data": {
      "text/plain": [
       "2238510838976"
      ]
     },
     "execution_count": 151,
     "metadata": {},
     "output_type": "execute_result"
    }
   ],
   "source": [
    "id(y)"
   ]
  },
  {
   "cell_type": "code",
   "execution_count": 152,
   "id": "43699bcb",
   "metadata": {},
   "outputs": [
    {
     "name": "stdout",
     "output_type": "stream",
     "text": [
      "False\n",
      "True\n"
     ]
    }
   ],
   "source": [
    "# Example 2\n",
    "a = [1, 2, 3]\n",
    "b = [1, 2, 3]  # b is a different object with the same values as a\n",
    "\n",
    "print(a is b)        # Output: False (a and b are different objects)\n",
    "print(a is not b)    # Output: True (a and b are different objects)\n"
   ]
  },
  {
   "cell_type": "code",
   "execution_count": 153,
   "id": "81474a14",
   "metadata": {},
   "outputs": [
    {
     "data": {
      "text/plain": [
       "2238510926592"
      ]
     },
     "execution_count": 153,
     "metadata": {},
     "output_type": "execute_result"
    }
   ],
   "source": [
    "id(a)"
   ]
  },
  {
   "cell_type": "code",
   "execution_count": 154,
   "id": "684c6e2b",
   "metadata": {},
   "outputs": [
    {
     "data": {
      "text/plain": [
       "2238510650688"
      ]
     },
     "execution_count": 154,
     "metadata": {},
     "output_type": "execute_result"
    }
   ],
   "source": [
    "id(b)"
   ]
  },
  {
   "cell_type": "code",
   "execution_count": 156,
   "id": "1029021a",
   "metadata": {},
   "outputs": [
    {
     "name": "stdout",
     "output_type": "stream",
     "text": [
      "True\n",
      "False\n"
     ]
    }
   ],
   "source": [
    "# Example 3\n",
    "name = \"Ravi\"\n",
    "name_copy = \"Ravi\"  # name_copy points to the same string object as name\n",
    "\n",
    "print(name is name_copy)        # Output: True (name and name_copy refer to the same string object)\n",
    "print(name is not name_copy)    # Output: False (name and name_copy refer to the same string object)"
   ]
  },
  {
   "cell_type": "code",
   "execution_count": 157,
   "id": "fc49678c",
   "metadata": {},
   "outputs": [
    {
     "data": {
      "text/plain": [
       "2238477490352"
      ]
     },
     "execution_count": 157,
     "metadata": {},
     "output_type": "execute_result"
    }
   ],
   "source": [
    "id(name)"
   ]
  },
  {
   "cell_type": "code",
   "execution_count": 158,
   "id": "7585245d",
   "metadata": {},
   "outputs": [
    {
     "data": {
      "text/plain": [
       "2238477490352"
      ]
     },
     "execution_count": 158,
     "metadata": {},
     "output_type": "execute_result"
    }
   ],
   "source": [
    "id(name_copy)"
   ]
  },
  {
   "cell_type": "code",
   "execution_count": null,
   "id": "00a209c2",
   "metadata": {},
   "outputs": [],
   "source": []
  }
 ],
 "metadata": {
  "kernelspec": {
   "display_name": "Python 3 (ipykernel)",
   "language": "python",
   "name": "python3"
  },
  "language_info": {
   "codemirror_mode": {
    "name": "ipython",
    "version": 3
   },
   "file_extension": ".py",
   "mimetype": "text/x-python",
   "name": "python",
   "nbconvert_exporter": "python",
   "pygments_lexer": "ipython3",
   "version": "3.9.12"
  }
 },
 "nbformat": 4,
 "nbformat_minor": 5
}
