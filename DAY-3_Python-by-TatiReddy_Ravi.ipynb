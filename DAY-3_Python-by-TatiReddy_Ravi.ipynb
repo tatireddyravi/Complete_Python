{
 "cells": [
  {
   "cell_type": "markdown",
   "id": "b918df2b",
   "metadata": {},
   "source": [
    "### Function in python\n",
    "- A function is a block of code which only runs when it is called.You can pass data, known as parameters, into a function.A function can return data as a result."
   ]
  },
  {
   "cell_type": "code",
   "execution_count": 1,
   "id": "1fbfe339",
   "metadata": {},
   "outputs": [
    {
     "data": {
      "text/plain": [
       "4"
      ]
     },
     "execution_count": 1,
     "metadata": {},
     "output_type": "execute_result"
    }
   ],
   "source": [
    "len(\"Ravi\")"
   ]
  },
  {
   "cell_type": "code",
   "execution_count": 2,
   "id": "1ed2cb05",
   "metadata": {},
   "outputs": [
    {
     "name": "stdout",
     "output_type": "stream",
     "text": [
      "Trepy\n"
     ]
    }
   ],
   "source": [
    "print(\"Trepy\")"
   ]
  },
  {
   "cell_type": "markdown",
   "id": "cc44a9cf",
   "metadata": {},
   "source": [
    "- it is possible to create our own functions also.\n",
    "- functions, classes, objects, logging, monitaring, sheduling etc., are part of modular coding."
   ]
  },
  {
   "cell_type": "markdown",
   "id": "2f46911e",
   "metadata": {},
   "source": [
    "### Creating Function\n",
    "- - In Python a function is defined using the **def** keyword."
   ]
  },
  {
   "cell_type": "code",
   "execution_count": 4,
   "id": "16b9fe00",
   "metadata": {},
   "outputs": [
    {
     "ename": "IndentationError",
     "evalue": "expected an indented block (3861551224.py, line 1)",
     "output_type": "error",
     "traceback": [
      "\u001b[1;36m  Input \u001b[1;32mIn [4]\u001b[1;36m\u001b[0m\n\u001b[1;33m    def test():\u001b[0m\n\u001b[1;37m               ^\u001b[0m\n\u001b[1;31mIndentationError\u001b[0m\u001b[1;31m:\u001b[0m expected an indented block\n"
     ]
    }
   ],
   "source": [
    "def test():"
   ]
  },
  {
   "cell_type": "markdown",
   "id": "9e6ac834",
   "metadata": {},
   "source": [
    "- function definitions cannot be empty, but if you want a function definition with no content, put the **pass** statement to avoid getting an error"
   ]
  },
  {
   "cell_type": "code",
   "execution_count": 6,
   "id": "8c6cd9ea",
   "metadata": {},
   "outputs": [],
   "source": [
    "# if you don't want to write any thing\n",
    "def test():\n",
    "    pass"
   ]
  },
  {
   "cell_type": "code",
   "execution_count": 9,
   "id": "44213333",
   "metadata": {},
   "outputs": [],
   "source": [
    "# function with block of code\n",
    "def test1():\n",
    "    print('this is my first function')"
   ]
  },
  {
   "cell_type": "code",
   "execution_count": 10,
   "id": "26564314",
   "metadata": {},
   "outputs": [
    {
     "name": "stdout",
     "output_type": "stream",
     "text": [
      "this is my first function\n"
     ]
    }
   ],
   "source": [
    "# calling the test1() function\n",
    "test1()"
   ]
  },
  {
   "cell_type": "code",
   "execution_count": 11,
   "id": "380fc4a6",
   "metadata": {},
   "outputs": [
    {
     "name": "stdout",
     "output_type": "stream",
     "text": [
      "this is my first function\n"
     ]
    }
   ],
   "source": [
    "a=test1()"
   ]
  },
  {
   "cell_type": "code",
   "execution_count": 12,
   "id": "9e63566e",
   "metadata": {},
   "outputs": [
    {
     "ename": "TypeError",
     "evalue": "unsupported operand type(s) for +: 'NoneType' and 'str'",
     "output_type": "error",
     "traceback": [
      "\u001b[1;31m---------------------------------------------------------------------------\u001b[0m",
      "\u001b[1;31mTypeError\u001b[0m                                 Traceback (most recent call last)",
      "Input \u001b[1;32mIn [12]\u001b[0m, in \u001b[0;36m<cell line: 1>\u001b[1;34m()\u001b[0m\n\u001b[1;32m----> 1\u001b[0m \u001b[43ma\u001b[49m\u001b[38;5;241;43m+\u001b[39;49m\u001b[38;5;124;43m\"\u001b[39;49m\u001b[38;5;124;43mabcd\u001b[39;49m\u001b[38;5;124;43m\"\u001b[39;49m\n",
      "\u001b[1;31mTypeError\u001b[0m: unsupported operand type(s) for +: 'NoneType' and 'str'"
     ]
    }
   ],
   "source": [
    "a+\"abcd\""
   ]
  },
  {
   "cell_type": "code",
   "execution_count": 13,
   "id": "9a2adf9f",
   "metadata": {},
   "outputs": [
    {
     "data": {
      "text/plain": [
       "NoneType"
      ]
     },
     "execution_count": 13,
     "metadata": {},
     "output_type": "execute_result"
    }
   ],
   "source": [
    "type(a)"
   ]
  },
  {
   "cell_type": "markdown",
   "id": "7de66351",
   "metadata": {},
   "source": [
    "- inside function, **print()** returns NoneType always."
   ]
  },
  {
   "cell_type": "code",
   "execution_count": 14,
   "id": "0611591c",
   "metadata": {},
   "outputs": [
    {
     "data": {
      "text/plain": [
       "'None'"
      ]
     },
     "execution_count": 14,
     "metadata": {},
     "output_type": "execute_result"
    }
   ],
   "source": [
    "str(a)"
   ]
  },
  {
   "cell_type": "code",
   "execution_count": null,
   "id": "326e455e",
   "metadata": {},
   "outputs": [],
   "source": []
  }
 ],
 "metadata": {
  "kernelspec": {
   "display_name": "Python 3 (ipykernel)",
   "language": "python",
   "name": "python3"
  },
  "language_info": {
   "codemirror_mode": {
    "name": "ipython",
    "version": 3
   },
   "file_extension": ".py",
   "mimetype": "text/x-python",
   "name": "python",
   "nbconvert_exporter": "python",
   "pygments_lexer": "ipython3",
   "version": "3.9.12"
  }
 },
 "nbformat": 4,
 "nbformat_minor": 5
}
