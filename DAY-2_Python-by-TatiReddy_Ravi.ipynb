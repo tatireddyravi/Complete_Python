{
 "cells": [
  {
   "cell_type": "markdown",
   "id": "72fbba3d",
   "metadata": {},
   "source": [
    "### if,if-else,if-elif-else statement (controlflow statements)\n",
    "- In Python, the **if**, **elif** and **else** statements are used to control the flow of execution of program based on certain conditions. These statements allow you to execute different blocks of code depending on whether a given condition is true or false."
   ]
  },
  {
   "cell_type": "markdown",
   "id": "9a8f9f78",
   "metadata": {},
   "source": [
    "### if statement\n",
    "- The basic structure of **if** statement is as fallow:\n",
    "        - if <condition>:\n",
    "            # code to be executed if condition is true."
   ]
  },
  {
   "cell_type": "code",
   "execution_count": 5,
   "id": "a1eeb74c",
   "metadata": {},
   "outputs": [
    {
     "ename": "IndentationError",
     "evalue": "expected an indented block (4254222499.py, line 3)",
     "output_type": "error",
     "traceback": [
      "\u001b[1;36m  Input \u001b[1;32mIn [5]\u001b[1;36m\u001b[0m\n\u001b[1;33m    \u001b[0m\n\u001b[1;37m    ^\u001b[0m\n\u001b[1;31mIndentationError\u001b[0m\u001b[1;31m:\u001b[0m expected an indented block\n"
     ]
    }
   ],
   "source": [
    "a=2             \n",
    "if a>0:     # give error without body of statement\n",
    "    "
   ]
  },
  {
   "cell_type": "code",
   "execution_count": 2,
   "id": "9933a765",
   "metadata": {},
   "outputs": [],
   "source": [
    "if True:\n",
    "    pass\n",
    "#pass behave like body of statement and it won't do anything."
   ]
  },
  {
   "cell_type": "markdown",
   "id": "f63f86e1",
   "metadata": {},
   "source": [
    "### Pass statement\n",
    "- In python **pass** is a place holder that does nothing.When ever you are not sure of implementing code you can just give **pass** and it will not throw the error."
   ]
  },
  {
   "cell_type": "markdown",
   "id": "25c00e56",
   "metadata": {},
   "source": [
    "### Here's an example of using an if statement to check if a number is positive:"
   ]
  },
  {
   "cell_type": "code",
   "execution_count": 3,
   "id": "1afb9888",
   "metadata": {},
   "outputs": [
    {
     "name": "stdout",
     "output_type": "stream",
     "text": [
      "enter any number:5\n",
      "Given number is positive\n"
     ]
    }
   ],
   "source": [
    "num=int(input('enter any number:'))    \n",
    "# end_colon(:) is important after every statement.\n",
    "if num>0:\n",
    "    print(\"Given number is positive\")  # condition is true then it come inside and execute block of code."
   ]
  },
  {
   "cell_type": "markdown",
   "id": "9ce4522f",
   "metadata": {},
   "source": [
    "- if you want to execute the different code when the condition is not true, you can use **else** statement."
   ]
  },
  {
   "cell_type": "code",
   "execution_count": 4,
   "id": "35aea10b",
   "metadata": {},
   "outputs": [
    {
     "name": "stdout",
     "output_type": "stream",
     "text": [
      "Enter any number:-5\n",
      "The number is not positive\n"
     ]
    }
   ],
   "source": [
    "num=int(input('Enter any number:'))\n",
    "if num>0:\n",
    "    print('The number is positive.')     \n",
    "else:                                       # no condition for else.\n",
    "    print('The number is not positive')     # else block execute default if all the if blocks are false."
   ]
  },
  {
   "cell_type": "code",
   "execution_count": 10,
   "id": "1ce7553e",
   "metadata": {},
   "outputs": [
    {
     "name": "stdout",
     "output_type": "stream",
     "text": [
      "enter the number between 0 and 10:51\n",
      "plese enter the number between 0 and 10\n"
     ]
    }
   ],
   "source": [
    "x=int(input('enter the number between 0 and 10:')) \n",
    "if x<=5:\n",
    "    print('the number is lessthan or equal to 5')\n",
    "elif x>5 and x<=10:\n",
    "    print('the number is greater than 5')\n",
    "else:\n",
    "    print('plese enter the number between 0 and 10')\n",
    "# when condition is true then it execute that block and come out.won't execute next statement.\n",
    "# condition is False then only it check the next statement.\n"
   ]
  },
  {
   "cell_type": "code",
   "execution_count": 11,
   "id": "8dc5c9ba",
   "metadata": {},
   "outputs": [
    {
     "name": "stdout",
     "output_type": "stream",
     "text": [
      "addition\n",
      "substraction\n",
      "multiplication\n"
     ]
    }
   ],
   "source": [
    "l=[1,2,3,4,5]\n",
    "if 1 in l:\n",
    "    print('addition')\n",
    "if 3 in l:\n",
    "    print('substraction')\n",
    "if 4 in l:\n",
    "    print('multiplication')\n",
    "elif 5 in l:\n",
    "    print('modulus')\n",
    "    "
   ]
  },
  {
   "cell_type": "code",
   "execution_count": 13,
   "id": "0cc3d27a",
   "metadata": {},
   "outputs": [
    {
     "name": "stdout",
     "output_type": "stream",
     "text": [
      "substraction\n"
     ]
    }
   ],
   "source": [
    "l=[1,2,3,4,5]\n",
    "if 10 in l:\n",
    "    print('addition')\n",
    "elif 3 in l:\n",
    "    print('substraction')\n",
    "elif 4 in l:\n",
    "    print('multiplication')\n",
    "elif 5 in l:\n",
    "    print('modulus')\n",
    "# more than one condition is true then it execute very first condition.it won't check next condition"
   ]
  },
  {
   "cell_type": "code",
   "execution_count": 14,
   "id": "7fb68f15",
   "metadata": {},
   "outputs": [
    {
     "ename": "SyntaxError",
     "evalue": "invalid syntax (3409928290.py, line 8)",
     "output_type": "error",
     "traceback": [
      "\u001b[1;36m  Input \u001b[1;32mIn [14]\u001b[1;36m\u001b[0m\n\u001b[1;33m    else 5 in l:\u001b[0m\n\u001b[1;37m         ^\u001b[0m\n\u001b[1;31mSyntaxError\u001b[0m\u001b[1;31m:\u001b[0m invalid syntax\n"
     ]
    }
   ],
   "source": [
    "l=[1,2,3,4,5]\n",
    "if 10 in l:\n",
    "    print('addition')\n",
    "elif 3 in l:\n",
    "    print('substraction')\n",
    "elif 4 in l:\n",
    "    print('multiplication')\n",
    "else 5 in l:\n",
    "    print('modulus')"
   ]
  },
  {
   "cell_type": "code",
   "execution_count": 15,
   "id": "7e6848a3",
   "metadata": {},
   "outputs": [
    {
     "name": "stdout",
     "output_type": "stream",
     "text": [
      "substraction\n"
     ]
    }
   ],
   "source": [
    "l=[1,2,3,4,5]\n",
    "if 10 in l:\n",
    "    print('addition')\n",
    "elif 3 in l:\n",
    "    print('substraction')\n",
    "elif 4 in l:\n",
    "    print('multiplication')\n",
    "else:\n",
    "    print('modulus')"
   ]
  },
  {
   "cell_type": "markdown",
   "id": "3427fe36",
   "metadata": {},
   "source": [
    "- compound condition means combination of more than one condition using and,or,not."
   ]
  },
  {
   "cell_type": "code",
   "execution_count": 16,
   "id": "c66f8532",
   "metadata": {},
   "outputs": [
    {
     "name": "stdout",
     "output_type": "stream",
     "text": [
      "try to do something\n"
     ]
    }
   ],
   "source": [
    "a=10\n",
    "if a==10 or a<10:\n",
    "    print('try to do something')"
   ]
  },
  {
   "cell_type": "code",
   "execution_count": null,
   "id": "48e0dfde",
   "metadata": {},
   "outputs": [],
   "source": []
  },
  {
   "cell_type": "code",
   "execution_count": null,
   "id": "63d6a6bc",
   "metadata": {},
   "outputs": [],
   "source": []
  },
  {
   "cell_type": "code",
   "execution_count": null,
   "id": "55c50a7d",
   "metadata": {},
   "outputs": [],
   "source": []
  },
  {
   "cell_type": "code",
   "execution_count": null,
   "id": "f5e7fa20",
   "metadata": {},
   "outputs": [],
   "source": []
  },
  {
   "cell_type": "markdown",
   "id": "f8c4b484",
   "metadata": {},
   "source": [
    "# String in Python\n",
    "- In Python, a string is a sequence of characters enclosed within either **single quotes (' ')**, **double quotes (\" \")**, or **triple quotes (''' ''' or \"\"\" \"\"\")**. Strings are used to represent text and are one of the fundamental data types in Python. Since Python treats text as a sequence of characters, strings can be indexed, sliced, and manipulated in various ways."
   ]
  },
  {
   "cell_type": "code",
   "execution_count": 1,
   "id": "ca9425fd",
   "metadata": {},
   "outputs": [
    {
     "name": "stdout",
     "output_type": "stream",
     "text": [
      "Hello universe\n"
     ]
    }
   ],
   "source": [
    "single_quoted_str='Hello universe'\n",
    "print(single_quoted_str)"
   ]
  },
  {
   "cell_type": "code",
   "execution_count": 2,
   "id": "3f843dcd",
   "metadata": {},
   "outputs": [
    {
     "name": "stdout",
     "output_type": "stream",
     "text": [
      "welcome to data science\n"
     ]
    }
   ],
   "source": [
    "double_quoted_str=\"welcome to data science\"\n",
    "print(double_quoted_str)"
   ]
  },
  {
   "cell_type": "code",
   "execution_count": 3,
   "id": "d20a5da7",
   "metadata": {},
   "outputs": [
    {
     "name": "stdout",
     "output_type": "stream",
     "text": [
      "python is general purpose,\n",
      "high level,objective oriented,dynamically typed\n",
      "and interpreted programming language\n"
     ]
    }
   ],
   "source": [
    "# usually triple quote is used for multiline string\n",
    "triple_quoted_str='''python is general purpose,\n",
    "high level,objective oriented,dynamically typed\n",
    "and interpreted programming language'''\n",
    "print(triple_quoted_str)"
   ]
  },
  {
   "cell_type": "markdown",
   "id": "31e8b1ed",
   "metadata": {},
   "source": [
    "### Accessing substring from a string\n",
    "#### indexing\n",
    "- indexing is used to extract or access specified character from the string.\n",
    "- square brackets are used to access the elements from string.\n",
    "\n",
    "     - There are two type of indexing:\n",
    "     \n",
    "          - 1.Positive indexing\n",
    "          - 2.Negative indexing"
   ]
  },
  {
   "cell_type": "code",
   "execution_count": 23,
   "id": "666cb4f8",
   "metadata": {},
   "outputs": [
    {
     "name": "stdout",
     "output_type": "stream",
     "text": [
      "T\n"
     ]
    }
   ],
   "source": [
    "# here character in the strings have index position. 0 for the first character.\n",
    "s='Tatireddy Ravi'\n",
    "print(s[0])"
   ]
  },
  {
   "cell_type": "markdown",
   "id": "22e78474",
   "metadata": {},
   "source": [
    "- Indexing in Python strings starts from 0 for the first character, -1 for the last character, -2 for the second last character, and so on. You can access a character at a specific index by using **square brackets [ ] with the index inside**."
   ]
  },
  {
   "cell_type": "code",
   "execution_count": 30,
   "id": "8967e61c",
   "metadata": {},
   "outputs": [
    {
     "name": "stdout",
     "output_type": "stream",
     "text": [
      "r\n"
     ]
    }
   ],
   "source": [
    "print(s[4]) # Positive indexing"
   ]
  },
  {
   "cell_type": "code",
   "execution_count": 31,
   "id": "2b030d4c",
   "metadata": {},
   "outputs": [
    {
     "name": "stdout",
     "output_type": "stream",
     "text": [
      "i\n"
     ]
    }
   ],
   "source": [
    "print(s[-1]) # Negative indexing"
   ]
  },
  {
   "cell_type": "markdown",
   "id": "823a4269",
   "metadata": {},
   "source": [
    "**len()** :In Python, len() is a built-in function that is used to determine the length of a sequence or collection, such as strings, lists, tuples, sets, and dictionaries. The len() function returns the number of elements or characters present in the given sequence."
   ]
  },
  {
   "cell_type": "code",
   "execution_count": 26,
   "id": "512ce58b",
   "metadata": {},
   "outputs": [
    {
     "data": {
      "text/plain": [
       "14"
      ]
     },
     "execution_count": 26,
     "metadata": {},
     "output_type": "execute_result"
    }
   ],
   "source": [
    "len(s)"
   ]
  },
  {
   "cell_type": "code",
   "execution_count": 27,
   "id": "12c6d9c1",
   "metadata": {},
   "outputs": [
    {
     "ename": "IndexError",
     "evalue": "string index out of range",
     "output_type": "error",
     "traceback": [
      "\u001b[1;31m---------------------------------------------------------------------------\u001b[0m",
      "\u001b[1;31mIndexError\u001b[0m                                Traceback (most recent call last)",
      "Input \u001b[1;32mIn [27]\u001b[0m, in \u001b[0;36m<cell line: 1>\u001b[1;34m()\u001b[0m\n\u001b[1;32m----> 1\u001b[0m \u001b[38;5;28mprint\u001b[39m(\u001b[43ms\u001b[49m\u001b[43m[\u001b[49m\u001b[38;5;241;43m14\u001b[39;49m\u001b[43m]\u001b[49m)\n",
      "\u001b[1;31mIndexError\u001b[0m: string index out of range"
     ]
    }
   ],
   "source": [
    "print(s[14])"
   ]
  },
  {
   "cell_type": "code",
   "execution_count": 28,
   "id": "666c7c88",
   "metadata": {},
   "outputs": [
    {
     "name": "stdout",
     "output_type": "stream",
     "text": [
      "i\n"
     ]
    }
   ],
   "source": [
    "print(s[len(s)-1])"
   ]
  },
  {
   "cell_type": "code",
   "execution_count": 29,
   "id": "253acb75",
   "metadata": {},
   "outputs": [
    {
     "name": "stdout",
     "output_type": "stream",
     "text": [
      "R\n"
     ]
    }
   ],
   "source": [
    "print(s[-4])"
   ]
  },
  {
   "cell_type": "markdown",
   "id": "36d8a02b",
   "metadata": {},
   "source": [
    "### slicing\n",
    "- Slicing allows you to extract a substring from a string based on a range of indices. The syntax for slicing is **[start:stop:step]**, where start is the index of the first character you want to include, stop is the index of the first character you want to exclude, and step is the interval between characters."
   ]
  },
  {
   "cell_type": "code",
   "execution_count": 32,
   "id": "892fc46b",
   "metadata": {},
   "outputs": [
    {
     "name": "stdout",
     "output_type": "stream",
     "text": [
      "Hello\n"
     ]
    }
   ],
   "source": [
    "s='Hello python'\n",
    "print(s[0:5]) # characters from index 0 to 4"
   ]
  },
  {
   "cell_type": "code",
   "execution_count": 33,
   "id": "6fe56751",
   "metadata": {},
   "outputs": [
    {
     "name": "stdout",
     "output_type": "stream",
     "text": [
      "python\n"
     ]
    }
   ],
   "source": [
    "print(s[6:]) # characters from index 6 to the end."
   ]
  },
  {
   "cell_type": "code",
   "execution_count": 34,
   "id": "5782aeab",
   "metadata": {},
   "outputs": [
    {
     "name": "stdout",
     "output_type": "stream",
     "text": [
      "Hello\n"
     ]
    }
   ],
   "source": [
    "print(s[:5]) # characters from begining index to index 4."
   ]
  },
  {
   "cell_type": "code",
   "execution_count": 35,
   "id": "1b7ac335",
   "metadata": {},
   "outputs": [
    {
     "name": "stdout",
     "output_type": "stream",
     "text": [
      "Hlopto\n"
     ]
    }
   ],
   "source": [
    "print(s[::2]) # every second character."
   ]
  },
  {
   "cell_type": "code",
   "execution_count": 36,
   "id": "51381753",
   "metadata": {},
   "outputs": [
    {
     "name": "stdout",
     "output_type": "stream",
     "text": [
      "nohtyp olleH\n"
     ]
    }
   ],
   "source": [
    "print(s[::-1]) # Reverse the string."
   ]
  },
  {
   "cell_type": "code",
   "execution_count": 37,
   "id": "dc16288d",
   "metadata": {},
   "outputs": [
    {
     "name": "stdout",
     "output_type": "stream",
     "text": [
      "Hello python\n"
     ]
    }
   ],
   "source": [
    "print(s[0:100])"
   ]
  },
  {
   "cell_type": "code",
   "execution_count": 38,
   "id": "6af2fc37",
   "metadata": {},
   "outputs": [
    {
     "name": "stdout",
     "output_type": "stream",
     "text": [
      "Hello python\n"
     ]
    }
   ],
   "source": [
    "print(s[:])"
   ]
  },
  {
   "cell_type": "code",
   "execution_count": 39,
   "id": "8f04abec",
   "metadata": {},
   "outputs": [
    {
     "name": "stdout",
     "output_type": "stream",
     "text": [
      "\n"
     ]
    }
   ],
   "source": [
    "print(s[-1:-4])"
   ]
  },
  {
   "cell_type": "code",
   "execution_count": 40,
   "id": "abf1be21",
   "metadata": {},
   "outputs": [
    {
     "data": {
      "text/plain": [
       "''"
      ]
     },
     "execution_count": 40,
     "metadata": {},
     "output_type": "execute_result"
    }
   ],
   "source": [
    "s[0:300:-1]   #traverse direction is 0 to 300\n",
    "               # jump is negative direction so that there is a conflict."
   ]
  },
  {
   "cell_type": "code",
   "execution_count": 41,
   "id": "b8d8bc1d",
   "metadata": {},
   "outputs": [
    {
     "data": {
      "text/plain": [
       "''"
      ]
     },
     "execution_count": 41,
     "metadata": {},
     "output_type": "execute_result"
    }
   ],
   "source": [
    "s[-1:-4]  #default jump size is positive so that there is a conflict."
   ]
  },
  {
   "cell_type": "code",
   "execution_count": 42,
   "id": "a38d2f1f",
   "metadata": {},
   "outputs": [
    {
     "data": {
      "text/plain": [
       "'noh'"
      ]
     },
     "execution_count": 42,
     "metadata": {},
     "output_type": "execute_result"
    }
   ],
   "source": [
    "s[-1:-4:-1]   #negative jump of 1"
   ]
  },
  {
   "cell_type": "code",
   "execution_count": 43,
   "id": "3923a0c9",
   "metadata": {},
   "outputs": [
    {
     "data": {
      "text/plain": [
       "'yh'"
      ]
     },
     "execution_count": 43,
     "metadata": {},
     "output_type": "execute_result"
    }
   ],
   "source": [
    "s[-5:-1:2]"
   ]
  },
  {
   "cell_type": "code",
   "execution_count": 44,
   "id": "a3c89b42",
   "metadata": {},
   "outputs": [
    {
     "data": {
      "text/plain": [
       "''"
      ]
     },
     "execution_count": 44,
     "metadata": {},
     "output_type": "execute_result"
    }
   ],
   "source": [
    "s[-5:-1:-1]"
   ]
  },
  {
   "cell_type": "code",
   "execution_count": 22,
   "id": "f23d9ed8",
   "metadata": {},
   "outputs": [
    {
     "data": {
      "text/plain": [
       "'raviraviravi'"
      ]
     },
     "execution_count": 22,
     "metadata": {},
     "output_type": "execute_result"
    }
   ],
   "source": [
    "\"ravi\"*3   # to repeat string 'n' no.of times"
   ]
  },
  {
   "cell_type": "code",
   "execution_count": 23,
   "id": "fc4d653e",
   "metadata": {},
   "outputs": [
    {
     "data": {
      "text/plain": [
       "'ravitatireddy'"
      ]
     },
     "execution_count": 23,
     "metadata": {},
     "output_type": "execute_result"
    }
   ],
   "source": [
    "\"ravi\"+\"tatireddy\"  #concatination of two strings"
   ]
  },
  {
   "cell_type": "code",
   "execution_count": 24,
   "id": "316de80d",
   "metadata": {},
   "outputs": [
    {
     "ename": "TypeError",
     "evalue": "can't multiply sequence by non-int of type 'str'",
     "output_type": "error",
     "traceback": [
      "\u001b[1;31m---------------------------------------------------------------------------\u001b[0m",
      "\u001b[1;31mTypeError\u001b[0m                                 Traceback (most recent call last)",
      "Input \u001b[1;32mIn [24]\u001b[0m, in \u001b[0;36m<cell line: 1>\u001b[1;34m()\u001b[0m\n\u001b[1;32m----> 1\u001b[0m \u001b[38;5;124;43m\"\u001b[39;49m\u001b[38;5;124;43mravi\u001b[39;49m\u001b[38;5;124;43m\"\u001b[39;49m\u001b[38;5;241;43m*\u001b[39;49m\u001b[38;5;124;43m\"\u001b[39;49m\u001b[38;5;124;43mtatireddy\u001b[39;49m\u001b[38;5;124;43m\"\u001b[39;49m\n",
      "\u001b[1;31mTypeError\u001b[0m: can't multiply sequence by non-int of type 'str'"
     ]
    }
   ],
   "source": [
    "\"ravi\"*\"tatireddy\""
   ]
  },
  {
   "cell_type": "markdown",
   "id": "edee5b34",
   "metadata": {},
   "source": [
    "### Editing and deleting elements in a string\n"
   ]
  },
  {
   "cell_type": "code",
   "execution_count": 45,
   "id": "7609fd28",
   "metadata": {},
   "outputs": [
    {
     "ename": "TypeError",
     "evalue": "'str' object does not support item assignment",
     "output_type": "error",
     "traceback": [
      "\u001b[1;31m---------------------------------------------------------------------------\u001b[0m",
      "\u001b[1;31mTypeError\u001b[0m                                 Traceback (most recent call last)",
      "Input \u001b[1;32mIn [45]\u001b[0m, in \u001b[0;36m<cell line: 2>\u001b[1;34m()\u001b[0m\n\u001b[0;32m      1\u001b[0m s\u001b[38;5;241m=\u001b[39m\u001b[38;5;124m'\u001b[39m\u001b[38;5;124mTatireddy Rave\u001b[39m\u001b[38;5;124m'\u001b[39m\n\u001b[1;32m----> 2\u001b[0m s[\u001b[38;5;241m13\u001b[39m]\u001b[38;5;241m=\u001b[39m\u001b[38;5;124m'\u001b[39m\u001b[38;5;124mi\u001b[39m\u001b[38;5;124m'\u001b[39m\n",
      "\u001b[1;31mTypeError\u001b[0m: 'str' object does not support item assignment"
     ]
    }
   ],
   "source": [
    "s='Tatireddy Rave'\n",
    "s[13]='i'\n",
    "# This will throw an error because strings are not editable in python.\n",
    "# Hence strings are immutable data type.\n",
    "# immutable= can not be changed in the memory location."
   ]
  },
  {
   "cell_type": "code",
   "execution_count": 46,
   "id": "45805913",
   "metadata": {},
   "outputs": [],
   "source": [
    "s=\"ravi\"\n",
    "# Here we are reassigning the data value.\n",
    "# We are not modifying the existing string."
   ]
  },
  {
   "cell_type": "code",
   "execution_count": 47,
   "id": "c8e1cc43",
   "metadata": {},
   "outputs": [],
   "source": [
    "del s"
   ]
  },
  {
   "cell_type": "code",
   "execution_count": 48,
   "id": "3fe48ed2",
   "metadata": {},
   "outputs": [
    {
     "ename": "NameError",
     "evalue": "name 's' is not defined",
     "output_type": "error",
     "traceback": [
      "\u001b[1;31m---------------------------------------------------------------------------\u001b[0m",
      "\u001b[1;31mNameError\u001b[0m                                 Traceback (most recent call last)",
      "Input \u001b[1;32mIn [48]\u001b[0m, in \u001b[0;36m<cell line: 1>\u001b[1;34m()\u001b[0m\n\u001b[1;32m----> 1\u001b[0m \u001b[38;5;28mprint\u001b[39m(\u001b[43ms\u001b[49m)\n",
      "\u001b[1;31mNameError\u001b[0m: name 's' is not defined"
     ]
    }
   ],
   "source": [
    "print(s)"
   ]
  },
  {
   "cell_type": "markdown",
   "id": "3013e377",
   "metadata": {},
   "source": [
    "### Python string methods"
   ]
  },
  {
   "cell_type": "code",
   "execution_count": 2,
   "id": "422f1db6",
   "metadata": {},
   "outputs": [
    {
     "data": {
      "text/plain": [
       "'Tatireddy ravi'"
      ]
     },
     "execution_count": 2,
     "metadata": {},
     "output_type": "execute_result"
    }
   ],
   "source": [
    "a='tatireddy ravi'\n",
    "a.capitalize() # Converts the first character to upper case"
   ]
  },
  {
   "cell_type": "code",
   "execution_count": 4,
   "id": "45d1680b",
   "metadata": {},
   "outputs": [
    {
     "data": {
      "text/plain": [
       "'tatireddy ravi'"
      ]
     },
     "execution_count": 4,
     "metadata": {},
     "output_type": "execute_result"
    }
   ],
   "source": [
    "a='TATIREDDY Ravi'\n",
    "a.casefold()  # converts the string into lower case"
   ]
  },
  {
   "cell_type": "code",
   "execution_count": 10,
   "id": "62d7afa8",
   "metadata": {},
   "outputs": [
    {
     "data": {
      "text/plain": [
       "'##################TATIREDDY Ravi##################'"
      ]
     },
     "execution_count": 10,
     "metadata": {},
     "output_type": "execute_result"
    }
   ],
   "source": [
    "a.center(50,'#') # Returns a centered string\n"
   ]
  },
  {
   "cell_type": "code",
   "execution_count": 9,
   "id": "8b3624ef",
   "metadata": {},
   "outputs": [
    {
     "data": {
      "text/plain": [
       "'***************************TATIREDDY Ravi**************************'"
      ]
     },
     "execution_count": 9,
     "metadata": {},
     "output_type": "execute_result"
    }
   ],
   "source": [
    "a.center(67,'*')"
   ]
  },
  {
   "cell_type": "code",
   "execution_count": 12,
   "id": "c0a108ad",
   "metadata": {},
   "outputs": [
    {
     "data": {
      "text/plain": [
       "2"
      ]
     },
     "execution_count": 12,
     "metadata": {},
     "output_type": "execute_result"
    }
   ],
   "source": [
    "a='tatireddy ravi'\n",
    "a.count('i') # Returns the number of times the specified value present in the string."
   ]
  },
  {
   "cell_type": "code",
   "execution_count": 27,
   "id": "77b00090",
   "metadata": {},
   "outputs": [
    {
     "data": {
      "text/plain": [
       "1"
      ]
     },
     "execution_count": 27,
     "metadata": {},
     "output_type": "execute_result"
    }
   ],
   "source": [
    "b=\"doing something is better than doing nothing\"\n",
    "b.count('doing',5)"
   ]
  },
  {
   "cell_type": "code",
   "execution_count": 28,
   "id": "dcb86574",
   "metadata": {},
   "outputs": [
    {
     "data": {
      "text/plain": [
       "0"
      ]
     },
     "execution_count": 28,
     "metadata": {},
     "output_type": "execute_result"
    }
   ],
   "source": [
    "b=\"doing something is better than doing nothing\"\n",
    "b.count('doing',5,15)"
   ]
  },
  {
   "cell_type": "code",
   "execution_count": 16,
   "id": "29ff50a0",
   "metadata": {},
   "outputs": [
    {
     "data": {
      "text/plain": [
       "b'Always be have hope in hopeless situation untill you reach your goal'"
      ]
     },
     "execution_count": 16,
     "metadata": {},
     "output_type": "execute_result"
    }
   ],
   "source": [
    "x='Always be have hope in hopeless situation untill you reach your goal'\n",
    "x.encode()  # Returnds an encoded version of string"
   ]
  },
  {
   "cell_type": "code",
   "execution_count": 19,
   "id": "f8920ee6",
   "metadata": {},
   "outputs": [
    {
     "data": {
      "text/plain": [
       "True"
      ]
     },
     "execution_count": 19,
     "metadata": {},
     "output_type": "execute_result"
    }
   ],
   "source": [
    "x.endswith('l') # Returns true if the string ends with the specified value."
   ]
  },
  {
   "cell_type": "code",
   "execution_count": 20,
   "id": "596825f2",
   "metadata": {},
   "outputs": [
    {
     "data": {
      "text/plain": [
       "False"
      ]
     },
     "execution_count": 20,
     "metadata": {},
     "output_type": "execute_result"
    }
   ],
   "source": [
    "x.endswith('m')"
   ]
  },
  {
   "cell_type": "code",
   "execution_count": 21,
   "id": "35df5982",
   "metadata": {},
   "outputs": [
    {
     "name": "stdout",
     "output_type": "stream",
     "text": [
      "R       A       V       I\n",
      "R       A       V       I\n",
      "R  A  V  I\n"
     ]
    }
   ],
   "source": [
    "#Sets the tab size of the string\n",
    "s='R\\tA\\tV\\tI'\n",
    "print(s.expandtabs())\n",
    "print(s.expandtabs(8))\n",
    "print(s.expandtabs(3))"
   ]
  },
  {
   "cell_type": "code",
   "execution_count": 23,
   "id": "6ea027cd",
   "metadata": {},
   "outputs": [
    {
     "data": {
      "text/plain": [
       "3"
      ]
     },
     "execution_count": 23,
     "metadata": {},
     "output_type": "execute_result"
    }
   ],
   "source": [
    "z='tatireddy ravi'\n",
    "z.find('i')  # searches the string for a specified value and returns first index position of where it was found."
   ]
  },
  {
   "cell_type": "code",
   "execution_count": 30,
   "id": "98b9a99b",
   "metadata": {},
   "outputs": [
    {
     "data": {
      "text/plain": [
       "13"
      ]
     },
     "execution_count": 30,
     "metadata": {},
     "output_type": "execute_result"
    }
   ],
   "source": [
    "z.find(\"i\",5,14)"
   ]
  },
  {
   "cell_type": "code",
   "execution_count": 35,
   "id": "3a7a9b0c",
   "metadata": {},
   "outputs": [
    {
     "data": {
      "text/plain": [
       "-1"
      ]
     },
     "execution_count": 35,
     "metadata": {},
     "output_type": "execute_result"
    }
   ],
   "source": [
    "z.find(\"i\",5,13) #the find() method returns -1 if the value is not found. "
   ]
  },
  {
   "cell_type": "code",
   "execution_count": 32,
   "id": "5b71e4e0",
   "metadata": {},
   "outputs": [
    {
     "data": {
      "text/plain": [
       "'my name is ravi,i am 30'"
      ]
     },
     "execution_count": 32,
     "metadata": {},
     "output_type": "execute_result"
    }
   ],
   "source": [
    "#Formats specified values in a string\n",
    "\"my name is {fname},i am {age}\".format(fname=\"ravi\",age=30)"
   ]
  },
  {
   "cell_type": "code",
   "execution_count": 33,
   "id": "1181167d",
   "metadata": {},
   "outputs": [
    {
     "data": {
      "text/plain": [
       "'my name is madhu,i am 31'"
      ]
     },
     "execution_count": 33,
     "metadata": {},
     "output_type": "execute_result"
    }
   ],
   "source": [
    "\"my name is {0},i am {1}\".format(\"madhu\",31)"
   ]
  },
  {
   "cell_type": "code",
   "execution_count": 34,
   "id": "fa46105e",
   "metadata": {},
   "outputs": [
    {
     "data": {
      "text/plain": [
       "'my name is eshwar,i am 1'"
      ]
     },
     "execution_count": 34,
     "metadata": {},
     "output_type": "execute_result"
    }
   ],
   "source": [
    "\"my name is {},i am {}\".format(\"eshwar\",1)"
   ]
  },
  {
   "cell_type": "code",
   "execution_count": 38,
   "id": "5d01fc17",
   "metadata": {},
   "outputs": [
    {
     "data": {
      "text/plain": [
       "8"
      ]
     },
     "execution_count": 38,
     "metadata": {},
     "output_type": "execute_result"
    }
   ],
   "source": [
    "# the index() method is almost same as find() method,the only difference is \n",
    "#the find() method returns -1 if the specified value is not found where as the index() method gives error.\n",
    "p='my name is eswar prasadh reddy'\n",
    "p.index('i')"
   ]
  },
  {
   "cell_type": "code",
   "execution_count": 42,
   "id": "ad996f1f",
   "metadata": {},
   "outputs": [
    {
     "data": {
      "text/plain": [
       "15"
      ]
     },
     "execution_count": 42,
     "metadata": {},
     "output_type": "execute_result"
    }
   ],
   "source": [
    "p.index('r')"
   ]
  },
  {
   "cell_type": "code",
   "execution_count": 40,
   "id": "db48b2d1",
   "metadata": {},
   "outputs": [
    {
     "data": {
      "text/plain": [
       "25"
      ]
     },
     "execution_count": 40,
     "metadata": {},
     "output_type": "execute_result"
    }
   ],
   "source": [
    "p.index('reddy')"
   ]
  },
  {
   "cell_type": "code",
   "execution_count": 43,
   "id": "8b58ad46",
   "metadata": {},
   "outputs": [
    {
     "ename": "ValueError",
     "evalue": "substring not found",
     "output_type": "error",
     "traceback": [
      "\u001b[1;31m---------------------------------------------------------------------------\u001b[0m",
      "\u001b[1;31mValueError\u001b[0m                                Traceback (most recent call last)",
      "Input \u001b[1;32mIn [43]\u001b[0m, in \u001b[0;36m<cell line: 1>\u001b[1;34m()\u001b[0m\n\u001b[1;32m----> 1\u001b[0m \u001b[43mp\u001b[49m\u001b[38;5;241;43m.\u001b[39;49m\u001b[43mindex\u001b[49m\u001b[43m(\u001b[49m\u001b[38;5;124;43m'\u001b[39;49m\u001b[38;5;124;43mz\u001b[39;49m\u001b[38;5;124;43m'\u001b[39;49m\u001b[43m)\u001b[49m\n",
      "\u001b[1;31mValueError\u001b[0m: substring not found"
     ]
    }
   ],
   "source": [
    "p.index('z')"
   ]
  },
  {
   "cell_type": "code",
   "execution_count": 45,
   "id": "9320301d",
   "metadata": {},
   "outputs": [
    {
     "data": {
      "text/plain": [
       "True"
      ]
     },
     "execution_count": 45,
     "metadata": {},
     "output_type": "execute_result"
    }
   ],
   "source": [
    "q='ravi'\n",
    "q.isalpha() \n",
    "# Returns true if all characters in the string are alphabet"
   ]
  },
  {
   "cell_type": "code",
   "execution_count": 46,
   "id": "60803cb1",
   "metadata": {},
   "outputs": [
    {
     "data": {
      "text/plain": [
       "False"
      ]
     },
     "execution_count": 46,
     "metadata": {},
     "output_type": "execute_result"
    }
   ],
   "source": [
    "q='ravi '\n",
    "q.isalpha()"
   ]
  },
  {
   "cell_type": "code",
   "execution_count": 47,
   "id": "45542c2b",
   "metadata": {},
   "outputs": [
    {
     "data": {
      "text/plain": [
       "False"
      ]
     },
     "execution_count": 47,
     "metadata": {},
     "output_type": "execute_result"
    }
   ],
   "source": [
    "q=\"ravi123\"\n",
    "q.isalpha()"
   ]
  },
  {
   "cell_type": "code",
   "execution_count": 50,
   "id": "708d9c50",
   "metadata": {},
   "outputs": [
    {
     "data": {
      "text/plain": [
       "True"
      ]
     },
     "execution_count": 50,
     "metadata": {},
     "output_type": "execute_result"
    }
   ],
   "source": [
    "r='123456'\n",
    "r.isnumeric()\n",
    "# Returns true if all the characters in the string are numeric."
   ]
  },
  {
   "cell_type": "code",
   "execution_count": 51,
   "id": "bf91d8dd",
   "metadata": {},
   "outputs": [
    {
     "data": {
      "text/plain": [
       "False"
      ]
     },
     "execution_count": 51,
     "metadata": {},
     "output_type": "execute_result"
    }
   ],
   "source": [
    "r='ravi16295 '\n",
    "r.isalnum()"
   ]
  },
  {
   "cell_type": "code",
   "execution_count": 49,
   "id": "1463b5c8",
   "metadata": {},
   "outputs": [
    {
     "data": {
      "text/plain": [
       "False"
      ]
     },
     "execution_count": 49,
     "metadata": {},
     "output_type": "execute_result"
    }
   ],
   "source": [
    "a='tatireddy ravi'\n",
    "a.isdecimal()"
   ]
  },
  {
   "cell_type": "code",
   "execution_count": 50,
   "id": "fc52d3f5",
   "metadata": {},
   "outputs": [
    {
     "data": {
      "text/plain": [
       "True"
      ]
     },
     "execution_count": 50,
     "metadata": {},
     "output_type": "execute_result"
    }
   ],
   "source": [
    "'22'.isdecimal()"
   ]
  },
  {
   "cell_type": "code",
   "execution_count": 51,
   "id": "e34978c0",
   "metadata": {},
   "outputs": [
    {
     "data": {
      "text/plain": [
       "False"
      ]
     },
     "execution_count": 51,
     "metadata": {},
     "output_type": "execute_result"
    }
   ],
   "source": [
    "\"hello universe\".isidentifier()\n",
    "# here space is there in between hello and world so it is not valid identifier"
   ]
  },
  {
   "cell_type": "code",
   "execution_count": 52,
   "id": "de60ef91",
   "metadata": {},
   "outputs": [
    {
     "data": {
      "text/plain": [
       "True"
      ]
     },
     "execution_count": 52,
     "metadata": {},
     "output_type": "execute_result"
    }
   ],
   "source": [
    "\"hello_universe\".isidentifier()"
   ]
  },
  {
   "cell_type": "code",
   "execution_count": 53,
   "id": "6d69bf57",
   "metadata": {},
   "outputs": [
    {
     "data": {
      "text/plain": [
       "False"
      ]
     },
     "execution_count": 53,
     "metadata": {},
     "output_type": "execute_result"
    }
   ],
   "source": [
    "'Trepy29'.isdigit()"
   ]
  },
  {
   "cell_type": "code",
   "execution_count": 54,
   "id": "756d7441",
   "metadata": {},
   "outputs": [
    {
     "data": {
      "text/plain": [
       "<function str.isdigit()>"
      ]
     },
     "execution_count": 54,
     "metadata": {},
     "output_type": "execute_result"
    }
   ],
   "source": [
    "'29082023'.isdigit"
   ]
  },
  {
   "cell_type": "code",
   "execution_count": 55,
   "id": "1ba0f8c3",
   "metadata": {},
   "outputs": [
    {
     "data": {
      "text/plain": [
       "True"
      ]
     },
     "execution_count": 55,
     "metadata": {},
     "output_type": "execute_result"
    }
   ],
   "source": [
    "'29082023'.isdigit()"
   ]
  },
  {
   "cell_type": "code",
   "execution_count": 57,
   "id": "030d0a36",
   "metadata": {},
   "outputs": [
    {
     "data": {
      "text/plain": [
       "['time', 'is', 'most', 'valuable', 'than', 'anything', 'in', 'the', 'universe']"
      ]
     },
     "execution_count": 57,
     "metadata": {},
     "output_type": "execute_result"
    }
   ],
   "source": [
    "s='time is most valuable than anything in the universe'\n",
    "s.split()\n",
    "# Return a list of the words in the string, using sep as the delimiter string."
   ]
  },
  {
   "cell_type": "code",
   "execution_count": 59,
   "id": "bf6cd035",
   "metadata": {},
   "outputs": [
    {
     "data": {
      "text/plain": [
       "['t', 'me ', 's most valuable than anyth', 'ng ', 'n the un', 'verse']"
      ]
     },
     "execution_count": 59,
     "metadata": {},
     "output_type": "execute_result"
    }
   ],
   "source": [
    "s.split('i')  # Here 'i' is the delimiter"
   ]
  },
  {
   "cell_type": "code",
   "execution_count": 60,
   "id": "7e99ca59",
   "metadata": {},
   "outputs": [
    {
     "data": {
      "text/plain": [
       "['hello', 'universe']"
      ]
     },
     "execution_count": 60,
     "metadata": {},
     "output_type": "execute_result"
    }
   ],
   "source": [
    "'hello,universe'.split(',')"
   ]
  },
  {
   "cell_type": "code",
   "execution_count": 64,
   "id": "6491e48a",
   "metadata": {},
   "outputs": [
    {
     "data": {
      "text/plain": [
       "'timeismostvaluablethananythingintheuniverse'"
      ]
     },
     "execution_count": 64,
     "metadata": {},
     "output_type": "execute_result"
    }
   ],
   "source": [
    "# it is a reverse of split function.it concatinate multiple strings.\n",
    "''.join(['time', 'is', 'most', 'valuable', 'than', 'anything', 'in', 'the', 'universe'])"
   ]
  },
  {
   "cell_type": "code",
   "execution_count": 65,
   "id": "235e785b",
   "metadata": {},
   "outputs": [
    {
     "data": {
      "text/plain": [
       "'time is most valuable than anything in the universe'"
      ]
     },
     "execution_count": 65,
     "metadata": {},
     "output_type": "execute_result"
    }
   ],
   "source": [
    "' '.join(['time', 'is', 'most', 'valuable', 'than', 'anything', 'in', 'the', 'universe'])"
   ]
  },
  {
   "cell_type": "code",
   "execution_count": 66,
   "id": "05b2d8d1",
   "metadata": {},
   "outputs": [
    {
     "data": {
      "text/plain": [
       "'time/is/most/valuable/than/anything/in/the/universe'"
      ]
     },
     "execution_count": 66,
     "metadata": {},
     "output_type": "execute_result"
    }
   ],
   "source": [
    "'/'.join(['time', 'is', 'most', 'valuable', 'than', 'anything', 'in', 'the', 'universe'])"
   ]
  },
  {
   "cell_type": "code",
   "execution_count": 67,
   "id": "b0d1391d",
   "metadata": {},
   "outputs": [
    {
     "name": "stdout",
     "output_type": "stream",
     "text": [
      "        ravi      \n"
     ]
    }
   ],
   "source": [
    "s=\"        ravi      \"\n",
    "print(s)"
   ]
  },
  {
   "cell_type": "code",
   "execution_count": 69,
   "id": "7cbb5328",
   "metadata": {},
   "outputs": [
    {
     "data": {
      "text/plain": [
       "'ravi'"
      ]
     },
     "execution_count": 69,
     "metadata": {},
     "output_type": "execute_result"
    }
   ],
   "source": [
    "# The strip() method removes the leading and trailing white space in the string.\n",
    "s.strip()"
   ]
  },
  {
   "cell_type": "code",
   "execution_count": 73,
   "id": "6a83194a",
   "metadata": {},
   "outputs": [
    {
     "data": {
      "text/plain": [
       "'        ravi      '"
      ]
     },
     "execution_count": 73,
     "metadata": {},
     "output_type": "execute_result"
    }
   ],
   "source": [
    "s"
   ]
  },
  {
   "cell_type": "code",
   "execution_count": 74,
   "id": "842b415d",
   "metadata": {},
   "outputs": [
    {
     "data": {
      "text/plain": [
       "'ravi      '"
      ]
     },
     "execution_count": 74,
     "metadata": {},
     "output_type": "execute_result"
    }
   ],
   "source": [
    "s.lstrip()  # it removes leading whitespace"
   ]
  },
  {
   "cell_type": "code",
   "execution_count": 76,
   "id": "d1daf0ce",
   "metadata": {},
   "outputs": [
    {
     "data": {
      "text/plain": [
       "'        ravi'"
      ]
     },
     "execution_count": 76,
     "metadata": {},
     "output_type": "execute_result"
    }
   ],
   "source": [
    "s.rstrip() # it removes trailing whitespace"
   ]
  },
  {
   "cell_type": "code",
   "execution_count": null,
   "id": "d9d2bf1c",
   "metadata": {},
   "outputs": [],
   "source": []
  },
  {
   "cell_type": "code",
   "execution_count": 71,
   "id": "4bd86734",
   "metadata": {},
   "outputs": [
    {
     "data": {
      "text/plain": [
       "'Tatiriddy Ravi'"
      ]
     },
     "execution_count": 71,
     "metadata": {},
     "output_type": "execute_result"
    }
   ],
   "source": [
    "# The replace() method replaces a string with another string\n",
    "r='Tatireddy Rave'\n",
    "r.replace('e','i')"
   ]
  },
  {
   "cell_type": "code",
   "execution_count": 72,
   "id": "9d9d69bc",
   "metadata": {},
   "outputs": [
    {
     "data": {
      "text/plain": [
       "'Tatireddy Eshwar Prasadh Reddy'"
      ]
     },
     "execution_count": 72,
     "metadata": {},
     "output_type": "execute_result"
    }
   ],
   "source": [
    "'Tatireddy Ravi'.replace('Ravi','Eshwar Prasadh Reddy')"
   ]
  },
  {
   "cell_type": "code",
   "execution_count": null,
   "id": "c25977fe",
   "metadata": {},
   "outputs": [],
   "source": []
  },
  {
   "cell_type": "markdown",
   "id": "84f22e13",
   "metadata": {},
   "source": [
    "## List\n",
    "- In python,list is a built-in-data structure that allowes us to store and organize collection of data. Lists are ordered and mutable(changeable). Lists can contain elements of different data type (heterogeneous data) and allow duplicate elements.They are one of the most frequently used data structure in python due to their flexibility and versetility.\n",
    "- Lists are created by using either **list()** constructor or square brackets **'[  ]'**, which contain sequence of values separated by comma. \n",
    "- array can store homogeneous data where as list can store heterogeneous data.\n"
   ]
  },
  {
   "cell_type": "code",
   "execution_count": 3,
   "id": "563c3cdc",
   "metadata": {},
   "outputs": [],
   "source": [
    "# to know more about list run below code\n",
    "\n",
    "list?"
   ]
  },
  {
   "cell_type": "markdown",
   "id": "286716fe",
   "metadata": {},
   "source": [
    "### Creating a list"
   ]
  },
  {
   "cell_type": "markdown",
   "id": "9421bf18",
   "metadata": {},
   "source": [
    "- create list using square brackets"
   ]
  },
  {
   "cell_type": "code",
   "execution_count": 20,
   "id": "ea086951",
   "metadata": {},
   "outputs": [
    {
     "name": "stdout",
     "output_type": "stream",
     "text": [
      "[]\n"
     ]
    }
   ],
   "source": [
    "list1=[]\n",
    "print(list1)"
   ]
  },
  {
   "cell_type": "code",
   "execution_count": 21,
   "id": "de0f2f25",
   "metadata": {},
   "outputs": [
    {
     "data": {
      "text/plain": [
       "list"
      ]
     },
     "execution_count": 21,
     "metadata": {},
     "output_type": "execute_result"
    }
   ],
   "source": [
    "type(list1)"
   ]
  },
  {
   "cell_type": "code",
   "execution_count": 16,
   "id": "46672cb3",
   "metadata": {},
   "outputs": [
    {
     "name": "stdout",
     "output_type": "stream",
     "text": [
      "<class 'list'> [1, 2, 3, 4, 5]\n"
     ]
    }
   ],
   "source": [
    "# list with homogeneous data.\n",
    "list2=[1,2,3,4,5]\n",
    "print(type(list2),list2)"
   ]
  },
  {
   "cell_type": "code",
   "execution_count": 17,
   "id": "2334d8a1",
   "metadata": {},
   "outputs": [
    {
     "name": "stdout",
     "output_type": "stream",
     "text": [
      "<class 'list'> ['Hello universe', 123, 45.6, (7+8j), True]\n"
     ]
    }
   ],
   "source": [
    "# List with heterogeneous data.\n",
    "list3=['Hello universe',123,45.6,7+8j,True]\n",
    "print(type(list3),list3)"
   ]
  },
  {
   "cell_type": "markdown",
   "id": "96b894e1",
   "metadata": {},
   "source": [
    "- Creating list using list() constructor"
   ]
  },
  {
   "cell_type": "code",
   "execution_count": 19,
   "id": "70328ff4",
   "metadata": {},
   "outputs": [
    {
     "name": "stdout",
     "output_type": "stream",
     "text": [
      "[]\n"
     ]
    }
   ],
   "source": [
    "list4=list()\n",
    "print(list4)"
   ]
  },
  {
   "cell_type": "code",
   "execution_count": 22,
   "id": "6b0bd7c3",
   "metadata": {},
   "outputs": [
    {
     "data": {
      "text/plain": [
       "list"
      ]
     },
     "execution_count": 22,
     "metadata": {},
     "output_type": "execute_result"
    }
   ],
   "source": [
    "type(list4)"
   ]
  },
  {
   "cell_type": "code",
   "execution_count": 23,
   "id": "7d29bc6d",
   "metadata": {},
   "outputs": [
    {
     "name": "stdout",
     "output_type": "stream",
     "text": [
      "['R', 'a', 'v', 'i']\n"
     ]
    }
   ],
   "source": [
    "list5=list(('Ravi'))\n",
    "print(list5)"
   ]
  },
  {
   "cell_type": "code",
   "execution_count": 25,
   "id": "c0a1af18",
   "metadata": {},
   "outputs": [
    {
     "name": "stdout",
     "output_type": "stream",
     "text": [
      "['apples', 'oranges', 'bananas', 'grapes']\n"
     ]
    }
   ],
   "source": [
    "# note the double round-brackets\n",
    "fruits=list(('apples','oranges','bananas','grapes'))\n",
    "print(fruits)"
   ]
  },
  {
   "cell_type": "code",
   "execution_count": 26,
   "id": "42db51ea",
   "metadata": {},
   "outputs": [
    {
     "name": "stdout",
     "output_type": "stream",
     "text": [
      "['apples', 'oranges', 'bananas', 'grapes', 'apples', 'oranges']\n"
     ]
    }
   ],
   "source": [
    "# Lists allow duplicate values\n",
    "fruits=list(('apples','oranges','bananas','grapes','apples','oranges'))\n",
    "print(fruits)"
   ]
  },
  {
   "cell_type": "markdown",
   "id": "0095a72a",
   "metadata": {},
   "source": [
    "### List length\n",
    "- You can get the length of a list using the **len()** function."
   ]
  },
  {
   "cell_type": "code",
   "execution_count": 27,
   "id": "6673ea66",
   "metadata": {},
   "outputs": [
    {
     "data": {
      "text/plain": [
       "6"
      ]
     },
     "execution_count": 27,
     "metadata": {},
     "output_type": "execute_result"
    }
   ],
   "source": [
    "len(fruits)"
   ]
  },
  {
   "cell_type": "markdown",
   "id": "5227186d",
   "metadata": {},
   "source": [
    "### Multi-dimensional list\n",
    "- A multidimensional list (also known as a nested list) is a list that contains other lists as its elements. This concept allows you to create a structure resembling a matrix or a grid, where each element can itself be a list."
   ]
  },
  {
   "cell_type": "code",
   "execution_count": 31,
   "id": "735548cb",
   "metadata": {},
   "outputs": [
    {
     "name": "stdout",
     "output_type": "stream",
     "text": [
      "[[1, 2, 3], [4, 5, 6], [7, 8, 9]]\n"
     ]
    }
   ],
   "source": [
    "matrix = [\n",
    "    [1, 2, 3],\n",
    "    [4, 5, 6],\n",
    "    [7, 8, 9]\n",
    "]\n",
    "\n",
    "print(matrix)\n"
   ]
  },
  {
   "cell_type": "code",
   "execution_count": 32,
   "id": "c7f3fda8",
   "metadata": {},
   "outputs": [
    {
     "name": "stdout",
     "output_type": "stream",
     "text": [
      "6\n"
     ]
    }
   ],
   "source": [
    "print(matrix[1][2])  # Accessing the element at row 1, column 2 (value 6)"
   ]
  },
  {
   "cell_type": "code",
   "execution_count": 34,
   "id": "59e7ccf0",
   "metadata": {},
   "outputs": [
    {
     "name": "stdout",
     "output_type": "stream",
     "text": [
      "[[[1, 2, 3], [4, 5, 6], [7, 8, 9]], [[10, 11, 12], [13, 14, 15], [16, 17, 18]], [[19, 20, 21], [22, 23, 24], [25, 26, 27]]]\n"
     ]
    }
   ],
   "source": [
    "# Creating a 3D list (3x3x3)\n",
    "cube = [\n",
    "    [\n",
    "        [1, 2, 3],\n",
    "        [4, 5, 6],\n",
    "        [7, 8, 9]\n",
    "    ],\n",
    "    [\n",
    "        [10, 11, 12],\n",
    "        [13, 14, 15],\n",
    "        [16, 17, 18]\n",
    "    ],\n",
    "    [\n",
    "        [19, 20, 21],\n",
    "        [22, 23, 24],\n",
    "        [25, 26, 27]\n",
    "    ]\n",
    "]\n",
    "print(cube)"
   ]
  },
  {
   "cell_type": "code",
   "execution_count": 35,
   "id": "af404727",
   "metadata": {},
   "outputs": [
    {
     "data": {
      "text/plain": [
       "16"
      ]
     },
     "execution_count": 35,
     "metadata": {},
     "output_type": "execute_result"
    }
   ],
   "source": [
    "cube[1][2][0]  # Accessing the element at layer 1, row 2, column 0 (value 16)"
   ]
  },
  {
   "cell_type": "markdown",
   "id": "693af4a1",
   "metadata": {},
   "source": [
    "- Multidimensional lists are used to represent various data structures like matrices, tables, grids, and more complex datasets. They are particularly useful in situations where you need to organize data with multiple dimensions and hierarchies."
   ]
  },
  {
   "cell_type": "markdown",
   "id": "7899a909",
   "metadata": {},
   "source": [
    "### Accessing Elements:\n",
    "- List elements are accessed using indexing, where the index starts from 0 for the first element."
   ]
  },
  {
   "cell_type": "code",
   "execution_count": 36,
   "id": "a02f5be5",
   "metadata": {},
   "outputs": [
    {
     "name": "stdout",
     "output_type": "stream",
     "text": [
      "1\n"
     ]
    }
   ],
   "source": [
    "my_list = [1, 2, 3, 4, 5]\n",
    "# first_element\n",
    "print(my_list[0])\n"
   ]
  },
  {
   "cell_type": "code",
   "execution_count": 37,
   "id": "49cefcfd",
   "metadata": {},
   "outputs": [
    {
     "name": "stdout",
     "output_type": "stream",
     "text": [
      "3\n"
     ]
    }
   ],
   "source": [
    "# third_element \n",
    "print(my_list[2])"
   ]
  },
  {
   "cell_type": "code",
   "execution_count": 38,
   "id": "cfb65703",
   "metadata": {},
   "outputs": [
    {
     "name": "stdout",
     "output_type": "stream",
     "text": [
      "5\n"
     ]
    }
   ],
   "source": [
    "# last_element \n",
    "print(my_list[-1])  # Negative index counts from the end\n"
   ]
  },
  {
   "cell_type": "code",
   "execution_count": 41,
   "id": "f84aaac0",
   "metadata": {},
   "outputs": [
    {
     "ename": "IndexError",
     "evalue": "list index out of range",
     "output_type": "error",
     "traceback": [
      "\u001b[1;31m---------------------------------------------------------------------------\u001b[0m",
      "\u001b[1;31mIndexError\u001b[0m                                Traceback (most recent call last)",
      "Input \u001b[1;32mIn [41]\u001b[0m, in \u001b[0;36m<cell line: 1>\u001b[1;34m()\u001b[0m\n\u001b[1;32m----> 1\u001b[0m \u001b[38;5;28mprint\u001b[39m(\u001b[43mmy_list\u001b[49m\u001b[43m[\u001b[49m\u001b[38;5;241;43m8\u001b[39;49m\u001b[43m]\u001b[49m)\n",
      "\u001b[1;31mIndexError\u001b[0m: list index out of range"
     ]
    }
   ],
   "source": [
    "print(my_list[8]) # we will get an index error because the given index is out of range"
   ]
  },
  {
   "cell_type": "code",
   "execution_count": 42,
   "id": "28e1c4e4",
   "metadata": {},
   "outputs": [
    {
     "ename": "IndexError",
     "evalue": "list index out of range",
     "output_type": "error",
     "traceback": [
      "\u001b[1;31m---------------------------------------------------------------------------\u001b[0m",
      "\u001b[1;31mIndexError\u001b[0m                                Traceback (most recent call last)",
      "Input \u001b[1;32mIn [42]\u001b[0m, in \u001b[0;36m<cell line: 1>\u001b[1;34m()\u001b[0m\n\u001b[1;32m----> 1\u001b[0m \u001b[38;5;28mprint\u001b[39m(\u001b[43mmy_list\u001b[49m\u001b[43m[\u001b[49m\u001b[38;5;241;43m-\u001b[39;49m\u001b[38;5;241;43m6\u001b[39;49m\u001b[43m]\u001b[49m)\n",
      "\u001b[1;31mIndexError\u001b[0m: list index out of range"
     ]
    }
   ],
   "source": [
    "print(my_list[-6])"
   ]
  },
  {
   "cell_type": "markdown",
   "id": "c05b0cb2",
   "metadata": {},
   "source": [
    "### Slicing:\n",
    "- You can extract a portion of a list using slicing. The syntax is **list[start:stop:step]**, where **start** is inclusive, **stop** is exclusive, and **step** specifies the interval."
   ]
  },
  {
   "cell_type": "markdown",
   "id": "2b633ccb",
   "metadata": {},
   "source": [
    "#### Positive indexing\n",
    "- the index starts from 0 for the first element."
   ]
  },
  {
   "cell_type": "code",
   "execution_count": 39,
   "id": "f1ff97e0",
   "metadata": {},
   "outputs": [
    {
     "name": "stdout",
     "output_type": "stream",
     "text": [
      "[2, 3, 4]\n"
     ]
    }
   ],
   "source": [
    "print(my_list[1:4])  # Elements at index 1, 2, 3"
   ]
  },
  {
   "cell_type": "code",
   "execution_count": 40,
   "id": "23bdb7f4",
   "metadata": {},
   "outputs": [
    {
     "name": "stdout",
     "output_type": "stream",
     "text": [
      "[1, 3, 5]\n"
     ]
    }
   ],
   "source": [
    "print(my_list[::2])  # Elements with a step of 2"
   ]
  },
  {
   "cell_type": "code",
   "execution_count": 43,
   "id": "408da95a",
   "metadata": {},
   "outputs": [
    {
     "name": "stdout",
     "output_type": "stream",
     "text": [
      "['oranges', 80, 'bananas']\n"
     ]
    }
   ],
   "source": [
    "# Return the third, fourth, and fifth item:\n",
    "fruits=['apples',50,'oranges',80,'bananas',120,'grapes',250]\n",
    "print(fruits[2:5])"
   ]
  },
  {
   "cell_type": "code",
   "execution_count": 47,
   "id": "cbbc2ab7",
   "metadata": {},
   "outputs": [
    {
     "name": "stdout",
     "output_type": "stream",
     "text": [
      "['apples', 50, 'oranges', 80, 'bananas', 120, 'grapes', 250]\n"
     ]
    }
   ],
   "source": [
    "# By leaving out the start value, the range will start at the first item:\n",
    "fruits=['apples',50,'oranges',80,'bananas',120,'grapes',250]\n",
    "print(fruits[:50])"
   ]
  },
  {
   "cell_type": "code",
   "execution_count": 45,
   "id": "f2c43b60",
   "metadata": {},
   "outputs": [
    {
     "name": "stdout",
     "output_type": "stream",
     "text": [
      "['oranges', 80, 'bananas', 120, 'grapes', 250]\n"
     ]
    }
   ],
   "source": [
    "# By leaving out the end value, the range will go on to the end of the list:\n",
    "fruits=['apples',50,'oranges',80,'bananas',120,'grapes',250]\n",
    "print(fruits[2:])"
   ]
  },
  {
   "cell_type": "code",
   "execution_count": 46,
   "id": "d9c4cf7b",
   "metadata": {},
   "outputs": [
    {
     "name": "stdout",
     "output_type": "stream",
     "text": [
      "['apples', 'oranges', 'bananas', 'grapes']\n"
     ]
    }
   ],
   "source": [
    "# Elements with a step of 2\n",
    "fruits=['apples',50,'oranges',80,'bananas',120,'grapes',250]\n",
    "print(fruits[::2])"
   ]
  },
  {
   "cell_type": "markdown",
   "id": "96142e4a",
   "metadata": {},
   "source": [
    "#### Negative indexing"
   ]
  },
  {
   "cell_type": "markdown",
   "id": "8e130623",
   "metadata": {},
   "source": [
    "- Negative indexing means start from the end\n",
    "- -1 refers to the last item, -2 refers to the second last item etc."
   ]
  },
  {
   "cell_type": "code",
   "execution_count": 49,
   "id": "e20d7102",
   "metadata": {},
   "outputs": [
    {
     "name": "stdout",
     "output_type": "stream",
     "text": [
      "250\n"
     ]
    }
   ],
   "source": [
    "print(fruits[-1])"
   ]
  },
  {
   "cell_type": "code",
   "execution_count": 50,
   "id": "9c615ad9",
   "metadata": {},
   "outputs": [
    {
     "name": "stdout",
     "output_type": "stream",
     "text": [
      "apples\n"
     ]
    }
   ],
   "source": [
    "print(fruits[-len(fruits)])"
   ]
  },
  {
   "cell_type": "code",
   "execution_count": 51,
   "id": "e549e7ad",
   "metadata": {},
   "outputs": [
    {
     "name": "stdout",
     "output_type": "stream",
     "text": [
      "bananas\n"
     ]
    }
   ],
   "source": [
    "print(fruits[-4])"
   ]
  },
  {
   "cell_type": "code",
   "execution_count": 52,
   "id": "f309a395",
   "metadata": {},
   "outputs": [
    {
     "name": "stdout",
     "output_type": "stream",
     "text": [
      "['bananas', 120, 'grapes']\n"
     ]
    }
   ],
   "source": [
    "print(fruits[-4:-1])"
   ]
  },
  {
   "cell_type": "code",
   "execution_count": 53,
   "id": "74d8f507",
   "metadata": {},
   "outputs": [
    {
     "name": "stdout",
     "output_type": "stream",
     "text": [
      "[]\n"
     ]
    }
   ],
   "source": [
    "print(fruits[-1:-4:])"
   ]
  },
  {
   "cell_type": "code",
   "execution_count": 54,
   "id": "714cd975",
   "metadata": {},
   "outputs": [
    {
     "name": "stdout",
     "output_type": "stream",
     "text": [
      "[250, 'grapes', 120]\n"
     ]
    }
   ],
   "source": [
    "print(fruits[-1:-4:-1])"
   ]
  },
  {
   "cell_type": "code",
   "execution_count": null,
   "id": "96b09046",
   "metadata": {},
   "outputs": [],
   "source": []
  },
  {
   "cell_type": "code",
   "execution_count": null,
   "id": "dd434b9e",
   "metadata": {},
   "outputs": [],
   "source": []
  },
  {
   "cell_type": "code",
   "execution_count": null,
   "id": "ea0374c1",
   "metadata": {},
   "outputs": [],
   "source": []
  },
  {
   "cell_type": "code",
   "execution_count": 48,
   "id": "91c845b7",
   "metadata": {},
   "outputs": [
    {
     "name": "stdout",
     "output_type": "stream",
     "text": [
      "[250, 'grapes', 120, 'bananas', 80, 'oranges', 50, 'apples']\n"
     ]
    }
   ],
   "source": [
    "# to print in reverse direction\n",
    "print(fruits[::-1])"
   ]
  },
  {
   "cell_type": "code",
   "execution_count": 56,
   "id": "cf1eba12",
   "metadata": {},
   "outputs": [
    {
     "data": {
      "text/plain": [
       "['apples', 50, 'oranges', 80, 'bananas', 120, 'grapes', 250]"
      ]
     },
     "execution_count": 56,
     "metadata": {},
     "output_type": "execute_result"
    }
   ],
   "source": [
    "fruits"
   ]
  },
  {
   "cell_type": "code",
   "execution_count": 63,
   "id": "5736ae6c",
   "metadata": {},
   "outputs": [
    {
     "name": "stdout",
     "output_type": "stream",
     "text": [
      "apples\n",
      "oranges\n",
      "bananas\n",
      "grapes\n"
     ]
    }
   ],
   "source": [
    "# extracting perticular data type from list\n",
    "for i in fruits:\n",
    "    if type(i)==str:\n",
    "        print(i)"
   ]
  },
  {
   "cell_type": "code",
   "execution_count": null,
   "id": "e45f45fd",
   "metadata": {},
   "outputs": [],
   "source": []
  },
  {
   "cell_type": "code",
   "execution_count": null,
   "id": "822a28db",
   "metadata": {},
   "outputs": [],
   "source": []
  },
  {
   "cell_type": "code",
   "execution_count": null,
   "id": "1b0f1d7c",
   "metadata": {},
   "outputs": [],
   "source": []
  },
  {
   "cell_type": "code",
   "execution_count": null,
   "id": "e73b8058",
   "metadata": {},
   "outputs": [],
   "source": []
  },
  {
   "cell_type": "code",
   "execution_count": null,
   "id": "08450796",
   "metadata": {},
   "outputs": [],
   "source": []
  },
  {
   "cell_type": "code",
   "execution_count": null,
   "id": "11137358",
   "metadata": {},
   "outputs": [],
   "source": []
  },
  {
   "cell_type": "code",
   "execution_count": null,
   "id": "893d7a79",
   "metadata": {},
   "outputs": [],
   "source": []
  },
  {
   "cell_type": "code",
   "execution_count": null,
   "id": "e54ea060",
   "metadata": {},
   "outputs": [],
   "source": []
  },
  {
   "cell_type": "code",
   "execution_count": null,
   "id": "7d173842",
   "metadata": {},
   "outputs": [],
   "source": []
  },
  {
   "cell_type": "code",
   "execution_count": null,
   "id": "d51fb9a7",
   "metadata": {},
   "outputs": [],
   "source": []
  },
  {
   "cell_type": "code",
   "execution_count": null,
   "id": "b1fd7ca1",
   "metadata": {},
   "outputs": [],
   "source": []
  },
  {
   "cell_type": "code",
   "execution_count": null,
   "id": "e21bc202",
   "metadata": {},
   "outputs": [],
   "source": []
  },
  {
   "cell_type": "code",
   "execution_count": null,
   "id": "29f52165",
   "metadata": {},
   "outputs": [],
   "source": []
  },
  {
   "cell_type": "code",
   "execution_count": null,
   "id": "7d49969a",
   "metadata": {},
   "outputs": [],
   "source": []
  },
  {
   "cell_type": "code",
   "execution_count": null,
   "id": "d91d0e5b",
   "metadata": {},
   "outputs": [],
   "source": []
  },
  {
   "cell_type": "code",
   "execution_count": null,
   "id": "7f91c823",
   "metadata": {},
   "outputs": [],
   "source": []
  },
  {
   "cell_type": "code",
   "execution_count": null,
   "id": "ef1f4eff",
   "metadata": {},
   "outputs": [],
   "source": []
  },
  {
   "cell_type": "code",
   "execution_count": null,
   "id": "7a642471",
   "metadata": {},
   "outputs": [],
   "source": []
  },
  {
   "cell_type": "code",
   "execution_count": null,
   "id": "3386fe82",
   "metadata": {},
   "outputs": [],
   "source": []
  },
  {
   "cell_type": "markdown",
   "id": "2829c489",
   "metadata": {},
   "source": [
    "### Set\n",
    "- A set is a built-in data structure in Python that represents an unordered collection of unique elements. Sets are useful when you want to store a collection of items while ensuring that each item appears only once. Sets are commonly used for membership testing, removing duplicates from sequences, and performing mathematical operations like union, intersection, and difference.A set is a collection which is unordered, unchangeable*, and unindexed.\n"
   ]
  },
  {
   "cell_type": "code",
   "execution_count": null,
   "id": "4b70ec66",
   "metadata": {},
   "outputs": [],
   "source": []
  },
  {
   "cell_type": "code",
   "execution_count": null,
   "id": "848d3201",
   "metadata": {},
   "outputs": [],
   "source": []
  },
  {
   "cell_type": "code",
   "execution_count": null,
   "id": "6b60e6a2",
   "metadata": {},
   "outputs": [],
   "source": []
  },
  {
   "cell_type": "code",
   "execution_count": null,
   "id": "3cbad964",
   "metadata": {},
   "outputs": [],
   "source": []
  },
  {
   "cell_type": "markdown",
   "id": "8d25804e",
   "metadata": {},
   "source": [
    "### Dictionary\n",
    "- In python, dictionary is a built-in-data structure that stores data values in key value pairs. Tuples are ordered and changeable(mutable) and not allow duplicates values.The values in dictionary items can be of any data type.\n",
    "- Dictionaries are created by using **dict()** constructor or curly brackets **'{ }'** and have keys and values."
   ]
  },
  {
   "cell_type": "markdown",
   "id": "96a7d6a8",
   "metadata": {},
   "source": [
    "#### Creating dictionary using curly bracket.\n"
   ]
  },
  {
   "cell_type": "code",
   "execution_count": 8,
   "id": "fb2b8659",
   "metadata": {},
   "outputs": [
    {
     "data": {
      "text/plain": [
       "dict"
      ]
     },
     "execution_count": 8,
     "metadata": {},
     "output_type": "execute_result"
    }
   ],
   "source": [
    "my_dict={}\n",
    "type(my_dict)"
   ]
  },
  {
   "cell_type": "code",
   "execution_count": 9,
   "id": "c5316ee0",
   "metadata": {},
   "outputs": [
    {
     "data": {
      "text/plain": [
       "dict"
      ]
     },
     "execution_count": 9,
     "metadata": {},
     "output_type": "execute_result"
    }
   ],
   "source": [
    "d={}\n",
    "type(d)"
   ]
  },
  {
   "cell_type": "code",
   "execution_count": 10,
   "id": "de48dfd7",
   "metadata": {},
   "outputs": [
    {
     "data": {
      "text/plain": [
       "set"
      ]
     },
     "execution_count": 10,
     "metadata": {},
     "output_type": "execute_result"
    }
   ],
   "source": [
    "d={1,2,3}\n",
    "type(d)"
   ]
  },
  {
   "cell_type": "code",
   "execution_count": 4,
   "id": "509083ea",
   "metadata": {},
   "outputs": [],
   "source": [
    "d={5:\"ravi\"}"
   ]
  },
  {
   "cell_type": "code",
   "execution_count": 5,
   "id": "c319f803",
   "metadata": {},
   "outputs": [
    {
     "name": "stdout",
     "output_type": "stream",
     "text": [
      "{'key1': 16295, 'key2': 'ravi', 'key3': [1, 3, 2, 5, 4]}\n"
     ]
    }
   ],
   "source": [
    "d1={\"key1\":16295,\"key2\":\"ravi\",\"key3\":[1,3,2,5,4]}\n",
    "print(d1)"
   ]
  },
  {
   "cell_type": "markdown",
   "id": "a81a8b04",
   "metadata": {},
   "source": [
    "#### Creating dictionary using dict() constructor"
   ]
  },
  {
   "cell_type": "code",
   "execution_count": 11,
   "id": "b0f214f6",
   "metadata": {},
   "outputs": [
    {
     "ename": "SyntaxError",
     "evalue": "invalid syntax (580445723.py, line 1)",
     "output_type": "error",
     "traceback": [
      "\u001b[1;36m  Input \u001b[1;32mIn [11]\u001b[1;36m\u001b[0m\n\u001b[1;33m    d2=dict((key1=16295,key2=\"ravi\",key3=[1,3,2,5,4]))\u001b[0m\n\u001b[1;37m                 ^\u001b[0m\n\u001b[1;31mSyntaxError\u001b[0m\u001b[1;31m:\u001b[0m invalid syntax\n"
     ]
    }
   ],
   "source": [
    "d2=dict((key1=16295,key2=\"ravi\",key3=[1,3,2,5,4]))\n",
    "print(d2)"
   ]
  },
  {
   "cell_type": "code",
   "execution_count": 12,
   "id": "46bb506b",
   "metadata": {},
   "outputs": [
    {
     "name": "stdout",
     "output_type": "stream",
     "text": [
      "{'key1': 16295, 'key2': 'ravi', 'key3': [1, 3, 2, 5, 4]}\n"
     ]
    }
   ],
   "source": [
    "d2=dict(key1=16295,key2=\"ravi\",key3=[1,3,2,5,4])\n",
    "print(d2)"
   ]
  },
  {
   "cell_type": "code",
   "execution_count": 17,
   "id": "fe7c2c1e",
   "metadata": {},
   "outputs": [
    {
     "ename": "SyntaxError",
     "evalue": "unexpected EOF while parsing (2091544098.py, line 1)",
     "output_type": "error",
     "traceback": [
      "\u001b[1;36m  Input \u001b[1;32mIn [17]\u001b[1;36m\u001b[0m\n\u001b[1;33m    d3={#:[1,2,23.5,5+6j,True,(1,2,3)]}\u001b[0m\n\u001b[1;37m                                       ^\u001b[0m\n\u001b[1;31mSyntaxError\u001b[0m\u001b[1;31m:\u001b[0m unexpected EOF while parsing\n"
     ]
    }
   ],
   "source": [
    "d3={#:[1,2,23.5,5+6j,True,(1,2,3)]}"
   ]
  },
  {
   "cell_type": "code",
   "execution_count": 18,
   "id": "5b2e3c9b",
   "metadata": {},
   "outputs": [
    {
     "ename": "SyntaxError",
     "evalue": "invalid syntax (3045528519.py, line 1)",
     "output_type": "error",
     "traceback": [
      "\u001b[1;36m  Input \u001b[1;32mIn [18]\u001b[1;36m\u001b[0m\n\u001b[1;33m    d3={@:[1,2,23.5,5+6j,True,(1,2,3)]}\u001b[0m\n\u001b[1;37m        ^\u001b[0m\n\u001b[1;31mSyntaxError\u001b[0m\u001b[1;31m:\u001b[0m invalid syntax\n"
     ]
    }
   ],
   "source": [
    "d3={@:[1,2,23.5,5+6j,True,(1,2,3)]}"
   ]
  },
  {
   "cell_type": "code",
   "execution_count": 19,
   "id": "05cfdf7d",
   "metadata": {},
   "outputs": [
    {
     "ename": "NameError",
     "evalue": "name '_4' is not defined",
     "output_type": "error",
     "traceback": [
      "\u001b[1;31m---------------------------------------------------------------------------\u001b[0m",
      "\u001b[1;31mNameError\u001b[0m                                 Traceback (most recent call last)",
      "Input \u001b[1;32mIn [19]\u001b[0m, in \u001b[0;36m<cell line: 1>\u001b[1;34m()\u001b[0m\n\u001b[1;32m----> 1\u001b[0m d3\u001b[38;5;241m=\u001b[39m{\u001b[43m_4\u001b[49m:[\u001b[38;5;241m1\u001b[39m,\u001b[38;5;241m2\u001b[39m,\u001b[38;5;241m23.5\u001b[39m,\u001b[38;5;241m5\u001b[39m\u001b[38;5;241m+\u001b[39m\u001b[38;5;241m6\u001b[39mj,\u001b[38;5;28;01mTrue\u001b[39;00m,(\u001b[38;5;241m1\u001b[39m,\u001b[38;5;241m2\u001b[39m,\u001b[38;5;241m3\u001b[39m)]}\n",
      "\u001b[1;31mNameError\u001b[0m: name '_4' is not defined"
     ]
    }
   ],
   "source": [
    "d3={_4:[1,2,23.5,5+6j,True,(1,2,3)]}"
   ]
  },
  {
   "cell_type": "markdown",
   "id": "9c1bf3fc",
   "metadata": {},
   "source": [
    "- key does not allow the special characters\n",
    "- vulues may be list,tuple, set,primitive data type or combination of all"
   ]
  },
  {
   "cell_type": "markdown",
   "id": "35a280ff",
   "metadata": {},
   "source": [
    "- Dictionaries can have keys and values of various types, including strings, numbers, and tuples. However, keys must be immutable types (strings, numbers, tuples, etc.)"
   ]
  },
  {
   "cell_type": "code",
   "execution_count": 20,
   "id": "9dd1eea2",
   "metadata": {},
   "outputs": [],
   "source": [
    "d2={'@':[1,2,23.5,5+6j,True,(1,2,3)]}  # here it is a string so that it will allowed"
   ]
  },
  {
   "cell_type": "markdown",
   "id": "6650da50",
   "metadata": {},
   "source": [
    "- Dictionaries cannot have two items with the same key.\n",
    "- Duplicate key values will overwrite existing key values"
   ]
  },
  {
   "cell_type": "code",
   "execution_count": 21,
   "id": "3ac49257",
   "metadata": {},
   "outputs": [],
   "source": [
    "d3={\"key1\":2+3j,\"key2\":[1,2,3,4],\"key1\":\"ravi\"}"
   ]
  },
  {
   "cell_type": "code",
   "execution_count": 22,
   "id": "0a4f3c65",
   "metadata": {},
   "outputs": [
    {
     "data": {
      "text/plain": [
       "'ravi'"
      ]
     },
     "execution_count": 22,
     "metadata": {},
     "output_type": "execute_result"
    }
   ],
   "source": [
    "d3['key1']"
   ]
  },
  {
   "cell_type": "code",
   "execution_count": 23,
   "id": "8c75815f",
   "metadata": {},
   "outputs": [
    {
     "data": {
      "text/plain": [
       "{'key1': 'ravi', 'key2': [1, 2, 3, 4]}"
      ]
     },
     "execution_count": 23,
     "metadata": {},
     "output_type": "execute_result"
    }
   ],
   "source": [
    "d3"
   ]
  },
  {
   "cell_type": "code",
   "execution_count": 24,
   "id": "b601ebe4",
   "metadata": {},
   "outputs": [],
   "source": [
    "d4={\"key1\":2+3j,\"key2\":[1,2,3,4],\"key3\":2+3j}"
   ]
  },
  {
   "cell_type": "code",
   "execution_count": 25,
   "id": "a8d1572f",
   "metadata": {},
   "outputs": [
    {
     "data": {
      "text/plain": [
       "{'key1': (2+3j), 'key2': [1, 2, 3, 4], 'key3': (2+3j)}"
      ]
     },
     "execution_count": 25,
     "metadata": {},
     "output_type": "execute_result"
    }
   ],
   "source": [
    "d4  # two same values with different keyname is allow"
   ]
  },
  {
   "cell_type": "markdown",
   "id": "5b046435",
   "metadata": {},
   "source": [
    "#### Dictionary Length\n",
    "- To determine how many items a dictionary has, use the **len()** function"
   ]
  },
  {
   "cell_type": "code",
   "execution_count": 14,
   "id": "aa74cff0",
   "metadata": {},
   "outputs": [
    {
     "data": {
      "text/plain": [
       "3"
      ]
     },
     "execution_count": 14,
     "metadata": {},
     "output_type": "execute_result"
    }
   ],
   "source": [
    "len(d2)"
   ]
  },
  {
   "cell_type": "markdown",
   "id": "a1dd3c1d",
   "metadata": {},
   "source": [
    "#### Accessing Values\n",
    "- Values in a dictionary are accessed using their corresponding keys."
   ]
  },
  {
   "cell_type": "code",
   "execution_count": 13,
   "id": "dd8a072e",
   "metadata": {},
   "outputs": [
    {
     "data": {
      "text/plain": [
       "16295"
      ]
     },
     "execution_count": 13,
     "metadata": {},
     "output_type": "execute_result"
    }
   ],
   "source": [
    "d1['key1']"
   ]
  },
  {
   "cell_type": "markdown",
   "id": "112ace0a",
   "metadata": {},
   "source": [
    "- There is also a method called **get()** that will give you the same result"
   ]
  },
  {
   "cell_type": "code",
   "execution_count": 15,
   "id": "9cb07bc4",
   "metadata": {},
   "outputs": [
    {
     "data": {
      "text/plain": [
       "'ravi'"
      ]
     },
     "execution_count": 15,
     "metadata": {},
     "output_type": "execute_result"
    }
   ],
   "source": [
    "d2.get('key2')"
   ]
  },
  {
   "cell_type": "code",
   "execution_count": 26,
   "id": "a49c8bc5",
   "metadata": {},
   "outputs": [],
   "source": [
    "# You can create dictionaries within dictionaries to represent more complex data structures.\n",
    "d5={\"name\":\"Tatireddy Reavi\",\"mob_no\":123456789,\"mail_id\":\"newage.ravieee@gmail.com\",\n",
    "   \"key1\":[1,2,3,5],\"key2\":(2,5,8,7),\"key3\":{1,2,2,1,3,3,3,5,4,4,6},\"key4\":{\"a\":2,\"b\":6,\"c\":4}}"
   ]
  },
  {
   "cell_type": "code",
   "execution_count": 27,
   "id": "b0cf414e",
   "metadata": {},
   "outputs": [
    {
     "name": "stdout",
     "output_type": "stream",
     "text": [
      "{'name': 'Tatireddy Reavi', 'mob_no': 123456789, 'mail_id': 'newage.ravieee@gmail.com', 'key1': [1, 2, 3, 5], 'key2': (2, 5, 8, 7), 'key3': {1, 2, 3, 4, 5, 6}, 'key4': {'a': 2, 'b': 6, 'c': 4}}\n"
     ]
    }
   ],
   "source": [
    "print(d5)"
   ]
  },
  {
   "cell_type": "code",
   "execution_count": 28,
   "id": "03b54e99",
   "metadata": {},
   "outputs": [
    {
     "data": {
      "text/plain": [
       "{'a': 2, 'b': 6, 'c': 4}"
      ]
     },
     "execution_count": 28,
     "metadata": {},
     "output_type": "execute_result"
    }
   ],
   "source": [
    "d5['key4']"
   ]
  },
  {
   "cell_type": "code",
   "execution_count": 29,
   "id": "c29edd1b",
   "metadata": {},
   "outputs": [
    {
     "data": {
      "text/plain": [
       "2"
      ]
     },
     "execution_count": 29,
     "metadata": {},
     "output_type": "execute_result"
    }
   ],
   "source": [
    "d5['key4']['a']"
   ]
  },
  {
   "cell_type": "code",
   "execution_count": 46,
   "id": "0e52507e",
   "metadata": {},
   "outputs": [
    {
     "ename": "KeyError",
     "evalue": "'key1sdfbs'",
     "output_type": "error",
     "traceback": [
      "\u001b[1;31m---------------------------------------------------------------------------\u001b[0m",
      "\u001b[1;31mKeyError\u001b[0m                                  Traceback (most recent call last)",
      "Input \u001b[1;32mIn [46]\u001b[0m, in \u001b[0;36m<cell line: 1>\u001b[1;34m()\u001b[0m\n\u001b[1;32m----> 1\u001b[0m \u001b[43md1\u001b[49m\u001b[43m[\u001b[49m\u001b[38;5;124;43m'\u001b[39;49m\u001b[38;5;124;43mkey1sdfbs\u001b[39;49m\u001b[38;5;124;43m'\u001b[39;49m\u001b[43m]\u001b[49m\n",
      "\u001b[1;31mKeyError\u001b[0m: 'key1sdfbs'"
     ]
    }
   ],
   "source": [
    "d1['key1sdfbs']  # it give error if key is not present in a dict"
   ]
  },
  {
   "cell_type": "code",
   "execution_count": 48,
   "id": "6ae81700",
   "metadata": {},
   "outputs": [],
   "source": [
    "d1.get('key1dggs')  # it won't give error if key is not present"
   ]
  },
  {
   "cell_type": "markdown",
   "id": "a0a31542",
   "metadata": {},
   "source": [
    "### Dictionary Methods:\n",
    "- Dictionaries have various methods for performing operations, such as **.keys()**, **.values()**, and **.items()**."
   ]
  },
  {
   "cell_type": "code",
   "execution_count": 30,
   "id": "7ef55998",
   "metadata": {},
   "outputs": [
    {
     "data": {
      "text/plain": [
       "dict_keys(['name', 'mob_no', 'mail_id', 'key1', 'key2', 'key3', 'key4'])"
      ]
     },
     "execution_count": 30,
     "metadata": {},
     "output_type": "execute_result"
    }
   ],
   "source": [
    "d5.keys()  # it gives list of all the keys"
   ]
  },
  {
   "cell_type": "code",
   "execution_count": 31,
   "id": "2346e20f",
   "metadata": {},
   "outputs": [
    {
     "data": {
      "text/plain": [
       "dict_values(['Tatireddy Reavi', 123456789, 'newage.ravieee@gmail.com', [1, 2, 3, 5], (2, 5, 8, 7), {1, 2, 3, 4, 5, 6}, {'a': 2, 'b': 6, 'c': 4}])"
      ]
     },
     "execution_count": 31,
     "metadata": {},
     "output_type": "execute_result"
    }
   ],
   "source": [
    "d5.values()  # it gives list of values"
   ]
  },
  {
   "cell_type": "code",
   "execution_count": 32,
   "id": "1bffbcf5",
   "metadata": {},
   "outputs": [
    {
     "data": {
      "text/plain": [
       "dict_items([('name', 'Tatireddy Reavi'), ('mob_no', 123456789), ('mail_id', 'newage.ravieee@gmail.com'), ('key1', [1, 2, 3, 5]), ('key2', (2, 5, 8, 7)), ('key3', {1, 2, 3, 4, 5, 6}), ('key4', {'a': 2, 'b': 6, 'c': 4})])"
      ]
     },
     "execution_count": 32,
     "metadata": {},
     "output_type": "execute_result"
    }
   ],
   "source": [
    "d5.items() # it gives key-values as a list of tuples"
   ]
  },
  {
   "cell_type": "markdown",
   "id": "b312461f",
   "metadata": {},
   "source": [
    "#### Adding a new item to a dictionary"
   ]
  },
  {
   "cell_type": "code",
   "execution_count": 35,
   "id": "e91359d1",
   "metadata": {},
   "outputs": [],
   "source": [
    "d6={\"key1\":\"ravi\",\"key2\":[1,2,3]}"
   ]
  },
  {
   "cell_type": "code",
   "execution_count": 36,
   "id": "e0d88053",
   "metadata": {},
   "outputs": [],
   "source": [
    "d6[\"key3\"]=\"trepy\"  # adding new item to a dictionary"
   ]
  },
  {
   "cell_type": "code",
   "execution_count": 37,
   "id": "7e66fdac",
   "metadata": {},
   "outputs": [
    {
     "name": "stdout",
     "output_type": "stream",
     "text": [
      "{'key1': 'ravi', 'key2': [1, 2, 3], 'key3': 'trepy'}\n"
     ]
    }
   ],
   "source": [
    "print(d6)"
   ]
  },
  {
   "cell_type": "code",
   "execution_count": 38,
   "id": "7105cb27",
   "metadata": {},
   "outputs": [],
   "source": [
    "d6[\"key4\"]=(1,5,6,9)"
   ]
  },
  {
   "cell_type": "code",
   "execution_count": 39,
   "id": "99fffd98",
   "metadata": {},
   "outputs": [
    {
     "name": "stdout",
     "output_type": "stream",
     "text": [
      "{'key1': 'ravi', 'key2': [1, 2, 3], 'key3': 'trepy', 'key4': (1, 5, 6, 9)}\n"
     ]
    }
   ],
   "source": [
    "print(d6)"
   ]
  },
  {
   "cell_type": "code",
   "execution_count": 40,
   "id": "fae73d59",
   "metadata": {},
   "outputs": [],
   "source": [
    "d6[\"key1\"]=\"madhu\"  # if key is already available then it will update "
   ]
  },
  {
   "cell_type": "code",
   "execution_count": 41,
   "id": "67b7f251",
   "metadata": {},
   "outputs": [
    {
     "name": "stdout",
     "output_type": "stream",
     "text": [
      "{'key1': 'madhu', 'key2': [1, 2, 3], 'key3': 'trepy', 'key4': (1, 5, 6, 9)}\n"
     ]
    }
   ],
   "source": [
    "print(d6)"
   ]
  },
  {
   "cell_type": "markdown",
   "id": "a84f5f12",
   "metadata": {},
   "source": [
    "### Adding and Removing Items:"
   ]
  },
  {
   "cell_type": "markdown",
   "id": "6024d9ca",
   "metadata": {},
   "source": [
    "- **'.update(other_dict)'**: Updates the dictionary with key-value pairs from another dictionary."
   ]
  },
  {
   "cell_type": "code",
   "execution_count": 42,
   "id": "34d39ace",
   "metadata": {},
   "outputs": [],
   "source": [
    "d7={\"key1\":\"transients\",\"key2\":\"harmonics\"}\n",
    "d8={\"key3\":\"voltage fluctuations\",\"key4\":\"current fluctuations\"}"
   ]
  },
  {
   "cell_type": "code",
   "execution_count": 44,
   "id": "19504eb2",
   "metadata": {},
   "outputs": [],
   "source": [
    "d7.update(d8)"
   ]
  },
  {
   "cell_type": "code",
   "execution_count": 45,
   "id": "b9d5c9f0",
   "metadata": {},
   "outputs": [
    {
     "name": "stdout",
     "output_type": "stream",
     "text": [
      "{'key1': 'transients', 'key2': 'harmonics', 'key3': 'voltage fluctuations', 'key4': 'current fluctuations'}\n"
     ]
    }
   ],
   "source": [
    "print(d7)"
   ]
  },
  {
   "cell_type": "markdown",
   "id": "bb198c9f",
   "metadata": {},
   "source": [
    "- **'.pop(key)'**: Removes the key-value pair associated with the specified key and returns the value."
   ]
  },
  {
   "cell_type": "code",
   "execution_count": 47,
   "id": "70d5c3e2",
   "metadata": {},
   "outputs": [
    {
     "ename": "TypeError",
     "evalue": "unsupported operand type(s) for +: 'dict' and 'dict'",
     "output_type": "error",
     "traceback": [
      "\u001b[1;31m---------------------------------------------------------------------------\u001b[0m",
      "\u001b[1;31mTypeError\u001b[0m                                 Traceback (most recent call last)",
      "Input \u001b[1;32mIn [47]\u001b[0m, in \u001b[0;36m<cell line: 1>\u001b[1;34m()\u001b[0m\n\u001b[1;32m----> 1\u001b[0m \u001b[43md7\u001b[49m\u001b[38;5;241;43m+\u001b[39;49m\u001b[43md8\u001b[49m\n",
      "\u001b[1;31mTypeError\u001b[0m: unsupported operand type(s) for +: 'dict' and 'dict'"
     ]
    }
   ],
   "source": [
    "d7+d8   # concatenation of two dictionaries are not possible"
   ]
  },
  {
   "cell_type": "code",
   "execution_count": 49,
   "id": "48ee4915",
   "metadata": {},
   "outputs": [
    {
     "data": {
      "text/plain": [
       "'voltage fluctuations'"
      ]
     },
     "execution_count": 49,
     "metadata": {},
     "output_type": "execute_result"
    }
   ],
   "source": [
    "# The pop() method removes the specified item from the dictionary.\n",
    "d7.pop(\"key3\")"
   ]
  },
  {
   "cell_type": "code",
   "execution_count": 50,
   "id": "44ae110e",
   "metadata": {},
   "outputs": [
    {
     "name": "stdout",
     "output_type": "stream",
     "text": [
      "{'key1': 'transients', 'key2': 'harmonics', 'key4': 'current fluctuations'}\n"
     ]
    }
   ],
   "source": [
    "print(d7)"
   ]
  },
  {
   "cell_type": "markdown",
   "id": "4ec670cf",
   "metadata": {},
   "source": [
    "- **'.popitem()'**: Removes and returns an arbitrary key-value pair from the dictionary."
   ]
  },
  {
   "cell_type": "code",
   "execution_count": 52,
   "id": "8dcd8f4f",
   "metadata": {},
   "outputs": [
    {
     "ename": "TypeError",
     "evalue": "pop expected at least 1 argument, got 0",
     "output_type": "error",
     "traceback": [
      "\u001b[1;31m---------------------------------------------------------------------------\u001b[0m",
      "\u001b[1;31mTypeError\u001b[0m                                 Traceback (most recent call last)",
      "Input \u001b[1;32mIn [52]\u001b[0m, in \u001b[0;36m<cell line: 1>\u001b[1;34m()\u001b[0m\n\u001b[1;32m----> 1\u001b[0m \u001b[43md7\u001b[49m\u001b[38;5;241;43m.\u001b[39;49m\u001b[43mpop\u001b[49m\u001b[43m(\u001b[49m\u001b[43m)\u001b[49m\n",
      "\u001b[1;31mTypeError\u001b[0m: pop expected at least 1 argument, got 0"
     ]
    }
   ],
   "source": [
    "d7.pop()"
   ]
  },
  {
   "cell_type": "code",
   "execution_count": 51,
   "id": "c706f80a",
   "metadata": {},
   "outputs": [
    {
     "data": {
      "text/plain": [
       "('key4', 'current fluctuations')"
      ]
     },
     "execution_count": 51,
     "metadata": {},
     "output_type": "execute_result"
    }
   ],
   "source": [
    "d7.popitem()"
   ]
  },
  {
   "cell_type": "markdown",
   "id": "f741838d",
   "metadata": {},
   "source": [
    "- **'.clear()'**: Removes all key-value pairs from the dictionary."
   ]
  },
  {
   "cell_type": "code",
   "execution_count": 53,
   "id": "5b768536",
   "metadata": {},
   "outputs": [],
   "source": [
    "d7.clear()"
   ]
  },
  {
   "cell_type": "code",
   "execution_count": 54,
   "id": "5a6aeec9",
   "metadata": {},
   "outputs": [
    {
     "data": {
      "text/plain": [
       "{}"
      ]
     },
     "execution_count": 54,
     "metadata": {},
     "output_type": "execute_result"
    }
   ],
   "source": [
    "d7"
   ]
  },
  {
   "cell_type": "markdown",
   "id": "0acf4ae6",
   "metadata": {},
   "source": [
    "- **'.copy()'**:The copy() method returns a copy of the specified dictionary."
   ]
  },
  {
   "cell_type": "code",
   "execution_count": 55,
   "id": "4e94db40",
   "metadata": {},
   "outputs": [],
   "source": [
    "d9=d8.copy()"
   ]
  },
  {
   "cell_type": "code",
   "execution_count": 56,
   "id": "68c4372a",
   "metadata": {},
   "outputs": [
    {
     "name": "stdout",
     "output_type": "stream",
     "text": [
      "{'key3': 'voltage fluctuations', 'key4': 'current fluctuations'}\n"
     ]
    }
   ],
   "source": [
    "print(d9)"
   ]
  },
  {
   "cell_type": "markdown",
   "id": "28a7378d",
   "metadata": {},
   "source": [
    "- **'.fromkeys()'**:Returns a dictionary with the specified keys and value."
   ]
  },
  {
   "cell_type": "code",
   "execution_count": 57,
   "id": "b5f56ef1",
   "metadata": {},
   "outputs": [],
   "source": [
    "keys=(\"harmonics\",\"transients\",\"sag\",\"swell\")\n",
    "values=\"PQ_issue\"\n"
   ]
  },
  {
   "cell_type": "code",
   "execution_count": 58,
   "id": "b59b4651",
   "metadata": {},
   "outputs": [
    {
     "data": {
      "text/plain": [
       "{'harmonics': 'PQ_issue',\n",
       " 'transients': 'PQ_issue',\n",
       " 'sag': 'PQ_issue',\n",
       " 'swell': 'PQ_issue'}"
      ]
     },
     "execution_count": 58,
     "metadata": {},
     "output_type": "execute_result"
    }
   ],
   "source": [
    "d7.fromkeys(keys,values)"
   ]
  },
  {
   "cell_type": "markdown",
   "id": "82c90ad2",
   "metadata": {},
   "source": [
    "- Same example as above, but without specifying the value"
   ]
  },
  {
   "cell_type": "code",
   "execution_count": 59,
   "id": "cdda4bc5",
   "metadata": {},
   "outputs": [
    {
     "data": {
      "text/plain": [
       "{'harmonics': None, 'transients': None, 'sag': None, 'swell': None}"
      ]
     },
     "execution_count": 59,
     "metadata": {},
     "output_type": "execute_result"
    }
   ],
   "source": [
    "d7.fromkeys(keys)  #value is Optional for all keys. Default value is None"
   ]
  },
  {
   "cell_type": "markdown",
   "id": "9746659f",
   "metadata": {},
   "source": [
    "### Dictionary Comprehensions"
   ]
  },
  {
   "cell_type": "code",
   "execution_count": 61,
   "id": "acc20f23",
   "metadata": {},
   "outputs": [
    {
     "data": {
      "text/plain": [
       "{0: 0, 1: 1, 2: 4, 3: 9, 4: 16}"
      ]
     },
     "execution_count": 61,
     "metadata": {},
     "output_type": "execute_result"
    }
   ],
   "source": [
    "{x: x ** 2 for x in range(5)}\n"
   ]
  },
  {
   "cell_type": "markdown",
   "id": "3f992e89",
   "metadata": {},
   "source": [
    "### Uses of Dictionaries\n",
    "- Dictionaries are used in various scenarios, such as:\n",
    "\n",
    "    - Storing settings and configuration data.\n",
    "    - Counting occurrences of items in a sequence (using the Counter class from the collections module).\n",
    "    - Representing structured data in a format similar to JSON.\n",
    "    - Mapping keys to values, such as creating a lookup table.\n",
    "    \n",
    "- Dictionaries are highly versatile and efficient data structures for organizing and accessing data by meaningful labels (keys). They are widely used in Python programming for a variety of tasks due to their ability to represent complex relationships between data items."
   ]
  },
  {
   "cell_type": "code",
   "execution_count": null,
   "id": "cba08494",
   "metadata": {},
   "outputs": [],
   "source": []
  }
 ],
 "metadata": {
  "kernelspec": {
   "display_name": "Python 3 (ipykernel)",
   "language": "python",
   "name": "python3"
  },
  "language_info": {
   "codemirror_mode": {
    "name": "ipython",
    "version": 3
   },
   "file_extension": ".py",
   "mimetype": "text/x-python",
   "name": "python",
   "nbconvert_exporter": "python",
   "pygments_lexer": "ipython3",
   "version": "3.9.12"
  }
 },
 "nbformat": 4,
 "nbformat_minor": 5
}
